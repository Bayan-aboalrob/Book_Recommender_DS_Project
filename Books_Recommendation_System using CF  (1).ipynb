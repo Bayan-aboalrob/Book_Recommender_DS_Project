{
 "cells": [
  {
   "cell_type": "markdown",
   "id": "3a61e54a",
   "metadata": {},
   "source": [
    "# Book Recommendation System: LitWise!"
   ]
  },
  {
   "cell_type": "markdown",
   "id": "3ab9fd5a",
   "metadata": {},
   "source": [
    "In the vast world of books, one question echoes loudly: <b>\"What should I read next?\"</b> The immense library of human creation offers countless options, each book a new adventure waiting to be discovered. And that's where <b> LitWise </b> steps onto the stage—an indispensable digital companion with the remarkable ability to understand your reading preferences and unveil books that resonate with your heart.\n",
    "\n",
    "Envision a world where book recommendations feel as if they were carefully selected by an insightful friend who knows your literary inclinations like the back of their hand. LitWise, a smart book recommendation system, brings this world to life. Through the marvels of data analysis and ingenious algorithms, it captures the essence of your reading habits, favorite genres, and the stories that you were intreseted in."
   ]
  },
  {
   "cell_type": "markdown",
   "id": "db848672",
   "metadata": {},
   "source": [
    "<h3> But how does this happen?</h3>  <br> Let us commence an exploration to comprehend recommendation systems.\n",
    "\n",
    "\n",
    "Recommendation engines, a subset of machine learning, focus on allowing marketers to offer their customers relevant product recommendations in real-time. By using different algorithms and data analysis techniques, they recommend the most relevant products to a particular user. \n",
    "\n",
    "Major companies like Google, Instagram, Spotify, Amazon, Reddit, and Netflix employ recommendation systems to improve user interaction with their platforms.\n",
    "\n",
    "<h3> How do recommendation engines work? </h3>\n",
    "\n",
    "Typically, a recommendation engine processes data through the below four phases:\n",
    "\n",
    "- Collection.\n",
    "- Storing.\n",
    "- Analyzing.\n",
    "- Filtering. \n",
    "\n",
    "one of the crucial components behind the working of a product recommendation engine is the <b> recommender function </b>, which considers specific information about the user and predicts the rating that a user might assign to a product.\n",
    " \n",
    "\n",
    " \n",
    "<h4> There are mainly three types of recommendation engines:</h4>\n",
    "\n",
    " \n",
    " - Collaborative Filtering: it's based on collecting and analyzing information and predicting what they will like based on        the similarity with other users.\n",
    " \n",
    " - Content-Based Filtering: They are based on the description of an item and a profile of the user's preferred choices.\n",
    " \n",
    " - Hybrid Recommendation Systems: they are essentially the combination of diverse rating and sorting algorithms.\n",
    " \n"
   ]
  },
  {
   "cell_type": "markdown",
   "id": "cd0cbfca",
   "metadata": {},
   "source": [
    "<b>In this project </b>, we start by exploring our data to uncover its hidden insights. We then embark on an exciting journey to craft a strong book recommendation system. With precision and dedication, we'll create and evaluate various models to ensure our solution brings happiness to book enthusiasts and readers as much as possible."
   ]
  },
  {
   "cell_type": "markdown",
   "id": "b6226d3e",
   "metadata": {},
   "source": [
    "<hr> \n",
    "\n",
    "<center> <h2> EDA </h2> <center>\n",
    "    \n",
    " Let's start our EDA to explore the dataset.\n",
    "    \n",
    " In this project we are using a book-recommendation dataset from Kaggle that Collected by Cai-Nicolas Ziegler in a 4-week crawl (August / September 2004). It includes three tables as the following:\n",
    "    \n",
    "- Users \n",
    "    \n",
    " Contains the users. Note that user IDs (User-ID) have been anonymized and map to integers.Demographic data is provided    (Location, Age) if available. Otherwise, these fields contain NULL-values.\n",
    "    \n",
    "    \n",
    "- Books\n",
    "    \n",
    "  Books are identified by their respective ISBN. Moreover, some content-based information is given (Book-Title, Book-Author,     Year-Of-Publication, Publisher), obtained from Amazon Web Services. Note that in case of several authors, only the first is     provided. URLs linking to cover images are also given, appearing in three different flavours (Image-URL-S, Image-URL-M,         Image-URL-L), i.e., small, medium, large. These URLs point to the Amazon web site.\n",
    "    \n",
    "    \n",
    "- Ratings\n",
    "    \n",
    " Contains the book rating information. Ratings (Book-Rating) are either explicit, expressed on a scale from 1-10 (higher values   denoting higher appreciation), or implicit, expressed by 0.\n",
    "    \n",
    "    <b> Dataset link </b> : <a href= \"https://drive.google.com/drive/folders/1xl2bpjT0hnhT3zieazrikMU4VCWoqPfI\"> Book         Recommendation Dataset</a>"
   ]
  },
  {
   "cell_type": "markdown",
   "id": "28fcda38",
   "metadata": {},
   "source": [
    "### Setting up the enivornment:"
   ]
  },
  {
   "cell_type": "code",
   "execution_count": 235,
   "id": "50a7c3e6",
   "metadata": {},
   "outputs": [],
   "source": [
    "import pandas as pd\n",
    "import numpy as np\n",
    "import matplotlib.pyplot as plt\n",
    "import seaborn as sns\n",
    "from collections import Counter\n",
    "from pandas.api.types import is_numeric_dtype"
   ]
  },
  {
   "cell_type": "markdown",
   "id": "1196a5ac",
   "metadata": {},
   "source": [
    "### Data Loading\n",
    "\n",
    " #### Reading Book data"
   ]
  },
  {
   "cell_type": "code",
   "execution_count": 236,
   "id": "41bd96a6",
   "metadata": {},
   "outputs": [
    {
     "name": "stderr",
     "output_type": "stream",
     "text": [
      "C:\\Users\\HP\\AppData\\Local\\Temp\\ipykernel_21400\\694803224.py:2: FutureWarning: The error_bad_lines argument has been deprecated and will be removed in a future version. Use on_bad_lines in the future.\n",
      "\n",
      "\n",
      "  books = pd.read_csv(\"../Dataset/BX-Books.csv\", sep=\";\", error_bad_lines=False,encoding=\"latin-1\" )\n",
      "b'Skipping line 6452: expected 8 fields, saw 9\\nSkipping line 43667: expected 8 fields, saw 10\\nSkipping line 51751: expected 8 fields, saw 9\\n'\n",
      "b'Skipping line 92038: expected 8 fields, saw 9\\nSkipping line 104319: expected 8 fields, saw 9\\nSkipping line 121768: expected 8 fields, saw 9\\n'\n",
      "b'Skipping line 144058: expected 8 fields, saw 9\\nSkipping line 150789: expected 8 fields, saw 9\\nSkipping line 157128: expected 8 fields, saw 9\\nSkipping line 180189: expected 8 fields, saw 9\\nSkipping line 185738: expected 8 fields, saw 9\\n'\n",
      "b'Skipping line 209388: expected 8 fields, saw 9\\nSkipping line 220626: expected 8 fields, saw 9\\nSkipping line 227933: expected 8 fields, saw 11\\nSkipping line 228957: expected 8 fields, saw 10\\nSkipping line 245933: expected 8 fields, saw 9\\nSkipping line 251296: expected 8 fields, saw 9\\nSkipping line 259941: expected 8 fields, saw 9\\nSkipping line 261529: expected 8 fields, saw 9\\n'\n",
      "C:\\Users\\HP\\AppData\\Local\\Temp\\ipykernel_21400\\694803224.py:2: DtypeWarning: Columns (3) have mixed types. Specify dtype option on import or set low_memory=False.\n",
      "  books = pd.read_csv(\"../Dataset/BX-Books.csv\", sep=\";\", error_bad_lines=False,encoding=\"latin-1\" )\n"
     ]
    }
   ],
   "source": [
    "# Reading the data, specifying the semicolon (;) as the delimiter\n",
    "books = pd.read_csv(\"../Dataset/BX-Books.csv\", sep=\";\", error_bad_lines=False,encoding=\"latin-1\" )"
   ]
  },
  {
   "cell_type": "code",
   "execution_count": 237,
   "id": "e0fee0bd",
   "metadata": {},
   "outputs": [
    {
     "data": {
      "text/html": [
       "<div>\n",
       "<style scoped>\n",
       "    .dataframe tbody tr th:only-of-type {\n",
       "        vertical-align: middle;\n",
       "    }\n",
       "\n",
       "    .dataframe tbody tr th {\n",
       "        vertical-align: top;\n",
       "    }\n",
       "\n",
       "    .dataframe thead th {\n",
       "        text-align: right;\n",
       "    }\n",
       "</style>\n",
       "<table border=\"1\" class=\"dataframe\">\n",
       "  <thead>\n",
       "    <tr style=\"text-align: right;\">\n",
       "      <th></th>\n",
       "      <th>ISBN</th>\n",
       "      <th>Book-Title</th>\n",
       "      <th>Book-Author</th>\n",
       "      <th>Year-Of-Publication</th>\n",
       "      <th>Publisher</th>\n",
       "      <th>Image-URL-S</th>\n",
       "      <th>Image-URL-M</th>\n",
       "      <th>Image-URL-L</th>\n",
       "    </tr>\n",
       "  </thead>\n",
       "  <tbody>\n",
       "    <tr>\n",
       "      <th>0</th>\n",
       "      <td>0195153448</td>\n",
       "      <td>Classical Mythology</td>\n",
       "      <td>Mark P. O. Morford</td>\n",
       "      <td>2002</td>\n",
       "      <td>Oxford University Press</td>\n",
       "      <td>http://images.amazon.com/images/P/0195153448.0...</td>\n",
       "      <td>http://images.amazon.com/images/P/0195153448.0...</td>\n",
       "      <td>http://images.amazon.com/images/P/0195153448.0...</td>\n",
       "    </tr>\n",
       "    <tr>\n",
       "      <th>1</th>\n",
       "      <td>0002005018</td>\n",
       "      <td>Clara Callan</td>\n",
       "      <td>Richard Bruce Wright</td>\n",
       "      <td>2001</td>\n",
       "      <td>HarperFlamingo Canada</td>\n",
       "      <td>http://images.amazon.com/images/P/0002005018.0...</td>\n",
       "      <td>http://images.amazon.com/images/P/0002005018.0...</td>\n",
       "      <td>http://images.amazon.com/images/P/0002005018.0...</td>\n",
       "    </tr>\n",
       "    <tr>\n",
       "      <th>2</th>\n",
       "      <td>0060973129</td>\n",
       "      <td>Decision in Normandy</td>\n",
       "      <td>Carlo D'Este</td>\n",
       "      <td>1991</td>\n",
       "      <td>HarperPerennial</td>\n",
       "      <td>http://images.amazon.com/images/P/0060973129.0...</td>\n",
       "      <td>http://images.amazon.com/images/P/0060973129.0...</td>\n",
       "      <td>http://images.amazon.com/images/P/0060973129.0...</td>\n",
       "    </tr>\n",
       "    <tr>\n",
       "      <th>3</th>\n",
       "      <td>0374157065</td>\n",
       "      <td>Flu: The Story of the Great Influenza Pandemic...</td>\n",
       "      <td>Gina Bari Kolata</td>\n",
       "      <td>1999</td>\n",
       "      <td>Farrar Straus Giroux</td>\n",
       "      <td>http://images.amazon.com/images/P/0374157065.0...</td>\n",
       "      <td>http://images.amazon.com/images/P/0374157065.0...</td>\n",
       "      <td>http://images.amazon.com/images/P/0374157065.0...</td>\n",
       "    </tr>\n",
       "    <tr>\n",
       "      <th>4</th>\n",
       "      <td>0393045218</td>\n",
       "      <td>The Mummies of Urumchi</td>\n",
       "      <td>E. J. W. Barber</td>\n",
       "      <td>1999</td>\n",
       "      <td>W. W. Norton &amp;amp; Company</td>\n",
       "      <td>http://images.amazon.com/images/P/0393045218.0...</td>\n",
       "      <td>http://images.amazon.com/images/P/0393045218.0...</td>\n",
       "      <td>http://images.amazon.com/images/P/0393045218.0...</td>\n",
       "    </tr>\n",
       "  </tbody>\n",
       "</table>\n",
       "</div>"
      ],
      "text/plain": [
       "         ISBN                                         Book-Title  \\\n",
       "0  0195153448                                Classical Mythology   \n",
       "1  0002005018                                       Clara Callan   \n",
       "2  0060973129                               Decision in Normandy   \n",
       "3  0374157065  Flu: The Story of the Great Influenza Pandemic...   \n",
       "4  0393045218                             The Mummies of Urumchi   \n",
       "\n",
       "            Book-Author Year-Of-Publication                   Publisher  \\\n",
       "0    Mark P. O. Morford                2002     Oxford University Press   \n",
       "1  Richard Bruce Wright                2001       HarperFlamingo Canada   \n",
       "2          Carlo D'Este                1991             HarperPerennial   \n",
       "3      Gina Bari Kolata                1999        Farrar Straus Giroux   \n",
       "4       E. J. W. Barber                1999  W. W. Norton &amp; Company   \n",
       "\n",
       "                                         Image-URL-S  \\\n",
       "0  http://images.amazon.com/images/P/0195153448.0...   \n",
       "1  http://images.amazon.com/images/P/0002005018.0...   \n",
       "2  http://images.amazon.com/images/P/0060973129.0...   \n",
       "3  http://images.amazon.com/images/P/0374157065.0...   \n",
       "4  http://images.amazon.com/images/P/0393045218.0...   \n",
       "\n",
       "                                         Image-URL-M  \\\n",
       "0  http://images.amazon.com/images/P/0195153448.0...   \n",
       "1  http://images.amazon.com/images/P/0002005018.0...   \n",
       "2  http://images.amazon.com/images/P/0060973129.0...   \n",
       "3  http://images.amazon.com/images/P/0374157065.0...   \n",
       "4  http://images.amazon.com/images/P/0393045218.0...   \n",
       "\n",
       "                                         Image-URL-L  \n",
       "0  http://images.amazon.com/images/P/0195153448.0...  \n",
       "1  http://images.amazon.com/images/P/0002005018.0...  \n",
       "2  http://images.amazon.com/images/P/0060973129.0...  \n",
       "3  http://images.amazon.com/images/P/0374157065.0...  \n",
       "4  http://images.amazon.com/images/P/0393045218.0...  "
      ]
     },
     "execution_count": 237,
     "metadata": {},
     "output_type": "execute_result"
    }
   ],
   "source": [
    "# Retrieving top 5 views\n",
    "books.head(5)"
   ]
  },
  {
   "cell_type": "code",
   "execution_count": 238,
   "id": "514518c6",
   "metadata": {},
   "outputs": [
    {
     "name": "stdout",
     "output_type": "stream",
     "text": [
      "Number of rows :  271360\n",
      "Number of features :  8\n"
     ]
    }
   ],
   "source": [
    "print(\"Number of rows : \", books.shape[0])\n",
    "print(\"Number of features : \", books.shape[1])"
   ]
  },
  {
   "cell_type": "code",
   "execution_count": 239,
   "id": "9a0f0b76",
   "metadata": {},
   "outputs": [
    {
     "data": {
      "text/plain": [
       "Index(['ISBN', 'Book-Title', 'Book-Author', 'Year-Of-Publication', 'Publisher',\n",
       "       'Image-URL-S', 'Image-URL-M', 'Image-URL-L'],\n",
       "      dtype='object')"
      ]
     },
     "execution_count": 239,
     "metadata": {},
     "output_type": "execute_result"
    }
   ],
   "source": [
    "# Retrieving the list of features in the book df\n",
    "books.columns"
   ]
  },
  {
   "cell_type": "markdown",
   "id": "0e1d0853",
   "metadata": {},
   "source": [
    "<b> Here, we are summarizing the list of features, their data types, and the number of non-Null values in each one </b>\n",
    "\n",
    "- we notice that all features are of object type and the data is almost completed ( a very few values from some columns are null)"
   ]
  },
  {
   "cell_type": "code",
   "execution_count": 240,
   "id": "e1906e70",
   "metadata": {},
   "outputs": [
    {
     "name": "stdout",
     "output_type": "stream",
     "text": [
      "<class 'pandas.core.frame.DataFrame'>\n",
      "RangeIndex: 271360 entries, 0 to 271359\n",
      "Data columns (total 8 columns):\n",
      " #   Column               Non-Null Count   Dtype \n",
      "---  ------               --------------   ----- \n",
      " 0   ISBN                 271360 non-null  object\n",
      " 1   Book-Title           271360 non-null  object\n",
      " 2   Book-Author          271359 non-null  object\n",
      " 3   Year-Of-Publication  271360 non-null  object\n",
      " 4   Publisher            271358 non-null  object\n",
      " 5   Image-URL-S          271360 non-null  object\n",
      " 6   Image-URL-M          271360 non-null  object\n",
      " 7   Image-URL-L          271357 non-null  object\n",
      "dtypes: object(8)\n",
      "memory usage: 16.6+ MB\n"
     ]
    }
   ],
   "source": [
    "books.info()"
   ]
  },
  {
   "cell_type": "code",
   "execution_count": 241,
   "id": "26607f52",
   "metadata": {},
   "outputs": [
    {
     "data": {
      "text/plain": [
       "ISBN                   0\n",
       "Book-Title             0\n",
       "Book-Author            1\n",
       "Year-Of-Publication    0\n",
       "Publisher              2\n",
       "Image-URL-S            0\n",
       "Image-URL-M            0\n",
       "Image-URL-L            3\n",
       "dtype: int64"
      ]
     },
     "execution_count": 241,
     "metadata": {},
     "output_type": "execute_result"
    }
   ],
   "source": [
    "#checking for null_values\n",
    "books.isnull().sum()"
   ]
  },
  {
   "cell_type": "code",
   "execution_count": 242,
   "id": "8e7e235b",
   "metadata": {},
   "outputs": [
    {
     "data": {
      "text/plain": [
       "0"
      ]
     },
     "execution_count": 242,
     "metadata": {},
     "output_type": "execute_result"
    }
   ],
   "source": [
    "# checking for duplicates\n",
    "books.duplicated().sum()"
   ]
  },
  {
   "cell_type": "markdown",
   "id": "11cc8082",
   "metadata": {},
   "source": [
    "<b> The data has no duplicated rows, which indicates rows  distinctness </b>"
   ]
  },
  {
   "cell_type": "markdown",
   "id": "ed78d6b9",
   "metadata": {},
   "source": [
    "<p> Given that the data comprises three well-maintained and valid image-related features, we have chosen to \n",
    "incorporate the 'large image URLs' feature since it might have a better resolution<p> "
   ]
  },
  {
   "cell_type": "code",
   "execution_count": 243,
   "id": "a44750c1",
   "metadata": {},
   "outputs": [
    {
     "data": {
      "text/html": [
       "<div>\n",
       "<style scoped>\n",
       "    .dataframe tbody tr th:only-of-type {\n",
       "        vertical-align: middle;\n",
       "    }\n",
       "\n",
       "    .dataframe tbody tr th {\n",
       "        vertical-align: top;\n",
       "    }\n",
       "\n",
       "    .dataframe thead th {\n",
       "        text-align: right;\n",
       "    }\n",
       "</style>\n",
       "<table border=\"1\" class=\"dataframe\">\n",
       "  <thead>\n",
       "    <tr style=\"text-align: right;\">\n",
       "      <th></th>\n",
       "      <th>ISBN</th>\n",
       "      <th>Book-Title</th>\n",
       "      <th>Book-Author</th>\n",
       "      <th>Year-Of-Publication</th>\n",
       "      <th>Publisher</th>\n",
       "      <th>Image-URL-L</th>\n",
       "    </tr>\n",
       "  </thead>\n",
       "  <tbody>\n",
       "    <tr>\n",
       "      <th>0</th>\n",
       "      <td>0195153448</td>\n",
       "      <td>Classical Mythology</td>\n",
       "      <td>Mark P. O. Morford</td>\n",
       "      <td>2002</td>\n",
       "      <td>Oxford University Press</td>\n",
       "      <td>http://images.amazon.com/images/P/0195153448.0...</td>\n",
       "    </tr>\n",
       "    <tr>\n",
       "      <th>1</th>\n",
       "      <td>0002005018</td>\n",
       "      <td>Clara Callan</td>\n",
       "      <td>Richard Bruce Wright</td>\n",
       "      <td>2001</td>\n",
       "      <td>HarperFlamingo Canada</td>\n",
       "      <td>http://images.amazon.com/images/P/0002005018.0...</td>\n",
       "    </tr>\n",
       "    <tr>\n",
       "      <th>2</th>\n",
       "      <td>0060973129</td>\n",
       "      <td>Decision in Normandy</td>\n",
       "      <td>Carlo D'Este</td>\n",
       "      <td>1991</td>\n",
       "      <td>HarperPerennial</td>\n",
       "      <td>http://images.amazon.com/images/P/0060973129.0...</td>\n",
       "    </tr>\n",
       "    <tr>\n",
       "      <th>3</th>\n",
       "      <td>0374157065</td>\n",
       "      <td>Flu: The Story of the Great Influenza Pandemic...</td>\n",
       "      <td>Gina Bari Kolata</td>\n",
       "      <td>1999</td>\n",
       "      <td>Farrar Straus Giroux</td>\n",
       "      <td>http://images.amazon.com/images/P/0374157065.0...</td>\n",
       "    </tr>\n",
       "    <tr>\n",
       "      <th>4</th>\n",
       "      <td>0393045218</td>\n",
       "      <td>The Mummies of Urumchi</td>\n",
       "      <td>E. J. W. Barber</td>\n",
       "      <td>1999</td>\n",
       "      <td>W. W. Norton &amp;amp; Company</td>\n",
       "      <td>http://images.amazon.com/images/P/0393045218.0...</td>\n",
       "    </tr>\n",
       "  </tbody>\n",
       "</table>\n",
       "</div>"
      ],
      "text/plain": [
       "         ISBN                                         Book-Title  \\\n",
       "0  0195153448                                Classical Mythology   \n",
       "1  0002005018                                       Clara Callan   \n",
       "2  0060973129                               Decision in Normandy   \n",
       "3  0374157065  Flu: The Story of the Great Influenza Pandemic...   \n",
       "4  0393045218                             The Mummies of Urumchi   \n",
       "\n",
       "            Book-Author Year-Of-Publication                   Publisher  \\\n",
       "0    Mark P. O. Morford                2002     Oxford University Press   \n",
       "1  Richard Bruce Wright                2001       HarperFlamingo Canada   \n",
       "2          Carlo D'Este                1991             HarperPerennial   \n",
       "3      Gina Bari Kolata                1999        Farrar Straus Giroux   \n",
       "4       E. J. W. Barber                1999  W. W. Norton &amp; Company   \n",
       "\n",
       "                                         Image-URL-L  \n",
       "0  http://images.amazon.com/images/P/0195153448.0...  \n",
       "1  http://images.amazon.com/images/P/0002005018.0...  \n",
       "2  http://images.amazon.com/images/P/0060973129.0...  \n",
       "3  http://images.amazon.com/images/P/0374157065.0...  \n",
       "4  http://images.amazon.com/images/P/0393045218.0...  "
      ]
     },
     "execution_count": 243,
     "metadata": {},
     "output_type": "execute_result"
    }
   ],
   "source": [
    "books = books[['ISBN', 'Book-Title', 'Book-Author', 'Year-Of-Publication', 'Publisher','Image-URL-L']]\n",
    "books.head(5)"
   ]
  },
  {
   "cell_type": "markdown",
   "id": "885af1da",
   "metadata": {},
   "source": [
    "Here, we are adjusting the column names to adhere to standardized naming conventions."
   ]
  },
  {
   "cell_type": "code",
   "execution_count": 244,
   "id": "bd93b4df",
   "metadata": {},
   "outputs": [
    {
     "data": {
      "text/html": [
       "<div>\n",
       "<style scoped>\n",
       "    .dataframe tbody tr th:only-of-type {\n",
       "        vertical-align: middle;\n",
       "    }\n",
       "\n",
       "    .dataframe tbody tr th {\n",
       "        vertical-align: top;\n",
       "    }\n",
       "\n",
       "    .dataframe thead th {\n",
       "        text-align: right;\n",
       "    }\n",
       "</style>\n",
       "<table border=\"1\" class=\"dataframe\">\n",
       "  <thead>\n",
       "    <tr style=\"text-align: right;\">\n",
       "      <th></th>\n",
       "      <th>ISBN</th>\n",
       "      <th>title</th>\n",
       "      <th>author</th>\n",
       "      <th>year</th>\n",
       "      <th>publisher</th>\n",
       "      <th>img_url</th>\n",
       "    </tr>\n",
       "  </thead>\n",
       "  <tbody>\n",
       "    <tr>\n",
       "      <th>0</th>\n",
       "      <td>0195153448</td>\n",
       "      <td>Classical Mythology</td>\n",
       "      <td>Mark P. O. Morford</td>\n",
       "      <td>2002</td>\n",
       "      <td>Oxford University Press</td>\n",
       "      <td>http://images.amazon.com/images/P/0195153448.0...</td>\n",
       "    </tr>\n",
       "    <tr>\n",
       "      <th>1</th>\n",
       "      <td>0002005018</td>\n",
       "      <td>Clara Callan</td>\n",
       "      <td>Richard Bruce Wright</td>\n",
       "      <td>2001</td>\n",
       "      <td>HarperFlamingo Canada</td>\n",
       "      <td>http://images.amazon.com/images/P/0002005018.0...</td>\n",
       "    </tr>\n",
       "  </tbody>\n",
       "</table>\n",
       "</div>"
      ],
      "text/plain": [
       "         ISBN                title                author  year  \\\n",
       "0  0195153448  Classical Mythology    Mark P. O. Morford  2002   \n",
       "1  0002005018         Clara Callan  Richard Bruce Wright  2001   \n",
       "\n",
       "                 publisher                                            img_url  \n",
       "0  Oxford University Press  http://images.amazon.com/images/P/0195153448.0...  \n",
       "1    HarperFlamingo Canada  http://images.amazon.com/images/P/0002005018.0...  "
      ]
     },
     "execution_count": 244,
     "metadata": {},
     "output_type": "execute_result"
    }
   ],
   "source": [
    "# renaming features\n",
    "books.rename(columns={\n",
    "    \"Book-Title\": \"title\",\n",
    "    \"Book-Author\": \"author\",\n",
    "    \"Year-Of-Publication\": \"year\",\n",
    "    \"Publisher\": \"publisher\",\n",
    "    \"Image-URL-L\": \"img_url\"}, inplace=True)\n",
    "books.head(2)"
   ]
  },
  {
   "cell_type": "code",
   "execution_count": 245,
   "id": "b283e5a2",
   "metadata": {},
   "outputs": [
    {
     "data": {
      "text/plain": [
       "array([2002, 2001, 1991, 1999, 2000, 1993, 1996, 1988, 2004, 1998, 1994,\n",
       "       2003, 1997, 1983, 1979, 1995, 1982, 1985, 1992, 1986, 1978, 1980,\n",
       "       1952, 1987, 1990, 1981, 1989, 1984, 0, 1968, 1961, 1958, 1974,\n",
       "       1976, 1971, 1977, 1975, 1965, 1941, 1970, 1962, 1973, 1972, 1960,\n",
       "       1966, 1920, 1956, 1959, 1953, 1951, 1942, 1963, 1964, 1969, 1954,\n",
       "       1950, 1967, 2005, 1957, 1940, 1937, 1955, 1946, 1936, 1930, 2011,\n",
       "       1925, 1948, 1943, 1947, 1945, 1923, 2020, 1939, 1926, 1938, 2030,\n",
       "       1911, 1904, 1949, 1932, 1928, 1929, 1927, 1931, 1914, 2050, 1934,\n",
       "       1910, 1933, 1902, 1924, 1921, 1900, 2038, 2026, 1944, 1917, 1901,\n",
       "       2010, 1908, 1906, 1935, 1806, 2021, '2000', '1995', '1999', '2004',\n",
       "       '2003', '1990', '1994', '1986', '1989', '2002', '1981', '1993',\n",
       "       '1983', '1982', '1976', '1991', '1977', '1998', '1992', '1996',\n",
       "       '0', '1997', '2001', '1974', '1968', '1987', '1984', '1988',\n",
       "       '1963', '1956', '1970', '1985', '1978', '1973', '1980', '1979',\n",
       "       '1975', '1969', '1961', '1965', '1939', '1958', '1950', '1953',\n",
       "       '1966', '1971', '1959', '1972', '1955', '1957', '1945', '1960',\n",
       "       '1967', '1932', '1924', '1964', '2012', '1911', '1927', '1948',\n",
       "       '1962', '2006', '1952', '1940', '1951', '1931', '1954', '2005',\n",
       "       '1930', '1941', '1944', 'DK Publishing Inc', '1943', '1938',\n",
       "       '1900', '1942', '1923', '1920', '1933', 'Gallimard', '1909',\n",
       "       '1946', '2008', '1378', '2030', '1936', '1947', '2011', '2020',\n",
       "       '1919', '1949', '1922', '1897', '2024', '1376', '1926', '2037'],\n",
       "      dtype=object)"
      ]
     },
     "execution_count": 245,
     "metadata": {},
     "output_type": "execute_result"
    }
   ],
   "source": [
    "## Checking for column Year-of-publication\n",
    "books['year'].unique()"
   ]
  },
  {
   "cell_type": "markdown",
   "id": "75c37c29",
   "metadata": {},
   "source": [
    "Noticing these unique values in the dataset, it's evident that some entries for the year are in string format. To address this issue, we need to handle these string values. One common approach is to fill them with the year that has the highest frequency (mode) in the dataset."
   ]
  },
  {
   "cell_type": "code",
   "execution_count": 246,
   "id": "7593a1fd",
   "metadata": {},
   "outputs": [
    {
     "data": {
      "text/html": [
       "<div>\n",
       "<style scoped>\n",
       "    .dataframe tbody tr th:only-of-type {\n",
       "        vertical-align: middle;\n",
       "    }\n",
       "\n",
       "    .dataframe tbody tr th {\n",
       "        vertical-align: top;\n",
       "    }\n",
       "\n",
       "    .dataframe thead th {\n",
       "        text-align: right;\n",
       "    }\n",
       "</style>\n",
       "<table border=\"1\" class=\"dataframe\">\n",
       "  <thead>\n",
       "    <tr style=\"text-align: right;\">\n",
       "      <th></th>\n",
       "      <th>ISBN</th>\n",
       "      <th>title</th>\n",
       "      <th>author</th>\n",
       "      <th>year</th>\n",
       "      <th>publisher</th>\n",
       "      <th>img_url</th>\n",
       "    </tr>\n",
       "  </thead>\n",
       "  <tbody>\n",
       "    <tr>\n",
       "      <th>220731</th>\n",
       "      <td>2070426769</td>\n",
       "      <td>Peuple du ciel, suivi de 'Les Bergers\\\";Jean-M...</td>\n",
       "      <td>2003</td>\n",
       "      <td>Gallimard</td>\n",
       "      <td>http://images.amazon.com/images/P/2070426769.0...</td>\n",
       "      <td>NaN</td>\n",
       "    </tr>\n",
       "  </tbody>\n",
       "</table>\n",
       "</div>"
      ],
      "text/plain": [
       "              ISBN                                              title author  \\\n",
       "220731  2070426769  Peuple du ciel, suivi de 'Les Bergers\\\";Jean-M...   2003   \n",
       "\n",
       "             year                                          publisher img_url  \n",
       "220731  Gallimard  http://images.amazon.com/images/P/2070426769.0...     NaN  "
      ]
     },
     "execution_count": 246,
     "metadata": {},
     "output_type": "execute_result"
    }
   ],
   "source": [
    "books.loc[books['year'] == 'Gallimard',:]"
   ]
  },
  {
   "cell_type": "code",
   "execution_count": 247,
   "id": "fd89d3cb",
   "metadata": {},
   "outputs": [],
   "source": [
    "books.at[209538 ,'publisher'] = 'DK Publishing Inc'\n",
    "books.at[209538 ,'year'] = 2000\n",
    "books.at[209538 ,'title'] = 'DK Readers: Creating the X-Men, How It All Began (Level 4: Proficient Readers)'\n",
    "books.at[209538 ,'author'] = 'Michael Teitelbaum'\n",
    "\n",
    "books.at[221678 ,'publisher'] = 'DK Publishing Inc'\n",
    "books.at[221678 ,'year'] = 2000\n",
    "books.at[209538 ,'title'] = 'DK Readers: Creating the X-Men, How Comic Books Come to Life (Level 4: Proficient Readers)'\n",
    "books.at[209538 ,'author'] = 'James Buckley'\n",
    "\n",
    "books.at[220731 ,'publisher'] = 'Gallimard'\n",
    "books.at[220731 ,'year'] = '2003'\n",
    "books.at[209538 ,'title'] = 'Peuple du ciel - Suivi de Les bergers '\n",
    "books.at[209538 ,'author'] = 'Jean-Marie Gustave Le ClÃ?Â©zio'"
   ]
  },
  {
   "cell_type": "markdown",
   "id": "c2f6eb7a",
   "metadata": {},
   "source": [
    "Here, we resolve data inconsistencies in the 'books' dataset by updating year, title, and author information for specific books, ensuring data consistency and accuracy."
   ]
  },
  {
   "cell_type": "code",
   "execution_count": 248,
   "id": "ec0b45b1",
   "metadata": {},
   "outputs": [],
   "source": [
    "## Converting year of publication in Numbers\n",
    "books['year'] = books['year'].astype(int)"
   ]
  },
  {
   "cell_type": "code",
   "execution_count": 249,
   "id": "ffb65a34",
   "metadata": {},
   "outputs": [
    {
     "name": "stdout",
     "output_type": "stream",
     "text": [
      "[0, 1376, 1378, 1806, 1897, 1900, 1901, 1902, 1904, 1906, 1908, 1909, 1910, 1911, 1914, 1917, 1919, 1920, 1921, 1922, 1923, 1924, 1925, 1926, 1927, 1928, 1929, 1930, 1931, 1932, 1933, 1934, 1935, 1936, 1937, 1938, 1939, 1940, 1941, 1942, 1943, 1944, 1945, 1946, 1947, 1948, 1949, 1950, 1951, 1952, 1953, 1954, 1955, 1956, 1957, 1958, 1959, 1960, 1961, 1962, 1963, 1964, 1965, 1966, 1967, 1968, 1969, 1970, 1971, 1972, 1973, 1974, 1975, 1976, 1977, 1978, 1979, 1980, 1981, 1982, 1983, 1984, 1985, 1986, 1987, 1988, 1989, 1990, 1991, 1992, 1993, 1994, 1995, 1996, 1997, 1998, 1999, 2000, 2001, 2002, 2003, 2004, 2005, 2006, 2008, 2010, 2011, 2012, 2020, 2021, 2024, 2026, 2030, 2037, 2038, 2050]\n"
     ]
    }
   ],
   "source": [
    "print(sorted(list(books['year'].unique())))"
   ]
  },
  {
   "cell_type": "code",
   "execution_count": 250,
   "id": "29631ba4",
   "metadata": {},
   "outputs": [
    {
     "data": {
      "text/plain": [
       "[2002]"
      ]
     },
     "execution_count": 250,
     "metadata": {},
     "output_type": "execute_result"
    }
   ],
   "source": [
    "## Replacing Invalid years with max year\n",
    "count = Counter(books['year'])\n",
    "[k for k, v in count.items() if v == max(count.values())]"
   ]
  },
  {
   "cell_type": "code",
   "execution_count": 251,
   "id": "1eacc185",
   "metadata": {},
   "outputs": [],
   "source": [
    "books.loc[books['year'] > 2023, 'year'] = 2002\n",
    "books.loc[books['year'] == 0, 'year'] = 2002"
   ]
  },
  {
   "cell_type": "markdown",
   "id": "d6e4db2e",
   "metadata": {},
   "source": [
    "We are handling values representing incorrect years, including those exceeding the current year and those with zero values. These are replaced with the mode year since they represent a minority in the dataset."
   ]
  },
  {
   "cell_type": "code",
   "execution_count": 252,
   "id": "133edbeb",
   "metadata": {},
   "outputs": [
    {
     "data": {
      "text/plain": [
       "array([2002, 2001, 1991, 1999, 2000, 1993, 1996, 1988, 2004, 1998, 1994,\n",
       "       2003, 1997, 1983, 1979, 1995, 1982, 1985, 1992, 1986, 1978, 1980,\n",
       "       1952, 1987, 1990, 1981, 1989, 1984, 1968, 1961, 1958, 1974, 1976,\n",
       "       1971, 1977, 1975, 1965, 1941, 1970, 1962, 1973, 1972, 1960, 1966,\n",
       "       1920, 1956, 1959, 1953, 1951, 1942, 1963, 1964, 1969, 1954, 1950,\n",
       "       1967, 2005, 1957, 1940, 1937, 1955, 1946, 1936, 1930, 2011, 1925,\n",
       "       1948, 1943, 1947, 1945, 1923, 2020, 1939, 1926, 1938, 1911, 1904,\n",
       "       1949, 1932, 1928, 1929, 1927, 1931, 1914, 1934, 1910, 1933, 1902,\n",
       "       1924, 1921, 1900, 1944, 1917, 1901, 2010, 1908, 1906, 1935, 1806,\n",
       "       2021, 2012, 2006, 1909, 2008, 1378, 1919, 1922, 1897, 1376])"
      ]
     },
     "execution_count": 252,
     "metadata": {},
     "output_type": "execute_result"
    }
   ],
   "source": [
    "books['year'].unique()"
   ]
  },
  {
   "cell_type": "code",
   "execution_count": 253,
   "id": "f687e3ce",
   "metadata": {},
   "outputs": [
    {
     "data": {
      "text/plain": [
       "ISBN         0\n",
       "title        0\n",
       "author       1\n",
       "year         0\n",
       "publisher    2\n",
       "img_url      3\n",
       "dtype: int64"
      ]
     },
     "execution_count": 253,
     "metadata": {},
     "output_type": "execute_result"
    }
   ],
   "source": [
    "## Checking for null values\n",
    "books.isnull().sum() "
   ]
  },
  {
   "cell_type": "code",
   "execution_count": 254,
   "id": "5816e1a9",
   "metadata": {},
   "outputs": [],
   "source": [
    "# droping missing values for img_url\n",
    "books = books[books['img_url'].notna()]"
   ]
  },
  {
   "cell_type": "code",
   "execution_count": 255,
   "id": "0982bda6",
   "metadata": {},
   "outputs": [
    {
     "data": {
      "text/html": [
       "<div>\n",
       "<style scoped>\n",
       "    .dataframe tbody tr th:only-of-type {\n",
       "        vertical-align: middle;\n",
       "    }\n",
       "\n",
       "    .dataframe tbody tr th {\n",
       "        vertical-align: top;\n",
       "    }\n",
       "\n",
       "    .dataframe thead th {\n",
       "        text-align: right;\n",
       "    }\n",
       "</style>\n",
       "<table border=\"1\" class=\"dataframe\">\n",
       "  <thead>\n",
       "    <tr style=\"text-align: right;\">\n",
       "      <th></th>\n",
       "      <th>ISBN</th>\n",
       "      <th>title</th>\n",
       "      <th>author</th>\n",
       "      <th>year</th>\n",
       "      <th>publisher</th>\n",
       "      <th>img_url</th>\n",
       "    </tr>\n",
       "  </thead>\n",
       "  <tbody>\n",
       "    <tr>\n",
       "      <th>128890</th>\n",
       "      <td>193169656X</td>\n",
       "      <td>Tyrant Moon</td>\n",
       "      <td>Elaine Corvidae</td>\n",
       "      <td>2002</td>\n",
       "      <td>NaN</td>\n",
       "      <td>http://images.amazon.com/images/P/193169656X.0...</td>\n",
       "    </tr>\n",
       "    <tr>\n",
       "      <th>129037</th>\n",
       "      <td>1931696993</td>\n",
       "      <td>Finders Keepers</td>\n",
       "      <td>Linnea Sinclair</td>\n",
       "      <td>2001</td>\n",
       "      <td>NaN</td>\n",
       "      <td>http://images.amazon.com/images/P/1931696993.0...</td>\n",
       "    </tr>\n",
       "  </tbody>\n",
       "</table>\n",
       "</div>"
      ],
      "text/plain": [
       "              ISBN            title           author  year publisher  \\\n",
       "128890  193169656X      Tyrant Moon  Elaine Corvidae  2002       NaN   \n",
       "129037  1931696993  Finders Keepers  Linnea Sinclair  2001       NaN   \n",
       "\n",
       "                                                  img_url  \n",
       "128890  http://images.amazon.com/images/P/193169656X.0...  \n",
       "129037  http://images.amazon.com/images/P/1931696993.0...  "
      ]
     },
     "execution_count": 255,
     "metadata": {},
     "output_type": "execute_result"
    }
   ],
   "source": [
    "# retriveing books with missing values for publisher and author\n",
    "books.loc[books['publisher'].isnull(),:]"
   ]
  },
  {
   "cell_type": "code",
   "execution_count": 256,
   "id": "923257f3",
   "metadata": {},
   "outputs": [],
   "source": [
    "books.at[187689 ,'author'] = 'Other'\n",
    "\n",
    "books.at[128890 ,'publisher'] = 'Other'\n",
    "books.at[129037 ,'publisher'] = 'Other'"
   ]
  },
  {
   "cell_type": "markdown",
   "id": "118e3b71",
   "metadata": {},
   "source": [
    "We are creating a new category named 'Other' for both 'publisher' and 'author' fields to handle missing values and categorize them under this label."
   ]
  },
  {
   "cell_type": "code",
   "execution_count": 257,
   "id": "13f4ab14",
   "metadata": {},
   "outputs": [
    {
     "data": {
      "text/plain": [
       "ISBN         0\n",
       "title        0\n",
       "author       0\n",
       "year         0\n",
       "publisher    0\n",
       "img_url      0\n",
       "dtype: int64"
      ]
     },
     "execution_count": 257,
     "metadata": {},
     "output_type": "execute_result"
    }
   ],
   "source": [
    "books.isnull().sum() "
   ]
  },
  {
   "cell_type": "markdown",
   "id": "d1fce4b2",
   "metadata": {},
   "source": [
    "#### Reading User data"
   ]
  },
  {
   "cell_type": "code",
   "execution_count": 258,
   "id": "4bd3b3b4",
   "metadata": {},
   "outputs": [
    {
     "name": "stderr",
     "output_type": "stream",
     "text": [
      "C:\\Users\\HP\\AppData\\Local\\Temp\\ipykernel_21400\\1853820466.py:2: FutureWarning: The error_bad_lines argument has been deprecated and will be removed in a future version. Use on_bad_lines in the future.\n",
      "\n",
      "\n",
      "  users = pd.read_csv(\"../Dataset/BX-Users.csv\", sep=\";\", error_bad_lines=False,encoding=\"latin-1\" )\n"
     ]
    }
   ],
   "source": [
    "# reading users data\n",
    "users = pd.read_csv(\"../Dataset/BX-Users.csv\", sep=\";\", error_bad_lines=False,encoding=\"latin-1\" )"
   ]
  },
  {
   "cell_type": "code",
   "execution_count": 259,
   "id": "03947f22",
   "metadata": {},
   "outputs": [
    {
     "data": {
      "text/html": [
       "<div>\n",
       "<style scoped>\n",
       "    .dataframe tbody tr th:only-of-type {\n",
       "        vertical-align: middle;\n",
       "    }\n",
       "\n",
       "    .dataframe tbody tr th {\n",
       "        vertical-align: top;\n",
       "    }\n",
       "\n",
       "    .dataframe thead th {\n",
       "        text-align: right;\n",
       "    }\n",
       "</style>\n",
       "<table border=\"1\" class=\"dataframe\">\n",
       "  <thead>\n",
       "    <tr style=\"text-align: right;\">\n",
       "      <th></th>\n",
       "      <th>User-ID</th>\n",
       "      <th>Location</th>\n",
       "      <th>Age</th>\n",
       "    </tr>\n",
       "  </thead>\n",
       "  <tbody>\n",
       "    <tr>\n",
       "      <th>0</th>\n",
       "      <td>1</td>\n",
       "      <td>nyc, new york, usa</td>\n",
       "      <td>NaN</td>\n",
       "    </tr>\n",
       "    <tr>\n",
       "      <th>1</th>\n",
       "      <td>2</td>\n",
       "      <td>stockton, california, usa</td>\n",
       "      <td>18.0</td>\n",
       "    </tr>\n",
       "    <tr>\n",
       "      <th>2</th>\n",
       "      <td>3</td>\n",
       "      <td>moscow, yukon territory, russia</td>\n",
       "      <td>NaN</td>\n",
       "    </tr>\n",
       "    <tr>\n",
       "      <th>3</th>\n",
       "      <td>4</td>\n",
       "      <td>porto, v.n.gaia, portugal</td>\n",
       "      <td>17.0</td>\n",
       "    </tr>\n",
       "    <tr>\n",
       "      <th>4</th>\n",
       "      <td>5</td>\n",
       "      <td>farnborough, hants, united kingdom</td>\n",
       "      <td>NaN</td>\n",
       "    </tr>\n",
       "  </tbody>\n",
       "</table>\n",
       "</div>"
      ],
      "text/plain": [
       "   User-ID                            Location   Age\n",
       "0        1                  nyc, new york, usa   NaN\n",
       "1        2           stockton, california, usa  18.0\n",
       "2        3     moscow, yukon territory, russia   NaN\n",
       "3        4           porto, v.n.gaia, portugal  17.0\n",
       "4        5  farnborough, hants, united kingdom   NaN"
      ]
     },
     "execution_count": 259,
     "metadata": {},
     "output_type": "execute_result"
    }
   ],
   "source": [
    "users.head(5)"
   ]
  },
  {
   "cell_type": "code",
   "execution_count": 260,
   "id": "e00df559",
   "metadata": {},
   "outputs": [
    {
     "name": "stdout",
     "output_type": "stream",
     "text": [
      "Number of rows:   278858\n",
      "Number of columns :  3\n"
     ]
    }
   ],
   "source": [
    "print (\"Number of rows:  \", users.shape[0])\n",
    "print(\"Number of columns : \", users.shape[1])"
   ]
  },
  {
   "cell_type": "markdown",
   "id": "8276a9bd",
   "metadata": {},
   "source": [
    "Here, we are summarizing the users list of features with their datatypes and non-Null values counts\n",
    "\n",
    "- noticing the summary, we find that the Age feature has lots of Null values"
   ]
  },
  {
   "cell_type": "code",
   "execution_count": 261,
   "id": "a8804451",
   "metadata": {},
   "outputs": [
    {
     "name": "stdout",
     "output_type": "stream",
     "text": [
      "<class 'pandas.core.frame.DataFrame'>\n",
      "RangeIndex: 278858 entries, 0 to 278857\n",
      "Data columns (total 3 columns):\n",
      " #   Column    Non-Null Count   Dtype  \n",
      "---  ------    --------------   -----  \n",
      " 0   User-ID   278858 non-null  int64  \n",
      " 1   Location  278858 non-null  object \n",
      " 2   Age       168096 non-null  float64\n",
      "dtypes: float64(1), int64(1), object(1)\n",
      "memory usage: 6.4+ MB\n"
     ]
    }
   ],
   "source": [
    "users.info()"
   ]
  },
  {
   "cell_type": "code",
   "execution_count": 262,
   "id": "841f47fe",
   "metadata": {},
   "outputs": [
    {
     "data": {
      "text/plain": [
       "110762"
      ]
     },
     "execution_count": 262,
     "metadata": {},
     "output_type": "execute_result"
    }
   ],
   "source": [
    "# retrieving the number of null ages\n",
    "users['Age'].isnull().sum()"
   ]
  },
  {
   "cell_type": "code",
   "execution_count": 263,
   "id": "d461f5a6",
   "metadata": {},
   "outputs": [
    {
     "data": {
      "image/png": "[encoded data removed]",
      "text/plain": [
       "<Figure size 720x432 with 1 Axes>"
      ]
     },
     "metadata": {
      "needs_background": "light"
     },
     "output_type": "display_data"
    }
   ],
   "source": [
    "plt.figure(figsize=(10, 6))\n",
    "plt.hist(users['Age'], bins=50, edgecolor='k', alpha=0.7)\n",
    "plt.title('User Age Distribution')\n",
    "plt.xlabel('Age')\n",
    "plt.ylabel('Frequency')\n",
    "plt.grid(True)\n",
    "plt.show()"
   ]
  },
  {
   "cell_type": "markdown",
   "id": "1933091a",
   "metadata": {},
   "source": [
    "Noticing the plot, we find:\n",
    "- Some ages are zero while some of them are above 120, which indicates errornous data!"
   ]
  },
  {
   "cell_type": "code",
   "execution_count": 264,
   "id": "0d022c51",
   "metadata": {},
   "outputs": [
    {
     "data": {
      "text/plain": [
       "(78, 3)"
      ]
     },
     "execution_count": 264,
     "metadata": {},
     "output_type": "execute_result"
    }
   ],
   "source": [
    "# Create a new DataFrame containing users with ages larger than 120\n",
    "users_above_120 = users[users['Age'] > 120]\n",
    "users_above_120.shape\n",
    "# We have 78 users that have errornous age value(may we need to drop them ,because they are minority)"
   ]
  },
  {
   "cell_type": "code",
   "execution_count": 265,
   "id": "f5a3a088",
   "metadata": {},
   "outputs": [
    {
     "data": {
      "text/html": [
       "<div>\n",
       "<style scoped>\n",
       "    .dataframe tbody tr th:only-of-type {\n",
       "        vertical-align: middle;\n",
       "    }\n",
       "\n",
       "    .dataframe tbody tr th {\n",
       "        vertical-align: top;\n",
       "    }\n",
       "\n",
       "    .dataframe thead th {\n",
       "        text-align: right;\n",
       "    }\n",
       "</style>\n",
       "<table border=\"1\" class=\"dataframe\">\n",
       "  <thead>\n",
       "    <tr style=\"text-align: right;\">\n",
       "      <th></th>\n",
       "      <th>Age</th>\n",
       "      <th>Count</th>\n",
       "    </tr>\n",
       "  </thead>\n",
       "  <tbody>\n",
       "    <tr>\n",
       "      <th>24</th>\n",
       "      <td>24.0</td>\n",
       "      <td>5687</td>\n",
       "    </tr>\n",
       "  </tbody>\n",
       "</table>\n",
       "</div>"
      ],
      "text/plain": [
       "     Age  Count\n",
       "24  24.0   5687"
      ]
     },
     "execution_count": 265,
     "metadata": {},
     "output_type": "execute_result"
    }
   ],
   "source": [
    "users_ages_group = users.groupby(['Age']).size().reset_index(name='Count')\n",
    "common_age = users_ages_group['Count'].max()\n",
    "most_common_age = users_ages_group[users_ages_group['Count'] == common_age]\n",
    "most_common_age"
   ]
  },
  {
   "cell_type": "markdown",
   "id": "22c63d33",
   "metadata": {},
   "source": [
    "We find that most users are at the age of 24"
   ]
  },
  {
   "cell_type": "code",
   "execution_count": 266,
   "id": "940b4d7a",
   "metadata": {},
   "outputs": [
    {
     "data": {
      "text/html": [
       "<div>\n",
       "<style scoped>\n",
       "    .dataframe tbody tr th:only-of-type {\n",
       "        vertical-align: middle;\n",
       "    }\n",
       "\n",
       "    .dataframe tbody tr th {\n",
       "        vertical-align: top;\n",
       "    }\n",
       "\n",
       "    .dataframe thead th {\n",
       "        text-align: right;\n",
       "    }\n",
       "</style>\n",
       "<table border=\"1\" class=\"dataframe\">\n",
       "  <thead>\n",
       "    <tr style=\"text-align: right;\">\n",
       "      <th></th>\n",
       "      <th>Age</th>\n",
       "      <th>Count</th>\n",
       "    </tr>\n",
       "  </thead>\n",
       "  <tbody>\n",
       "    <tr>\n",
       "      <th>95</th>\n",
       "      <td>95.0</td>\n",
       "      <td>1</td>\n",
       "    </tr>\n",
       "    <tr>\n",
       "      <th>107</th>\n",
       "      <td>107.0</td>\n",
       "      <td>1</td>\n",
       "    </tr>\n",
       "    <tr>\n",
       "      <th>109</th>\n",
       "      <td>109.0</td>\n",
       "      <td>1</td>\n",
       "    </tr>\n",
       "    <tr>\n",
       "      <th>110</th>\n",
       "      <td>110.0</td>\n",
       "      <td>1</td>\n",
       "    </tr>\n",
       "    <tr>\n",
       "      <th>111</th>\n",
       "      <td>111.0</td>\n",
       "      <td>1</td>\n",
       "    </tr>\n",
       "    <tr>\n",
       "      <th>116</th>\n",
       "      <td>118.0</td>\n",
       "      <td>1</td>\n",
       "    </tr>\n",
       "    <tr>\n",
       "      <th>117</th>\n",
       "      <td>119.0</td>\n",
       "      <td>1</td>\n",
       "    </tr>\n",
       "    <tr>\n",
       "      <th>120</th>\n",
       "      <td>127.0</td>\n",
       "      <td>1</td>\n",
       "    </tr>\n",
       "    <tr>\n",
       "      <th>121</th>\n",
       "      <td>128.0</td>\n",
       "      <td>1</td>\n",
       "    </tr>\n",
       "    <tr>\n",
       "      <th>122</th>\n",
       "      <td>132.0</td>\n",
       "      <td>1</td>\n",
       "    </tr>\n",
       "    <tr>\n",
       "      <th>125</th>\n",
       "      <td>137.0</td>\n",
       "      <td>1</td>\n",
       "    </tr>\n",
       "    <tr>\n",
       "      <th>126</th>\n",
       "      <td>138.0</td>\n",
       "      <td>1</td>\n",
       "    </tr>\n",
       "    <tr>\n",
       "      <th>127</th>\n",
       "      <td>140.0</td>\n",
       "      <td>1</td>\n",
       "    </tr>\n",
       "    <tr>\n",
       "      <th>129</th>\n",
       "      <td>143.0</td>\n",
       "      <td>1</td>\n",
       "    </tr>\n",
       "    <tr>\n",
       "      <th>130</th>\n",
       "      <td>146.0</td>\n",
       "      <td>1</td>\n",
       "    </tr>\n",
       "    <tr>\n",
       "      <th>134</th>\n",
       "      <td>152.0</td>\n",
       "      <td>1</td>\n",
       "    </tr>\n",
       "    <tr>\n",
       "      <th>135</th>\n",
       "      <td>156.0</td>\n",
       "      <td>1</td>\n",
       "    </tr>\n",
       "    <tr>\n",
       "      <th>136</th>\n",
       "      <td>157.0</td>\n",
       "      <td>1</td>\n",
       "    </tr>\n",
       "    <tr>\n",
       "      <th>137</th>\n",
       "      <td>159.0</td>\n",
       "      <td>1</td>\n",
       "    </tr>\n",
       "    <tr>\n",
       "      <th>138</th>\n",
       "      <td>162.0</td>\n",
       "      <td>1</td>\n",
       "    </tr>\n",
       "    <tr>\n",
       "      <th>139</th>\n",
       "      <td>168.0</td>\n",
       "      <td>1</td>\n",
       "    </tr>\n",
       "    <tr>\n",
       "      <th>140</th>\n",
       "      <td>172.0</td>\n",
       "      <td>1</td>\n",
       "    </tr>\n",
       "    <tr>\n",
       "      <th>141</th>\n",
       "      <td>175.0</td>\n",
       "      <td>1</td>\n",
       "    </tr>\n",
       "    <tr>\n",
       "      <th>142</th>\n",
       "      <td>183.0</td>\n",
       "      <td>1</td>\n",
       "    </tr>\n",
       "    <tr>\n",
       "      <th>143</th>\n",
       "      <td>186.0</td>\n",
       "      <td>1</td>\n",
       "    </tr>\n",
       "    <tr>\n",
       "      <th>144</th>\n",
       "      <td>189.0</td>\n",
       "      <td>1</td>\n",
       "    </tr>\n",
       "    <tr>\n",
       "      <th>147</th>\n",
       "      <td>201.0</td>\n",
       "      <td>1</td>\n",
       "    </tr>\n",
       "    <tr>\n",
       "      <th>149</th>\n",
       "      <td>207.0</td>\n",
       "      <td>1</td>\n",
       "    </tr>\n",
       "    <tr>\n",
       "      <th>150</th>\n",
       "      <td>208.0</td>\n",
       "      <td>1</td>\n",
       "    </tr>\n",
       "    <tr>\n",
       "      <th>153</th>\n",
       "      <td>212.0</td>\n",
       "      <td>1</td>\n",
       "    </tr>\n",
       "    <tr>\n",
       "      <th>154</th>\n",
       "      <td>219.0</td>\n",
       "      <td>1</td>\n",
       "    </tr>\n",
       "    <tr>\n",
       "      <th>155</th>\n",
       "      <td>220.0</td>\n",
       "      <td>1</td>\n",
       "    </tr>\n",
       "    <tr>\n",
       "      <th>156</th>\n",
       "      <td>223.0</td>\n",
       "      <td>1</td>\n",
       "    </tr>\n",
       "    <tr>\n",
       "      <th>157</th>\n",
       "      <td>226.0</td>\n",
       "      <td>1</td>\n",
       "    </tr>\n",
       "    <tr>\n",
       "      <th>159</th>\n",
       "      <td>229.0</td>\n",
       "      <td>1</td>\n",
       "    </tr>\n",
       "    <tr>\n",
       "      <th>160</th>\n",
       "      <td>230.0</td>\n",
       "      <td>1</td>\n",
       "    </tr>\n",
       "    <tr>\n",
       "      <th>161</th>\n",
       "      <td>231.0</td>\n",
       "      <td>1</td>\n",
       "    </tr>\n",
       "    <tr>\n",
       "      <th>162</th>\n",
       "      <td>237.0</td>\n",
       "      <td>1</td>\n",
       "    </tr>\n",
       "    <tr>\n",
       "      <th>163</th>\n",
       "      <td>239.0</td>\n",
       "      <td>1</td>\n",
       "    </tr>\n",
       "    <tr>\n",
       "      <th>164</th>\n",
       "      <td>244.0</td>\n",
       "      <td>1</td>\n",
       "    </tr>\n",
       "  </tbody>\n",
       "</table>\n",
       "</div>"
      ],
      "text/plain": [
       "       Age  Count\n",
       "95    95.0      1\n",
       "107  107.0      1\n",
       "109  109.0      1\n",
       "110  110.0      1\n",
       "111  111.0      1\n",
       "116  118.0      1\n",
       "117  119.0      1\n",
       "120  127.0      1\n",
       "121  128.0      1\n",
       "122  132.0      1\n",
       "125  137.0      1\n",
       "126  138.0      1\n",
       "127  140.0      1\n",
       "129  143.0      1\n",
       "130  146.0      1\n",
       "134  152.0      1\n",
       "135  156.0      1\n",
       "136  157.0      1\n",
       "137  159.0      1\n",
       "138  162.0      1\n",
       "139  168.0      1\n",
       "140  172.0      1\n",
       "141  175.0      1\n",
       "142  183.0      1\n",
       "143  186.0      1\n",
       "144  189.0      1\n",
       "147  201.0      1\n",
       "149  207.0      1\n",
       "150  208.0      1\n",
       "153  212.0      1\n",
       "154  219.0      1\n",
       "155  220.0      1\n",
       "156  223.0      1\n",
       "157  226.0      1\n",
       "159  229.0      1\n",
       "160  230.0      1\n",
       "161  231.0      1\n",
       "162  237.0      1\n",
       "163  239.0      1\n",
       "164  244.0      1"
      ]
     },
     "execution_count": 266,
     "metadata": {},
     "output_type": "execute_result"
    }
   ],
   "source": [
    "least_common_age = users_ages_group[users_ages_group['Count'] == 1]\n",
    "least_common_age"
   ]
  },
  {
   "cell_type": "markdown",
   "id": "bef392a0",
   "metadata": {},
   "source": [
    "Similarly, for the users dataset, we conducted a thorough examination, addressing data types, handling missing values, and eliminating duplicates. However, in this case, we have opted to remove the \"Age\" feature due to a substantial number of missing values and its limited relevance in our recommendation system."
   ]
  },
  {
   "cell_type": "code",
   "execution_count": 267,
   "id": "99bfdd8b",
   "metadata": {},
   "outputs": [],
   "source": [
    "users.drop('Age', axis=1, inplace=True)"
   ]
  },
  {
   "cell_type": "code",
   "execution_count": 268,
   "id": "442029f1",
   "metadata": {},
   "outputs": [
    {
     "name": "stdout",
     "output_type": "stream",
     "text": [
      "Number of countries:  4659\n",
      "Number of states:  16044\n"
     ]
    }
   ],
   "source": [
    "list_ = users.Location.str.split(', ')\n",
    "\n",
    "city = []\n",
    "state = []\n",
    "country = []\n",
    "count_no_state = 0    \n",
    "count_no_country = 0\n",
    "\n",
    "for i in range(0,len(list_)):\n",
    "    if list_[i][0] == ' ' or list_[i][0] == '' or list_[i][0]=='n/a' or list_[i][0] == ',':  #removing invalid entries too\n",
    "        city.append('other')\n",
    "    else:\n",
    "        city.append(list_[i][0].lower())\n",
    "\n",
    "    if(len(list_[i])<2):\n",
    "        state.append('other')\n",
    "        country.append('other')\n",
    "        count_no_state += 1\n",
    "        count_no_country += 1\n",
    "    else:\n",
    "        if list_[i][1] == ' ' or list_[i][1] == '' or list_[i][1]=='n/a' or list_[i][1] == ',':   #removing invalid entries \n",
    "            state.append('other')\n",
    "            count_no_state += 1            \n",
    "        else:\n",
    "            state.append(list_[i][1].lower())\n",
    "        \n",
    "        if(len(list_[i])<3):\n",
    "            country.append('other')\n",
    "            count_no_country += 1\n",
    "        else:\n",
    "            if list_[i][2] == ''or list_[i][1] == ',' or list_[i][2] == ' ' or list_[i][2] == 'n/a':\n",
    "                country.append('other')\n",
    "                count_no_country += 1\n",
    "            else:\n",
    "                country.append(list_[i][2].lower())\n",
    "        \n",
    "users = users.drop('Location',axis=1)\n",
    "\n",
    "temp = []\n",
    "for ent in city:\n",
    "    c = ent.split('/')            #handling cases where city/state entries from city list as state is already given \n",
    "    temp.append(c[0])\n",
    "\n",
    "df_city = pd.DataFrame(temp,columns=['City'])\n",
    "df_state = pd.DataFrame(state,columns=['State'])\n",
    "df_country = pd.DataFrame(country,columns=['Country'])\n",
    "\n",
    "users = pd.concat([users, df_city], axis=1)\n",
    "users = pd.concat([users, df_state], axis=1)\n",
    "users = pd.concat([users, df_country], axis=1)\n",
    "\n",
    "print('Number of countries: ',count_no_country)   #printing the number of countries didnt have any values \n",
    "print('Number of states: ',count_no_state)     #printing the states which didnt have any values"
   ]
  },
  {
   "cell_type": "markdown",
   "id": "748859b3",
   "metadata": {},
   "source": [
    "we are performing data preprocessing and cleaning on location information within the 'users' dataset. We extract and structure city, state, and country details, handling cases of missing or invalid entries. Additionally, we calculate and display the counts of missing countries and states."
   ]
  },
  {
   "cell_type": "code",
   "execution_count": 271,
   "id": "c5927d98",
   "metadata": {},
   "outputs": [],
   "source": [
    "## Drop duplicate rows\n",
    "users.drop_duplicates(keep='last', inplace=True)\n",
    "users.reset_index(drop=True, inplace=True)"
   ]
  },
  {
   "cell_type": "markdown",
   "id": "3858ea2a",
   "metadata": {},
   "source": [
    "#### Reading Ratings data"
   ]
  },
  {
   "cell_type": "code",
   "execution_count": 272,
   "id": "ee31e8f5",
   "metadata": {},
   "outputs": [
    {
     "name": "stderr",
     "output_type": "stream",
     "text": [
      "C:\\Users\\HP\\AppData\\Local\\Temp\\ipykernel_21400\\1265045936.py:2: FutureWarning: The error_bad_lines argument has been deprecated and will be removed in a future version. Use on_bad_lines in the future.\n",
      "\n",
      "\n",
      "  ratings = pd.read_csv(\"../Dataset/BX-Book-Ratings.csv\", sep=\";\", error_bad_lines=False,encoding=\"latin-1\" )\n"
     ]
    }
   ],
   "source": [
    "# reading ratings data\n",
    "ratings = pd.read_csv(\"../Dataset/BX-Book-Ratings.csv\", sep=\";\", error_bad_lines=False,encoding=\"latin-1\" )"
   ]
  },
  {
   "cell_type": "code",
   "execution_count": 273,
   "id": "f3ed9282",
   "metadata": {},
   "outputs": [
    {
     "data": {
      "text/html": [
       "<div>\n",
       "<style scoped>\n",
       "    .dataframe tbody tr th:only-of-type {\n",
       "        vertical-align: middle;\n",
       "    }\n",
       "\n",
       "    .dataframe tbody tr th {\n",
       "        vertical-align: top;\n",
       "    }\n",
       "\n",
       "    .dataframe thead th {\n",
       "        text-align: right;\n",
       "    }\n",
       "</style>\n",
       "<table border=\"1\" class=\"dataframe\">\n",
       "  <thead>\n",
       "    <tr style=\"text-align: right;\">\n",
       "      <th></th>\n",
       "      <th>User-ID</th>\n",
       "      <th>ISBN</th>\n",
       "      <th>Book-Rating</th>\n",
       "    </tr>\n",
       "  </thead>\n",
       "  <tbody>\n",
       "    <tr>\n",
       "      <th>0</th>\n",
       "      <td>276725</td>\n",
       "      <td>034545104X</td>\n",
       "      <td>0</td>\n",
       "    </tr>\n",
       "    <tr>\n",
       "      <th>1</th>\n",
       "      <td>276726</td>\n",
       "      <td>0155061224</td>\n",
       "      <td>5</td>\n",
       "    </tr>\n",
       "    <tr>\n",
       "      <th>2</th>\n",
       "      <td>276727</td>\n",
       "      <td>0446520802</td>\n",
       "      <td>0</td>\n",
       "    </tr>\n",
       "    <tr>\n",
       "      <th>3</th>\n",
       "      <td>276729</td>\n",
       "      <td>052165615X</td>\n",
       "      <td>3</td>\n",
       "    </tr>\n",
       "    <tr>\n",
       "      <th>4</th>\n",
       "      <td>276729</td>\n",
       "      <td>0521795028</td>\n",
       "      <td>6</td>\n",
       "    </tr>\n",
       "  </tbody>\n",
       "</table>\n",
       "</div>"
      ],
      "text/plain": [
       "   User-ID        ISBN  Book-Rating\n",
       "0   276725  034545104X            0\n",
       "1   276726  0155061224            5\n",
       "2   276727  0446520802            0\n",
       "3   276729  052165615X            3\n",
       "4   276729  0521795028            6"
      ]
     },
     "execution_count": 273,
     "metadata": {},
     "output_type": "execute_result"
    }
   ],
   "source": [
    "ratings.head(5)"
   ]
  },
  {
   "cell_type": "code",
   "execution_count": 274,
   "id": "cc765e54",
   "metadata": {},
   "outputs": [
    {
     "name": "stdout",
     "output_type": "stream",
     "text": [
      "Number of reviews:  1149780\n",
      "Number of features:  3\n"
     ]
    }
   ],
   "source": [
    "print(\"Number of reviews: \" , ratings.shape[0])\n",
    "print(\"Number of features: \", ratings.shape[1])"
   ]
  },
  {
   "cell_type": "code",
   "execution_count": 275,
   "id": "478c73a6",
   "metadata": {
    "scrolled": true
   },
   "outputs": [
    {
     "name": "stdout",
     "output_type": "stream",
     "text": [
      "<class 'pandas.core.frame.DataFrame'>\n",
      "RangeIndex: 1149780 entries, 0 to 1149779\n",
      "Data columns (total 3 columns):\n",
      " #   Column       Non-Null Count    Dtype \n",
      "---  ------       --------------    ----- \n",
      " 0   User-ID      1149780 non-null  int64 \n",
      " 1   ISBN         1149780 non-null  object\n",
      " 2   Book-Rating  1149780 non-null  int64 \n",
      "dtypes: int64(2), object(1)\n",
      "memory usage: 26.3+ MB\n"
     ]
    }
   ],
   "source": [
    "ratings.info()"
   ]
  },
  {
   "cell_type": "markdown",
   "id": "6810ddbf",
   "metadata": {},
   "source": [
    "Noticing the above results of features info summary, no missing values are existed."
   ]
  },
  {
   "cell_type": "code",
   "execution_count": 276,
   "id": "27f3e70c",
   "metadata": {},
   "outputs": [
    {
     "data": {
      "text/plain": [
       "User-ID        0\n",
       "ISBN           0\n",
       "Book-Rating    0\n",
       "dtype: int64"
      ]
     },
     "execution_count": 276,
     "metadata": {},
     "output_type": "execute_result"
    }
   ],
   "source": [
    "ratings.isnull().sum()"
   ]
  },
  {
   "cell_type": "code",
   "execution_count": 277,
   "id": "2c080668",
   "metadata": {},
   "outputs": [
    {
     "name": "stdout",
     "output_type": "stream",
     "text": [
      "Books shape is:  (271357, 6)\n",
      "Users shape is:  (278858, 4)\n",
      "Ratings shape is: (1149780, 3)\n"
     ]
    }
   ],
   "source": [
    "print(\"Books shape is: \", books.shape)\n",
    "print(\"Users shape is: \", users.shape)\n",
    "print(\"Ratings shape is:\",ratings.shape)"
   ]
  },
  {
   "cell_type": "markdown",
   "id": "e0a5d817",
   "metadata": {},
   "source": [
    "The varying shapes of the three datasets indicate differences in the number of unique books, users, and recorded ratings.  These differences in data volume may lead to varying coverage for different books and users, potentially affecting recommendation system performance and analysis outcomes."
   ]
  },
  {
   "cell_type": "markdown",
   "id": "6141c0b2",
   "metadata": {},
   "source": [
    "#### Renaming ratings columns "
   ]
  },
  {
   "cell_type": "code",
   "execution_count": 278,
   "id": "28d1b183",
   "metadata": {},
   "outputs": [
    {
     "data": {
      "text/html": [
       "<div>\n",
       "<style scoped>\n",
       "    .dataframe tbody tr th:only-of-type {\n",
       "        vertical-align: middle;\n",
       "    }\n",
       "\n",
       "    .dataframe tbody tr th {\n",
       "        vertical-align: top;\n",
       "    }\n",
       "\n",
       "    .dataframe thead th {\n",
       "        text-align: right;\n",
       "    }\n",
       "</style>\n",
       "<table border=\"1\" class=\"dataframe\">\n",
       "  <thead>\n",
       "    <tr style=\"text-align: right;\">\n",
       "      <th></th>\n",
       "      <th>user_id</th>\n",
       "      <th>ISBN</th>\n",
       "      <th>rating</th>\n",
       "    </tr>\n",
       "  </thead>\n",
       "  <tbody>\n",
       "    <tr>\n",
       "      <th>0</th>\n",
       "      <td>276725</td>\n",
       "      <td>034545104X</td>\n",
       "      <td>0</td>\n",
       "    </tr>\n",
       "    <tr>\n",
       "      <th>1</th>\n",
       "      <td>276726</td>\n",
       "      <td>0155061224</td>\n",
       "      <td>5</td>\n",
       "    </tr>\n",
       "    <tr>\n",
       "      <th>2</th>\n",
       "      <td>276727</td>\n",
       "      <td>0446520802</td>\n",
       "      <td>0</td>\n",
       "    </tr>\n",
       "    <tr>\n",
       "      <th>3</th>\n",
       "      <td>276729</td>\n",
       "      <td>052165615X</td>\n",
       "      <td>3</td>\n",
       "    </tr>\n",
       "    <tr>\n",
       "      <th>4</th>\n",
       "      <td>276729</td>\n",
       "      <td>0521795028</td>\n",
       "      <td>6</td>\n",
       "    </tr>\n",
       "  </tbody>\n",
       "</table>\n",
       "</div>"
      ],
      "text/plain": [
       "   user_id        ISBN  rating\n",
       "0   276725  034545104X       0\n",
       "1   276726  0155061224       5\n",
       "2   276727  0446520802       0\n",
       "3   276729  052165615X       3\n",
       "4   276729  0521795028       6"
      ]
     },
     "execution_count": 278,
     "metadata": {},
     "output_type": "execute_result"
    }
   ],
   "source": [
    "ratings.rename(columns= {\n",
    "    \"User-ID\": \"user_id\" ,\n",
    "    \"Book-Rating\": \"rating\" \n",
    "}, inplace=True)\n",
    "ratings.head(5)"
   ]
  },
  {
   "cell_type": "code",
   "execution_count": 279,
   "id": "dab731dd",
   "metadata": {},
   "outputs": [
    {
     "name": "stdout",
     "output_type": "stream",
     "text": [
      "True\n"
     ]
    }
   ],
   "source": [
    "## checking all ratings number or not\n",
    "print(is_numeric_dtype(ratings['rating']))"
   ]
  },
  {
   "cell_type": "markdown",
   "id": "c111f490",
   "metadata": {},
   "source": [
    "Given the distinct shapes of the three datasets, our initial exploration involves identifying the unique number of users who have provided ratings for one or more books in the dataset."
   ]
  },
  {
   "cell_type": "code",
   "execution_count": 280,
   "id": "cc2121b4",
   "metadata": {},
   "outputs": [
    {
     "name": "stdout",
     "output_type": "stream",
     "text": [
      "The number of unique users is : (105283,)\n",
      "The number of reviews is : (1149780, 3)\n"
     ]
    }
   ],
   "source": [
    "# number of unique users/reviewers\n",
    "print('The number of unique users is :',ratings['user_id'].unique().shape)\n",
    "print('The number of reviews is :',ratings.shape)"
   ]
  },
  {
   "cell_type": "markdown",
   "id": "41a611ad",
   "metadata": {},
   "source": [
    "So according to the results about 105283 users have given one or more ratings "
   ]
  },
  {
   "cell_type": "markdown",
   "id": "0b90dead",
   "metadata": {},
   "source": [
    "<b> Here, we are finding the number of ratings given by each user </b>"
   ]
  },
  {
   "cell_type": "code",
   "execution_count": 281,
   "id": "d48080ec",
   "metadata": {},
   "outputs": [
    {
     "data": {
      "text/html": [
       "<div>\n",
       "<style scoped>\n",
       "    .dataframe tbody tr th:only-of-type {\n",
       "        vertical-align: middle;\n",
       "    }\n",
       "\n",
       "    .dataframe tbody tr th {\n",
       "        vertical-align: top;\n",
       "    }\n",
       "\n",
       "    .dataframe thead th {\n",
       "        text-align: right;\n",
       "    }\n",
       "</style>\n",
       "<table border=\"1\" class=\"dataframe\">\n",
       "  <thead>\n",
       "    <tr style=\"text-align: right;\">\n",
       "      <th></th>\n",
       "      <th>index</th>\n",
       "      <th>Reviews_per_user</th>\n",
       "    </tr>\n",
       "  </thead>\n",
       "  <tbody>\n",
       "    <tr>\n",
       "      <th>0</th>\n",
       "      <td>11676</td>\n",
       "      <td>13602</td>\n",
       "    </tr>\n",
       "    <tr>\n",
       "      <th>1</th>\n",
       "      <td>198711</td>\n",
       "      <td>7550</td>\n",
       "    </tr>\n",
       "    <tr>\n",
       "      <th>2</th>\n",
       "      <td>153662</td>\n",
       "      <td>6109</td>\n",
       "    </tr>\n",
       "    <tr>\n",
       "      <th>3</th>\n",
       "      <td>98391</td>\n",
       "      <td>5891</td>\n",
       "    </tr>\n",
       "    <tr>\n",
       "      <th>4</th>\n",
       "      <td>35859</td>\n",
       "      <td>5850</td>\n",
       "    </tr>\n",
       "    <tr>\n",
       "      <th>...</th>\n",
       "      <td>...</td>\n",
       "      <td>...</td>\n",
       "    </tr>\n",
       "    <tr>\n",
       "      <th>105278</th>\n",
       "      <td>116180</td>\n",
       "      <td>1</td>\n",
       "    </tr>\n",
       "    <tr>\n",
       "      <th>105279</th>\n",
       "      <td>116166</td>\n",
       "      <td>1</td>\n",
       "    </tr>\n",
       "    <tr>\n",
       "      <th>105280</th>\n",
       "      <td>116154</td>\n",
       "      <td>1</td>\n",
       "    </tr>\n",
       "    <tr>\n",
       "      <th>105281</th>\n",
       "      <td>116137</td>\n",
       "      <td>1</td>\n",
       "    </tr>\n",
       "    <tr>\n",
       "      <th>105282</th>\n",
       "      <td>276723</td>\n",
       "      <td>1</td>\n",
       "    </tr>\n",
       "  </tbody>\n",
       "</table>\n",
       "<p>105283 rows × 2 columns</p>\n",
       "</div>"
      ],
      "text/plain": [
       "         index  Reviews_per_user\n",
       "0        11676             13602\n",
       "1       198711              7550\n",
       "2       153662              6109\n",
       "3        98391              5891\n",
       "4        35859              5850\n",
       "...        ...               ...\n",
       "105278  116180                 1\n",
       "105279  116166                 1\n",
       "105280  116154                 1\n",
       "105281  116137                 1\n",
       "105282  276723                 1\n",
       "\n",
       "[105283 rows x 2 columns]"
      ]
     },
     "execution_count": 281,
     "metadata": {},
     "output_type": "execute_result"
    }
   ],
   "source": [
    "ratings['user_id'].value_counts().reset_index(name=\"Reviews_per_user\")"
   ]
  },
  {
   "cell_type": "code",
   "execution_count": 282,
   "id": "dd87ebf2",
   "metadata": {},
   "outputs": [
    {
     "data": {
      "text/plain": [
       "count    105283.000000\n",
       "mean         10.920851\n",
       "std          90.562825\n",
       "min           1.000000\n",
       "25%           1.000000\n",
       "50%           1.000000\n",
       "75%           4.000000\n",
       "max       13602.000000\n",
       "Name: user_id, dtype: float64"
      ]
     },
     "execution_count": 282,
     "metadata": {},
     "output_type": "execute_result"
    }
   ],
   "source": [
    "ratings_per_user=ratings['user_id'].value_counts()\n",
    "ratings_per_user.describe()"
   ]
  },
  {
   "cell_type": "markdown",
   "id": "caf56642",
   "metadata": {},
   "source": [
    "The dataset appears to have a highly skewed distribution, with a vast majority of values clustered around 1, that may incidates that the majority of users are new ones or not active users. But a few extreme  values as high as 13,602, suggesting potential data anomalies or unique cases that warrant further examination.\n",
    "\n",
    "So, here we are trying to investigate more in this."
   ]
  },
  {
   "cell_type": "code",
   "execution_count": 283,
   "id": "1d0a4778",
   "metadata": {},
   "outputs": [
    {
     "data": {
      "text/plain": [
       "False    101912\n",
       "True       3371\n",
       "Name: user_id, dtype: int64"
      ]
     },
     "execution_count": 283,
     "metadata": {},
     "output_type": "execute_result"
    }
   ],
   "source": [
    "users_of_more_50_reviews = ratings['user_id'].value_counts() > 50\n",
    "users_of_more_50_reviews.value_counts()"
   ]
  },
  {
   "cell_type": "code",
   "execution_count": 284,
   "id": "c356d879",
   "metadata": {},
   "outputs": [
    {
     "data": {
      "text/plain": [
       "False    104384\n",
       "True        899\n",
       "Name: user_id, dtype: int64"
      ]
     },
     "execution_count": 284,
     "metadata": {},
     "output_type": "execute_result"
    }
   ],
   "source": [
    "users_of_more_200_reviews = ratings['user_id'].value_counts() > 200\n",
    "users_of_more_200_reviews.value_counts()"
   ]
  },
  {
   "cell_type": "code",
   "execution_count": 285,
   "id": "ba8cb0e4",
   "metadata": {},
   "outputs": [
    {
     "data": {
      "text/plain": [
       "False    104996\n",
       "True        287\n",
       "Name: user_id, dtype: int64"
      ]
     },
     "execution_count": 285,
     "metadata": {},
     "output_type": "execute_result"
    }
   ],
   "source": [
    "users_of_more_500_reviews = ratings['user_id'].value_counts() > 500\n",
    "users_of_more_500_reviews.value_counts()"
   ]
  },
  {
   "cell_type": "code",
   "execution_count": 286,
   "id": "ceac2edd",
   "metadata": {},
   "outputs": [
    {
     "data": {
      "text/plain": [
       "True     104378\n",
       "False       905\n",
       "Name: user_id, dtype: int64"
      ]
     },
     "execution_count": 286,
     "metadata": {},
     "output_type": "execute_result"
    }
   ],
   "source": [
    "users_of_less_200_reviews = ratings['user_id'].value_counts() <200\n",
    "users_of_less_200_reviews.value_counts()"
   ]
  },
  {
   "cell_type": "code",
   "execution_count": 287,
   "id": "216b7b29",
   "metadata": {},
   "outputs": [
    {
     "data": {
      "text/plain": [
       "(1149780, 3)"
      ]
     },
     "execution_count": 287,
     "metadata": {},
     "output_type": "execute_result"
    }
   ],
   "source": [
    "ratings.shape"
   ]
  },
  {
   "cell_type": "markdown",
   "id": "fa094a8b",
   "metadata": {},
   "source": [
    "Here, we are joining books and ratings tables based on ISBN feature."
   ]
  },
  {
   "cell_type": "code",
   "execution_count": 288,
   "id": "aa712a2b",
   "metadata": {},
   "outputs": [
    {
     "data": {
      "text/html": [
       "<div>\n",
       "<style scoped>\n",
       "    .dataframe tbody tr th:only-of-type {\n",
       "        vertical-align: middle;\n",
       "    }\n",
       "\n",
       "    .dataframe tbody tr th {\n",
       "        vertical-align: top;\n",
       "    }\n",
       "\n",
       "    .dataframe thead th {\n",
       "        text-align: right;\n",
       "    }\n",
       "</style>\n",
       "<table border=\"1\" class=\"dataframe\">\n",
       "  <thead>\n",
       "    <tr style=\"text-align: right;\">\n",
       "      <th></th>\n",
       "      <th>user_id</th>\n",
       "      <th>ISBN</th>\n",
       "      <th>rating</th>\n",
       "      <th>title</th>\n",
       "      <th>author</th>\n",
       "      <th>year</th>\n",
       "      <th>publisher</th>\n",
       "      <th>img_url</th>\n",
       "    </tr>\n",
       "  </thead>\n",
       "  <tbody>\n",
       "    <tr>\n",
       "      <th>0</th>\n",
       "      <td>276725</td>\n",
       "      <td>034545104X</td>\n",
       "      <td>0</td>\n",
       "      <td>Flesh Tones: A Novel</td>\n",
       "      <td>M. J. Rose</td>\n",
       "      <td>2002</td>\n",
       "      <td>Ballantine Books</td>\n",
       "      <td>http://images.amazon.com/images/P/034545104X.0...</td>\n",
       "    </tr>\n",
       "    <tr>\n",
       "      <th>1</th>\n",
       "      <td>2313</td>\n",
       "      <td>034545104X</td>\n",
       "      <td>5</td>\n",
       "      <td>Flesh Tones: A Novel</td>\n",
       "      <td>M. J. Rose</td>\n",
       "      <td>2002</td>\n",
       "      <td>Ballantine Books</td>\n",
       "      <td>http://images.amazon.com/images/P/034545104X.0...</td>\n",
       "    </tr>\n",
       "    <tr>\n",
       "      <th>2</th>\n",
       "      <td>6543</td>\n",
       "      <td>034545104X</td>\n",
       "      <td>0</td>\n",
       "      <td>Flesh Tones: A Novel</td>\n",
       "      <td>M. J. Rose</td>\n",
       "      <td>2002</td>\n",
       "      <td>Ballantine Books</td>\n",
       "      <td>http://images.amazon.com/images/P/034545104X.0...</td>\n",
       "    </tr>\n",
       "  </tbody>\n",
       "</table>\n",
       "</div>"
      ],
      "text/plain": [
       "   user_id        ISBN  rating                 title      author  year  \\\n",
       "0   276725  034545104X       0  Flesh Tones: A Novel  M. J. Rose  2002   \n",
       "1     2313  034545104X       5  Flesh Tones: A Novel  M. J. Rose  2002   \n",
       "2     6543  034545104X       0  Flesh Tones: A Novel  M. J. Rose  2002   \n",
       "\n",
       "          publisher                                            img_url  \n",
       "0  Ballantine Books  http://images.amazon.com/images/P/034545104X.0...  \n",
       "1  Ballantine Books  http://images.amazon.com/images/P/034545104X.0...  \n",
       "2  Ballantine Books  http://images.amazon.com/images/P/034545104X.0...  "
      ]
     },
     "execution_count": 288,
     "metadata": {},
     "output_type": "execute_result"
    }
   ],
   "source": [
    "ratings_with_books = ratings.merge(books, on = \"ISBN\")\n",
    "ratings_with_books.head(3)"
   ]
  },
  {
   "cell_type": "code",
   "execution_count": 289,
   "id": "13f13be2",
   "metadata": {},
   "outputs": [
    {
     "data": {
      "text/plain": [
       "(1031132, 8)"
      ]
     },
     "execution_count": 289,
     "metadata": {},
     "output_type": "execute_result"
    }
   ],
   "source": [
    "ratings_with_books.shape"
   ]
  },
  {
   "cell_type": "markdown",
   "id": "f8de4fae",
   "metadata": {},
   "source": [
    "We are categorizing the given ratings by the book title, then finding the number of ratings are given for each book.\n",
    "This can leads to have more insights about the popularity and engagement level of different books, facilitating tasks like identifying bestsellers and user preferences analysis."
   ]
  },
  {
   "cell_type": "code",
   "execution_count": 290,
   "id": "44c201f6",
   "metadata": {},
   "outputs": [],
   "source": [
    "# categorizing ratings by title and counting the number of ratings for each book\n",
    "num_rating = ratings_with_books.groupby('title')['rating'].count().reset_index()"
   ]
  },
  {
   "cell_type": "code",
   "execution_count": 291,
   "id": "b02f4668",
   "metadata": {},
   "outputs": [
    {
     "data": {
      "text/html": [
       "<div>\n",
       "<style scoped>\n",
       "    .dataframe tbody tr th:only-of-type {\n",
       "        vertical-align: middle;\n",
       "    }\n",
       "\n",
       "    .dataframe tbody tr th {\n",
       "        vertical-align: top;\n",
       "    }\n",
       "\n",
       "    .dataframe thead th {\n",
       "        text-align: right;\n",
       "    }\n",
       "</style>\n",
       "<table border=\"1\" class=\"dataframe\">\n",
       "  <thead>\n",
       "    <tr style=\"text-align: right;\">\n",
       "      <th></th>\n",
       "      <th>title</th>\n",
       "      <th>rating</th>\n",
       "    </tr>\n",
       "  </thead>\n",
       "  <tbody>\n",
       "    <tr>\n",
       "      <th>0</th>\n",
       "      <td>A Light in the Storm: The Civil War Diary of ...</td>\n",
       "      <td>4</td>\n",
       "    </tr>\n",
       "    <tr>\n",
       "      <th>1</th>\n",
       "      <td>Always Have Popsicles</td>\n",
       "      <td>1</td>\n",
       "    </tr>\n",
       "    <tr>\n",
       "      <th>2</th>\n",
       "      <td>Apple Magic (The Collector's series)</td>\n",
       "      <td>1</td>\n",
       "    </tr>\n",
       "    <tr>\n",
       "      <th>3</th>\n",
       "      <td>Ask Lily (Young Women of Faith: Lily Series, ...</td>\n",
       "      <td>1</td>\n",
       "    </tr>\n",
       "    <tr>\n",
       "      <th>4</th>\n",
       "      <td>Beyond IBM: Leadership Marketing and Finance ...</td>\n",
       "      <td>1</td>\n",
       "    </tr>\n",
       "  </tbody>\n",
       "</table>\n",
       "</div>"
      ],
      "text/plain": [
       "                                               title  rating\n",
       "0   A Light in the Storm: The Civil War Diary of ...       4\n",
       "1                              Always Have Popsicles       1\n",
       "2               Apple Magic (The Collector's series)       1\n",
       "3   Ask Lily (Young Women of Faith: Lily Series, ...       1\n",
       "4   Beyond IBM: Leadership Marketing and Finance ...       1"
      ]
     },
     "execution_count": 291,
     "metadata": {},
     "output_type": "execute_result"
    }
   ],
   "source": [
    "num_rating.head()"
   ]
  },
  {
   "cell_type": "code",
   "execution_count": 292,
   "id": "4bec93f8",
   "metadata": {},
   "outputs": [
    {
     "data": {
      "text/html": [
       "<div>\n",
       "<style scoped>\n",
       "    .dataframe tbody tr th:only-of-type {\n",
       "        vertical-align: middle;\n",
       "    }\n",
       "\n",
       "    .dataframe tbody tr th {\n",
       "        vertical-align: top;\n",
       "    }\n",
       "\n",
       "    .dataframe thead th {\n",
       "        text-align: right;\n",
       "    }\n",
       "</style>\n",
       "<table border=\"1\" class=\"dataframe\">\n",
       "  <thead>\n",
       "    <tr style=\"text-align: right;\">\n",
       "      <th></th>\n",
       "      <th>rating</th>\n",
       "    </tr>\n",
       "  </thead>\n",
       "  <tbody>\n",
       "    <tr>\n",
       "      <th>count</th>\n",
       "      <td>241068.000000</td>\n",
       "    </tr>\n",
       "    <tr>\n",
       "      <th>mean</th>\n",
       "      <td>4.277349</td>\n",
       "    </tr>\n",
       "    <tr>\n",
       "      <th>std</th>\n",
       "      <td>16.738785</td>\n",
       "    </tr>\n",
       "    <tr>\n",
       "      <th>min</th>\n",
       "      <td>1.000000</td>\n",
       "    </tr>\n",
       "    <tr>\n",
       "      <th>25%</th>\n",
       "      <td>1.000000</td>\n",
       "    </tr>\n",
       "    <tr>\n",
       "      <th>50%</th>\n",
       "      <td>1.000000</td>\n",
       "    </tr>\n",
       "    <tr>\n",
       "      <th>75%</th>\n",
       "      <td>3.000000</td>\n",
       "    </tr>\n",
       "    <tr>\n",
       "      <th>max</th>\n",
       "      <td>2502.000000</td>\n",
       "    </tr>\n",
       "  </tbody>\n",
       "</table>\n",
       "</div>"
      ],
      "text/plain": [
       "              rating\n",
       "count  241068.000000\n",
       "mean        4.277349\n",
       "std        16.738785\n",
       "min         1.000000\n",
       "25%         1.000000\n",
       "50%         1.000000\n",
       "75%         3.000000\n",
       "max      2502.000000"
      ]
     },
     "execution_count": 292,
     "metadata": {},
     "output_type": "execute_result"
    }
   ],
   "source": [
    "num_rating[['rating']].describe()"
   ]
  },
  {
   "cell_type": "markdown",
   "id": "1d99cf4f",
   "metadata": {},
   "source": [
    "The statistical summary of number of ratings per book reveals that the majority of books have relatively few ratings, with a median value of 1 rating per book. However, there are ones with a maximum of 2,502 ratings, indicating the presence of highly popular books that have garnered significant attention and engagement from users. \n"
   ]
  },
  {
   "cell_type": "code",
   "execution_count": 293,
   "id": "c8f062d5",
   "metadata": {},
   "outputs": [
    {
     "data": {
      "text/plain": [
       "array([   4,    1,    2,   10,    9,   11,   17,    3,    5,   47,    8,\n",
       "          6,   12,   22,    7,   61,   13,   23,   37,   28,   65,   14,\n",
       "         20,  284,  509,   24,   25,   90,   21,   71,   57,  106,   30,\n",
       "        356,   85,  151,   16,   50,   31,  125,   41,   74,   44,   46,\n",
       "         32,   18,  136,   15,  346,   35,   29,   26,   38,  236,   27,\n",
       "        265,  156,   33,   52,   83,   67,   81,  139,   92,   54,  108,\n",
       "         39,  140,  116,   40,   42,   34,   48,  169,  104,   99,  302,\n",
       "        285,   86,  192,  109,   59,   75,  128,  174,  327,   19,   49,\n",
       "         36,   51,   66,  838,   68,  149,   64,   82,   63,   76,  413,\n",
       "         60,   56,  118,   78,   45,   95,   62,   43,   97,  135,  210,\n",
       "        549,   96,  101,  164,  205,  378,  273,   53,  158,  150,   70,\n",
       "         69,  279,  262,  121,  126,   77,  141,  332,  112,   84,  187,\n",
       "         58,  258,   55,  184,  147,  304,  110,   93,  114,   91,   72,\n",
       "         94,   80,  326,  222,  170,  670,  167,  233,   88,  142,  111,\n",
       "        160,   89,  248,  220,  230,   73,  107,  138,  181,  103,  247,\n",
       "         79,  276,  131,  195,  119,  229,  175,  178,  350,  191,  180,\n",
       "        102,  182,  207,  360,  263,  189,  201,  137,  165,  226,  155,\n",
       "        239,  815,  224,  171,  177,  193,  214,  198,   98,  143,  120,\n",
       "        287,  129,  344,  145,  249,  148,  152,  194,  311,  202,  228,\n",
       "        299,  183,  204,   87,  199,  122,  134,  176,  127,  130,  133,\n",
       "        293,  318,  740,  275,  481,  146,  203,  392,  123,  190,  209,\n",
       "        216,  115,  105,  161,  237,  409,  227,  321,  124,  254,  238,\n",
       "        225,  313,  231,  219,  257,  163,  526,  168,  490,  144,  468,\n",
       "        269,  556,  387,  347,  428,  278,  575,  162,  179,  154,  113,\n",
       "        200,  588,  309,  197,  260,  508,  372,  252,  100,  288,  153,\n",
       "        488,  117,  256,  157,  186,  664,  274,  166,  434,  259,  301,\n",
       "        457,  159,  496,  380,  291,  188,  362,  196,  335,  298,  283,\n",
       "        172,  277,  294,  242,  253,  244,  185,  402,  382,  364,  208,\n",
       "        446,  322,  662,  232,  374,  573,  241,  266,  435,  389,  132,\n",
       "        255,  384,  319,  443,  449,  393,  483,  314,  223,  898,  376,\n",
       "        368,  569,  430,  289,  336,  264,  268,  281,  507,  555,  458,\n",
       "        337,  312, 1295,  173,  828,  431,  650,  478,  581,  404,  568,\n",
       "        267,  494,  501,  466,  723,  308,  211,  520,  774,  212,  545,\n",
       "        655,  213,  617,  221,  552,  510,  493,  379,  342,  396,  585,\n",
       "        286, 2502,  234], dtype=int64)"
      ]
     },
     "execution_count": 293,
     "metadata": {},
     "output_type": "execute_result"
    }
   ],
   "source": [
    "num_rating['rating'].unique()"
   ]
  },
  {
   "cell_type": "code",
   "execution_count": 294,
   "id": "439ec37b",
   "metadata": {},
   "outputs": [
    {
     "data": {
      "text/plain": [
       "1      127511\n",
       "2       42728\n",
       "3       20255\n",
       "4       11364\n",
       "5        7529\n",
       "        ...  \n",
       "588         1\n",
       "575         1\n",
       "428         1\n",
       "347         1\n",
       "234         1\n",
       "Name: rating, Length: 377, dtype: int64"
      ]
     },
     "execution_count": 294,
     "metadata": {},
     "output_type": "execute_result"
    }
   ],
   "source": [
    "num_rating['rating'].value_counts()"
   ]
  },
  {
   "cell_type": "code",
   "execution_count": 295,
   "id": "e8ccd122",
   "metadata": {},
   "outputs": [],
   "source": [
    "num_rating.rename(columns = {\n",
    "    'rating':'num_of_ratings'\n",
    "}, inplace=True)"
   ]
  },
  {
   "cell_type": "markdown",
   "id": "2c96f0b8",
   "metadata": {},
   "source": [
    "Here, We Combine the 'ratings_with_books' Data with the 'num_rating' Data based on the 'title' column to associate each book's rating count with its respective rating data."
   ]
  },
  {
   "cell_type": "code",
   "execution_count": 296,
   "id": "fe686f8e",
   "metadata": {},
   "outputs": [],
   "source": [
    "final_rating = ratings_with_books.merge(num_rating, on = \"title\")"
   ]
  },
  {
   "cell_type": "code",
   "execution_count": 297,
   "id": "e0f87482",
   "metadata": {},
   "outputs": [
    {
     "data": {
      "text/html": [
       "<div>\n",
       "<style scoped>\n",
       "    .dataframe tbody tr th:only-of-type {\n",
       "        vertical-align: middle;\n",
       "    }\n",
       "\n",
       "    .dataframe tbody tr th {\n",
       "        vertical-align: top;\n",
       "    }\n",
       "\n",
       "    .dataframe thead th {\n",
       "        text-align: right;\n",
       "    }\n",
       "</style>\n",
       "<table border=\"1\" class=\"dataframe\">\n",
       "  <thead>\n",
       "    <tr style=\"text-align: right;\">\n",
       "      <th></th>\n",
       "      <th>user_id</th>\n",
       "      <th>ISBN</th>\n",
       "      <th>rating</th>\n",
       "      <th>title</th>\n",
       "      <th>author</th>\n",
       "      <th>year</th>\n",
       "      <th>publisher</th>\n",
       "      <th>img_url</th>\n",
       "      <th>num_of_ratings</th>\n",
       "    </tr>\n",
       "  </thead>\n",
       "  <tbody>\n",
       "    <tr>\n",
       "      <th>0</th>\n",
       "      <td>276725</td>\n",
       "      <td>034545104X</td>\n",
       "      <td>0</td>\n",
       "      <td>Flesh Tones: A Novel</td>\n",
       "      <td>M. J. Rose</td>\n",
       "      <td>2002</td>\n",
       "      <td>Ballantine Books</td>\n",
       "      <td>http://images.amazon.com/images/P/034545104X.0...</td>\n",
       "      <td>60</td>\n",
       "    </tr>\n",
       "    <tr>\n",
       "      <th>1</th>\n",
       "      <td>2313</td>\n",
       "      <td>034545104X</td>\n",
       "      <td>5</td>\n",
       "      <td>Flesh Tones: A Novel</td>\n",
       "      <td>M. J. Rose</td>\n",
       "      <td>2002</td>\n",
       "      <td>Ballantine Books</td>\n",
       "      <td>http://images.amazon.com/images/P/034545104X.0...</td>\n",
       "      <td>60</td>\n",
       "    </tr>\n",
       "    <tr>\n",
       "      <th>2</th>\n",
       "      <td>6543</td>\n",
       "      <td>034545104X</td>\n",
       "      <td>0</td>\n",
       "      <td>Flesh Tones: A Novel</td>\n",
       "      <td>M. J. Rose</td>\n",
       "      <td>2002</td>\n",
       "      <td>Ballantine Books</td>\n",
       "      <td>http://images.amazon.com/images/P/034545104X.0...</td>\n",
       "      <td>60</td>\n",
       "    </tr>\n",
       "    <tr>\n",
       "      <th>3</th>\n",
       "      <td>8680</td>\n",
       "      <td>034545104X</td>\n",
       "      <td>5</td>\n",
       "      <td>Flesh Tones: A Novel</td>\n",
       "      <td>M. J. Rose</td>\n",
       "      <td>2002</td>\n",
       "      <td>Ballantine Books</td>\n",
       "      <td>http://images.amazon.com/images/P/034545104X.0...</td>\n",
       "      <td>60</td>\n",
       "    </tr>\n",
       "    <tr>\n",
       "      <th>4</th>\n",
       "      <td>10314</td>\n",
       "      <td>034545104X</td>\n",
       "      <td>9</td>\n",
       "      <td>Flesh Tones: A Novel</td>\n",
       "      <td>M. J. Rose</td>\n",
       "      <td>2002</td>\n",
       "      <td>Ballantine Books</td>\n",
       "      <td>http://images.amazon.com/images/P/034545104X.0...</td>\n",
       "      <td>60</td>\n",
       "    </tr>\n",
       "  </tbody>\n",
       "</table>\n",
       "</div>"
      ],
      "text/plain": [
       "   user_id        ISBN  rating                 title      author  year  \\\n",
       "0   276725  034545104X       0  Flesh Tones: A Novel  M. J. Rose  2002   \n",
       "1     2313  034545104X       5  Flesh Tones: A Novel  M. J. Rose  2002   \n",
       "2     6543  034545104X       0  Flesh Tones: A Novel  M. J. Rose  2002   \n",
       "3     8680  034545104X       5  Flesh Tones: A Novel  M. J. Rose  2002   \n",
       "4    10314  034545104X       9  Flesh Tones: A Novel  M. J. Rose  2002   \n",
       "\n",
       "          publisher                                            img_url  \\\n",
       "0  Ballantine Books  http://images.amazon.com/images/P/034545104X.0...   \n",
       "1  Ballantine Books  http://images.amazon.com/images/P/034545104X.0...   \n",
       "2  Ballantine Books  http://images.amazon.com/images/P/034545104X.0...   \n",
       "3  Ballantine Books  http://images.amazon.com/images/P/034545104X.0...   \n",
       "4  Ballantine Books  http://images.amazon.com/images/P/034545104X.0...   \n",
       "\n",
       "   num_of_ratings  \n",
       "0              60  \n",
       "1              60  \n",
       "2              60  \n",
       "3              60  \n",
       "4              60  "
      ]
     },
     "execution_count": 297,
     "metadata": {},
     "output_type": "execute_result"
    }
   ],
   "source": [
    "final_rating.head(5)"
   ]
  },
  {
   "cell_type": "code",
   "execution_count": 298,
   "id": "268469b4",
   "metadata": {},
   "outputs": [
    {
     "data": {
      "text/plain": [
       "(1031132, 9)"
      ]
     },
     "execution_count": 298,
     "metadata": {},
     "output_type": "execute_result"
    }
   ],
   "source": [
    "final_rating.shape"
   ]
  },
  {
   "cell_type": "code",
   "execution_count": 299,
   "id": "baa991a7",
   "metadata": {},
   "outputs": [
    {
     "data": {
      "image/png": "[encoded data removed]",
      "text/plain": [
       "<Figure size 864x432 with 1 Axes>"
      ]
     },
     "metadata": {
      "needs_background": "light"
     },
     "output_type": "display_data"
    }
   ],
   "source": [
    "import matplotlib.pyplot as plt\n",
    "import numpy as np\n",
    "\n",
    "# Calculate the number of books published per year\n",
    "publications = final_rating['year'].value_counts().to_dict()\n",
    "\n",
    "# Get the top 10 years with the highest numbers of published books\n",
    "top_years = dict(sorted(publications.items(), key=lambda item: item[1], reverse=True)[:10])\n",
    "\n",
    "# Create a colormap for the bars\n",
    "colors = plt.cm.viridis(np.linspace(0, 1, len(top_years)))\n",
    "\n",
    "# Create the plot\n",
    "fig, ax = plt.subplots(figsize=(12, 6))\n",
    "bars = plt.bar(top_years.keys(), top_years.values(), color=colors)\n",
    "plt.ylabel(\"Number of books published\")\n",
    "plt.xlabel(\"Year of Publication\")\n",
    "plt.title(\"Top 10 Years with the Highest Number of Published Books\")\n",
    "plt.xticks(rotation=45)  # Rotate x-axis labels for better readability\n",
    "\n",
    "# Add labels with the number of books above the bars for the top 10 years\n",
    "for year, num_books in top_years.items():\n",
    "    ax.annotate(f'{num_books}', xy=(year, num_books), xytext=(0, 3), textcoords='offset points', ha='center', va='bottom')\n",
    "\n",
    "plt.tight_layout()\n",
    "plt.show()\n"
   ]
  },
  {
   "cell_type": "markdown",
   "id": "8d1b35ba",
   "metadata": {},
   "source": [
    "This bar chart offers valuable insights into book publication trends over the years. Notably, 2002 had the highest publication rate, recording 105,863 books, while 1994 saw the lowest at 46,444. These variations highlight historical publishing trends and possible influencing factors.\n"
   ]
  },
  {
   "cell_type": "code",
   "execution_count": 300,
   "id": "411134ed",
   "metadata": {},
   "outputs": [
    {
     "data": {
      "text/plain": [
       "Text(0.5, 1.0, 'No of books by an author (Top 15)')"
      ]
     },
     "execution_count": 300,
     "metadata": {},
     "output_type": "execute_result"
    },
    {
     "data": {
      "image/png": "[encoded data removed]",
      "text/plain": [
       "<Figure size 1080x432 with 1 Axes>"
      ]
     },
     "metadata": {
      "needs_background": "light"
     },
     "output_type": "display_data"
    }
   ],
   "source": [
    "plt.figure(figsize=(15,6))\n",
    "sns.countplot(y=\"author\", data=books,order=books['author'].value_counts().index[0:15])\n",
    "plt.title(\"No of books by an author (Top 15)\")"
   ]
  },
  {
   "cell_type": "markdown",
   "id": "f6bcce94",
   "metadata": {},
   "source": [
    "This plot reveals significant variations in the number of books authored by different writers. Agatha Christie emerges as the most prolific author, suggesting her widespread popularity, which could impact the ratings of her books. Conversely, Jane Austen and Terry, among the top 15 authors, have authored a comparatively lower number of books."
   ]
  },
  {
   "cell_type": "code",
   "execution_count": 301,
   "id": "74f58744",
   "metadata": {},
   "outputs": [
    {
     "data": {
      "text/plain": [
       "<AxesSubplot:xlabel='rating', ylabel='count'>"
      ]
     },
     "execution_count": 301,
     "metadata": {},
     "output_type": "execute_result"
    },
    {
     "data": {
      "image/png": "[encoded data removed]",
      "text/plain": [
       "<Figure size 576x432 with 1 Axes>"
      ]
     },
     "metadata": {
      "needs_background": "light"
     },
     "output_type": "display_data"
    }
   ],
   "source": [
    "plt.figure(figsize=(8,6))\n",
    "sns.countplot(x=\"rating\", data=final_rating)"
   ]
  },
  {
   "cell_type": "markdown",
   "id": "f7b5240d",
   "metadata": {},
   "source": [
    "This dataset illustrates the distribution of book ratings from 0 to 10, with the most common rating being 0 (44,908 occurrences), indicating numerous unrated or poorly rated books. Higher ratings of 8, 10, and 9 are also prevalent, suggesting a significant number of well-received books. Conversely, lower ratings of 1, 2, and 3 are less common, indicating a smaller proportion of books with poor ratings."
   ]
  },
  {
   "cell_type": "code",
   "execution_count": 302,
   "id": "024de33a",
   "metadata": {},
   "outputs": [
    {
     "data": {
      "text/plain": [
       "0     647291\n",
       "8      91804\n",
       "10     71225\n",
       "7      66401\n",
       "9      60778\n",
       "5      45355\n",
       "6      31687\n",
       "4       7617\n",
       "3       5118\n",
       "2       2375\n",
       "1       1481\n",
       "Name: rating, dtype: int64"
      ]
     },
     "execution_count": 302,
     "metadata": {},
     "output_type": "execute_result"
    }
   ],
   "source": [
    "final_rating['rating'].value_counts()"
   ]
  },
  {
   "cell_type": "markdown",
   "id": "3cebb4de",
   "metadata": {},
   "source": [
    "<b> Here, we are categorizing the books by their author name</b>"
   ]
  },
  {
   "cell_type": "code",
   "execution_count": 303,
   "id": "2e420a06",
   "metadata": {},
   "outputs": [
    {
     "data": {
      "text/html": [
       "<div>\n",
       "<style scoped>\n",
       "    .dataframe tbody tr th:only-of-type {\n",
       "        vertical-align: middle;\n",
       "    }\n",
       "\n",
       "    .dataframe tbody tr th {\n",
       "        vertical-align: top;\n",
       "    }\n",
       "\n",
       "    .dataframe thead th {\n",
       "        text-align: right;\n",
       "    }\n",
       "</style>\n",
       "<table border=\"1\" class=\"dataframe\">\n",
       "  <thead>\n",
       "    <tr style=\"text-align: right;\">\n",
       "      <th></th>\n",
       "      <th>author</th>\n",
       "      <th>num_of_ratings</th>\n",
       "    </tr>\n",
       "  </thead>\n",
       "  <tbody>\n",
       "    <tr>\n",
       "      <th>0</th>\n",
       "      <td>D. Chiel</td>\n",
       "      <td>16</td>\n",
       "    </tr>\n",
       "    <tr>\n",
       "      <th>1</th>\n",
       "      <td>J. D. Landis</td>\n",
       "      <td>2</td>\n",
       "    </tr>\n",
       "    <tr>\n",
       "      <th>2</th>\n",
       "      <td>Mimma Balia</td>\n",
       "      <td>1</td>\n",
       "    </tr>\n",
       "    <tr>\n",
       "      <th>3</th>\n",
       "      <td>'N Sync</td>\n",
       "      <td>1</td>\n",
       "    </tr>\n",
       "    <tr>\n",
       "      <th>4</th>\n",
       "      <td>142 moms from all over the world</td>\n",
       "      <td>1</td>\n",
       "    </tr>\n",
       "    <tr>\n",
       "      <th>...</th>\n",
       "      <td>...</td>\n",
       "      <td>...</td>\n",
       "    </tr>\n",
       "    <tr>\n",
       "      <th>101582</th>\n",
       "      <td>Â¢ystein LÂ²nn</td>\n",
       "      <td>1</td>\n",
       "    </tr>\n",
       "    <tr>\n",
       "      <th>101583</th>\n",
       "      <td>Ã?dÃ¶n von HorvÃ¡th</td>\n",
       "      <td>6</td>\n",
       "    </tr>\n",
       "    <tr>\n",
       "      <th>101584</th>\n",
       "      <td>Ã?Â?dÃ?Â¶n von Horvath</td>\n",
       "      <td>4</td>\n",
       "    </tr>\n",
       "    <tr>\n",
       "      <th>101585</th>\n",
       "      <td>Ã?Â?pictÃ?Â¨te</td>\n",
       "      <td>4</td>\n",
       "    </tr>\n",
       "    <tr>\n",
       "      <th>101586</th>\n",
       "      <td>Ã?Â?ric Holder</td>\n",
       "      <td>24</td>\n",
       "    </tr>\n",
       "  </tbody>\n",
       "</table>\n",
       "<p>101587 rows × 2 columns</p>\n",
       "</div>"
      ],
      "text/plain": [
       "                                  author  num_of_ratings\n",
       "0                               D. Chiel              16\n",
       "1                           J. D. Landis               2\n",
       "2                            Mimma Balia               1\n",
       "3                                'N Sync               1\n",
       "4       142 moms from all over the world               1\n",
       "...                                  ...             ...\n",
       "101582                    Â¢ystein LÂ²nn               1\n",
       "101583               Ã?dÃ¶n von HorvÃ¡th               6\n",
       "101584            Ã?Â?dÃ?Â¶n von Horvath               4\n",
       "101585                    Ã?Â?pictÃ?Â¨te               4\n",
       "101586                    Ã?Â?ric Holder              24\n",
       "\n",
       "[101587 rows x 2 columns]"
      ]
     },
     "execution_count": 303,
     "metadata": {},
     "output_type": "execute_result"
    }
   ],
   "source": [
    "author_ratings = final_rating.groupby('author')['num_of_ratings'].sum().reset_index()\n",
    "author_ratings"
   ]
  },
  {
   "cell_type": "code",
   "execution_count": 304,
   "id": "b6766966",
   "metadata": {},
   "outputs": [],
   "source": [
    "author_rating = final_rating.groupby('author')['num_of_ratings'].sum().reset_index()\n",
    "\n",
    "# Sorting the DataFrame in descending order based on the total ratings\n",
    "author_ratings_sorted = author_ratings.sort_values(by='num_of_ratings', ascending=False)\n",
    "\n",
    "# Get the top 10 authors with the highest total ratings\n",
    "top_10_authors = author_ratings_sorted.head(10)"
   ]
  },
  {
   "cell_type": "code",
   "execution_count": 305,
   "id": "1d7c204a",
   "metadata": {},
   "outputs": [
    {
     "data": {
      "image/png": "[encoded data removed]",
      "text/plain": [
       "<Figure size 864x432 with 1 Axes>"
      ]
     },
     "metadata": {
      "needs_background": "light"
     },
     "output_type": "display_data"
    }
   ],
   "source": [
    "plt.figure(figsize=(12, 6))\n",
    "plt.barh(top_10_authors['author'], top_10_authors['num_of_ratings'], color='skyblue')\n",
    "plt.gca().invert_yaxis()  # Invert the y-axis to display the highest at the top\n",
    "plt.title('Top 10 Authors by Number of Ratings')\n",
    "plt.xlabel('Number of Ratings')\n",
    "plt.ylabel('Author')\n",
    "plt.grid(axis='x', linestyle='--', alpha=0.6)\n",
    "plt.show()"
   ]
  },
  {
   "cell_type": "markdown",
   "id": "111f3252",
   "metadata": {},
   "source": [
    "The plot elegantly displays the top ten celebrated authors alongside the corresponding number of ratings they have received.\n",
    "<b> Rich Shapero </b> is the most celebrated one."
   ]
  },
  {
   "cell_type": "code",
   "execution_count": 306,
   "id": "50839a62",
   "metadata": {},
   "outputs": [
    {
     "data": {
      "text/plain": [
       "Text(0.5, 1.0, 'No of readers from each city (Top 15)')"
      ]
     },
     "execution_count": 306,
     "metadata": {},
     "output_type": "execute_result"
    },
    {
     "data": {
      "image/png": "[encoded data removed]",
      "text/plain": [
       "<Figure size 1440x432 with 1 Axes>"
      ]
     },
     "metadata": {
      "needs_background": "light"
     },
     "output_type": "display_data"
    }
   ],
   "source": [
    "plt.figure(figsize=(20,6))\n",
    "sns.countplot(x=\"City\", data=users,order=users['City'].value_counts().index[0:15])\n",
    "plt.title(\"No of readers from each city (Top 15)\")"
   ]
  },
  {
   "cell_type": "markdown",
   "id": "0f71a5f6",
   "metadata": {},
   "source": [
    "This chart provides insights into the distribution of readers across different cities. London stands out with the highest number of readers, indicating a strong reading community in the city. Conversely, cities like Seattle, New York, and San Diego show comparatively lower reader numbers, suggesting varying levels of reading engagement in these locations."
   ]
  },
  {
   "cell_type": "code",
   "execution_count": 307,
   "id": "2fa7722a",
   "metadata": {},
   "outputs": [
    {
     "data": {
      "text/html": [
       "<div>\n",
       "<style scoped>\n",
       "    .dataframe tbody tr th:only-of-type {\n",
       "        vertical-align: middle;\n",
       "    }\n",
       "\n",
       "    .dataframe tbody tr th {\n",
       "        vertical-align: top;\n",
       "    }\n",
       "\n",
       "    .dataframe thead th {\n",
       "        text-align: right;\n",
       "    }\n",
       "</style>\n",
       "<table border=\"1\" class=\"dataframe\">\n",
       "  <thead>\n",
       "    <tr style=\"text-align: right;\">\n",
       "      <th></th>\n",
       "      <th>user_id</th>\n",
       "      <th>ISBN</th>\n",
       "      <th>rating</th>\n",
       "      <th>title</th>\n",
       "      <th>author</th>\n",
       "      <th>year</th>\n",
       "      <th>publisher</th>\n",
       "      <th>img_url</th>\n",
       "      <th>num_of_ratings</th>\n",
       "    </tr>\n",
       "  </thead>\n",
       "  <tbody>\n",
       "    <tr>\n",
       "      <th>578530</th>\n",
       "      <td>270713</td>\n",
       "      <td>0140167927</td>\n",
       "      <td>8</td>\n",
       "      <td>Tempest Tost (Salterton Trilogy)</td>\n",
       "      <td>Robertson Davies</td>\n",
       "      <td>1980</td>\n",
       "      <td>Penguin Books</td>\n",
       "      <td>http://images.amazon.com/images/P/0140167927.0...</td>\n",
       "      <td>3</td>\n",
       "    </tr>\n",
       "    <tr>\n",
       "      <th>109300</th>\n",
       "      <td>25981</td>\n",
       "      <td>0345441036</td>\n",
       "      <td>10</td>\n",
       "      <td>Black House</td>\n",
       "      <td>Stephen King</td>\n",
       "      <td>2002</td>\n",
       "      <td>Ballantine Books</td>\n",
       "      <td>http://images.amazon.com/images/P/0345441036.0...</td>\n",
       "      <td>207</td>\n",
       "    </tr>\n",
       "    <tr>\n",
       "      <th>760733</th>\n",
       "      <td>44802</td>\n",
       "      <td>0312962126</td>\n",
       "      <td>0</td>\n",
       "      <td>Extinct</td>\n",
       "      <td>Charles Wilson</td>\n",
       "      <td>1997</td>\n",
       "      <td>St. Martin's Press</td>\n",
       "      <td>http://images.amazon.com/images/P/0312962126.0...</td>\n",
       "      <td>9</td>\n",
       "    </tr>\n",
       "    <tr>\n",
       "      <th>964998</th>\n",
       "      <td>174216</td>\n",
       "      <td>0671458914</td>\n",
       "      <td>0</td>\n",
       "      <td>FDR CENTENRY REMBR</td>\n",
       "      <td>Kelli M. Gary</td>\n",
       "      <td>1982</td>\n",
       "      <td>Pocket</td>\n",
       "      <td>http://images.amazon.com/images/P/0671458914.0...</td>\n",
       "      <td>1</td>\n",
       "    </tr>\n",
       "    <tr>\n",
       "      <th>87300</th>\n",
       "      <td>125039</td>\n",
       "      <td>0425161242</td>\n",
       "      <td>0</td>\n",
       "      <td>Chromosome 6</td>\n",
       "      <td>Robin Cook</td>\n",
       "      <td>2000</td>\n",
       "      <td>Berkley Publishing Group</td>\n",
       "      <td>http://images.amazon.com/images/P/0425161242.0...</td>\n",
       "      <td>128</td>\n",
       "    </tr>\n",
       "    <tr>\n",
       "      <th>901046</th>\n",
       "      <td>110973</td>\n",
       "      <td>0373112033</td>\n",
       "      <td>0</td>\n",
       "      <td>Take Away The Pride (Harlequin Presents, 1203)</td>\n",
       "      <td>Emma Richmond</td>\n",
       "      <td>1989</td>\n",
       "      <td>Harlequin</td>\n",
       "      <td>http://images.amazon.com/images/P/0373112033.0...</td>\n",
       "      <td>1</td>\n",
       "    </tr>\n",
       "    <tr>\n",
       "      <th>838795</th>\n",
       "      <td>135149</td>\n",
       "      <td>082177140X</td>\n",
       "      <td>6</td>\n",
       "      <td>I Dream of You</td>\n",
       "      <td>Judi McCoy</td>\n",
       "      <td>2001</td>\n",
       "      <td>Zebra Books</td>\n",
       "      <td>http://images.amazon.com/images/P/082177140X.0...</td>\n",
       "      <td>10</td>\n",
       "    </tr>\n",
       "    <tr>\n",
       "      <th>121996</th>\n",
       "      <td>133961</td>\n",
       "      <td>0747527873</td>\n",
       "      <td>0</td>\n",
       "      <td>Alias Grace</td>\n",
       "      <td>Margaret Atwood</td>\n",
       "      <td>1996</td>\n",
       "      <td>Raincoast Book Dist Ltd</td>\n",
       "      <td>http://images.amazon.com/images/P/0747527873.0...</td>\n",
       "      <td>112</td>\n",
       "    </tr>\n",
       "    <tr>\n",
       "      <th>900570</th>\n",
       "      <td>110973</td>\n",
       "      <td>0373104782</td>\n",
       "      <td>0</td>\n",
       "      <td>Girl from Nowhere (Harlequin Presents)</td>\n",
       "      <td>Charlotte Lamb</td>\n",
       "      <td>1982</td>\n",
       "      <td>Harlequin Books</td>\n",
       "      <td>http://images.amazon.com/images/P/0373104782.0...</td>\n",
       "      <td>2</td>\n",
       "    </tr>\n",
       "    <tr>\n",
       "      <th>285436</th>\n",
       "      <td>76942</td>\n",
       "      <td>0440201926</td>\n",
       "      <td>0</td>\n",
       "      <td>Kaleidoscope</td>\n",
       "      <td>Danielle Steel</td>\n",
       "      <td>1988</td>\n",
       "      <td>Dell</td>\n",
       "      <td>http://images.amazon.com/images/P/0440201926.0...</td>\n",
       "      <td>115</td>\n",
       "    </tr>\n",
       "  </tbody>\n",
       "</table>\n",
       "</div>"
      ],
      "text/plain": [
       "        user_id        ISBN  rating  \\\n",
       "578530   270713  0140167927       8   \n",
       "109300    25981  0345441036      10   \n",
       "760733    44802  0312962126       0   \n",
       "964998   174216  0671458914       0   \n",
       "87300    125039  0425161242       0   \n",
       "901046   110973  0373112033       0   \n",
       "838795   135149  082177140X       6   \n",
       "121996   133961  0747527873       0   \n",
       "900570   110973  0373104782       0   \n",
       "285436    76942  0440201926       0   \n",
       "\n",
       "                                                 title            author  \\\n",
       "578530                Tempest Tost (Salterton Trilogy)  Robertson Davies   \n",
       "109300                                     Black House      Stephen King   \n",
       "760733                                         Extinct    Charles Wilson   \n",
       "964998                              FDR CENTENRY REMBR     Kelli M. Gary   \n",
       "87300                                     Chromosome 6        Robin Cook   \n",
       "901046  Take Away The Pride (Harlequin Presents, 1203)     Emma Richmond   \n",
       "838795                                  I Dream of You        Judi McCoy   \n",
       "121996                                     Alias Grace   Margaret Atwood   \n",
       "900570          Girl from Nowhere (Harlequin Presents)    Charlotte Lamb   \n",
       "285436                                    Kaleidoscope    Danielle Steel   \n",
       "\n",
       "        year                 publisher  \\\n",
       "578530  1980             Penguin Books   \n",
       "109300  2002          Ballantine Books   \n",
       "760733  1997        St. Martin's Press   \n",
       "964998  1982                    Pocket   \n",
       "87300   2000  Berkley Publishing Group   \n",
       "901046  1989                 Harlequin   \n",
       "838795  2001               Zebra Books   \n",
       "121996  1996   Raincoast Book Dist Ltd   \n",
       "900570  1982           Harlequin Books   \n",
       "285436  1988                      Dell   \n",
       "\n",
       "                                                  img_url  num_of_ratings  \n",
       "578530  http://images.amazon.com/images/P/0140167927.0...               3  \n",
       "109300  http://images.amazon.com/images/P/0345441036.0...             207  \n",
       "760733  http://images.amazon.com/images/P/0312962126.0...               9  \n",
       "964998  http://images.amazon.com/images/P/0671458914.0...               1  \n",
       "87300   http://images.amazon.com/images/P/0425161242.0...             128  \n",
       "901046  http://images.amazon.com/images/P/0373112033.0...               1  \n",
       "838795  http://images.amazon.com/images/P/082177140X.0...              10  \n",
       "121996  http://images.amazon.com/images/P/0747527873.0...             112  \n",
       "900570  http://images.amazon.com/images/P/0373104782.0...               2  \n",
       "285436  http://images.amazon.com/images/P/0440201926.0...             115  "
      ]
     },
     "execution_count": 307,
     "metadata": {},
     "output_type": "execute_result"
    }
   ],
   "source": [
    "final_rating.sample(10)"
   ]
  },
  {
   "cell_type": "code",
   "execution_count": 308,
   "id": "54493c65",
   "metadata": {},
   "outputs": [
    {
     "data": {
      "text/plain": [
       "(1031132, 9)"
      ]
     },
     "execution_count": 308,
     "metadata": {},
     "output_type": "execute_result"
    }
   ],
   "source": [
    "final_rating.shape"
   ]
  },
  {
   "cell_type": "markdown",
   "id": "4ec62d3a",
   "metadata": {},
   "source": [
    "<b> Here we handle a common data scenario where users may submit multiple reviews for the same book at different times. We are doing this to ensure the data consistency. </b>"
   ]
  },
  {
   "cell_type": "code",
   "execution_count": 309,
   "id": "b2a3c307",
   "metadata": {},
   "outputs": [],
   "source": [
    "final_rating.drop_duplicates(['title','user_id'], inplace = True)"
   ]
  },
  {
   "cell_type": "code",
   "execution_count": 310,
   "id": "325d7172",
   "metadata": {},
   "outputs": [
    {
     "data": {
      "text/plain": [
       "(1026354, 9)"
      ]
     },
     "execution_count": 310,
     "metadata": {},
     "output_type": "execute_result"
    }
   ],
   "source": [
    "final_rating.shape"
   ]
  },
  {
   "cell_type": "code",
   "execution_count": 311,
   "id": "fddbf5b4",
   "metadata": {},
   "outputs": [
    {
     "data": {
      "text/html": [
       "<div>\n",
       "<style scoped>\n",
       "    .dataframe tbody tr th:only-of-type {\n",
       "        vertical-align: middle;\n",
       "    }\n",
       "\n",
       "    .dataframe tbody tr th {\n",
       "        vertical-align: top;\n",
       "    }\n",
       "\n",
       "    .dataframe thead th {\n",
       "        text-align: right;\n",
       "    }\n",
       "</style>\n",
       "<table border=\"1\" class=\"dataframe\">\n",
       "  <thead>\n",
       "    <tr style=\"text-align: right;\">\n",
       "      <th></th>\n",
       "      <th>user_id</th>\n",
       "      <th>ISBN</th>\n",
       "      <th>rating</th>\n",
       "      <th>title</th>\n",
       "      <th>author</th>\n",
       "      <th>year</th>\n",
       "      <th>publisher</th>\n",
       "      <th>img_url</th>\n",
       "      <th>num_of_ratings</th>\n",
       "    </tr>\n",
       "  </thead>\n",
       "  <tbody>\n",
       "    <tr>\n",
       "      <th>148797</th>\n",
       "      <td>232422</td>\n",
       "      <td>0060198346</td>\n",
       "      <td>0</td>\n",
       "      <td>The Sky Is Falling</td>\n",
       "      <td>Sidney Sheldon</td>\n",
       "      <td>2000</td>\n",
       "      <td>William Morrow &amp;amp; Company</td>\n",
       "      <td>http://images.amazon.com/images/P/0060198346.0...</td>\n",
       "      <td>112</td>\n",
       "    </tr>\n",
       "    <tr>\n",
       "      <th>843111</th>\n",
       "      <td>77940</td>\n",
       "      <td>1551664798</td>\n",
       "      <td>0</td>\n",
       "      <td>Duncan'S Bride</td>\n",
       "      <td>Linda Howard</td>\n",
       "      <td>1998</td>\n",
       "      <td>Mira</td>\n",
       "      <td>http://images.amazon.com/images/P/1551664798.0...</td>\n",
       "      <td>8</td>\n",
       "    </tr>\n",
       "    <tr>\n",
       "      <th>1012220</th>\n",
       "      <td>238781</td>\n",
       "      <td>0590331051</td>\n",
       "      <td>0</td>\n",
       "      <td>The Mystery Cruise (Windswept)</td>\n",
       "      <td>Carole Standish</td>\n",
       "      <td>1984</td>\n",
       "      <td>Scholastic</td>\n",
       "      <td>http://images.amazon.com/images/P/0590331051.0...</td>\n",
       "      <td>2</td>\n",
       "    </tr>\n",
       "    <tr>\n",
       "      <th>103093</th>\n",
       "      <td>218552</td>\n",
       "      <td>0440213525</td>\n",
       "      <td>8</td>\n",
       "      <td>The Client</td>\n",
       "      <td>John Grisham</td>\n",
       "      <td>1994</td>\n",
       "      <td>Dell Publishing Company</td>\n",
       "      <td>http://images.amazon.com/images/P/0440213525.0...</td>\n",
       "      <td>483</td>\n",
       "    </tr>\n",
       "    <tr>\n",
       "      <th>807489</th>\n",
       "      <td>73651</td>\n",
       "      <td>0553375369</td>\n",
       "      <td>0</td>\n",
       "      <td>The Death of Bernadette Lefthand: A Novel</td>\n",
       "      <td>Ronald B. Querry</td>\n",
       "      <td>1995</td>\n",
       "      <td>Bantam</td>\n",
       "      <td>http://images.amazon.com/images/P/0553375369.0...</td>\n",
       "      <td>4</td>\n",
       "    </tr>\n",
       "    <tr>\n",
       "      <th>610911</th>\n",
       "      <td>242006</td>\n",
       "      <td>084394952X</td>\n",
       "      <td>10</td>\n",
       "      <td>Dark Legend</td>\n",
       "      <td>Christine Feehan</td>\n",
       "      <td>2002</td>\n",
       "      <td>Leisure Books</td>\n",
       "      <td>http://images.amazon.com/images/P/084394952X.0...</td>\n",
       "      <td>24</td>\n",
       "    </tr>\n",
       "    <tr>\n",
       "      <th>574306</th>\n",
       "      <td>224349</td>\n",
       "      <td>0062502891</td>\n",
       "      <td>0</td>\n",
       "      <td>The Chalice and the Blade: Our History, Our Fu...</td>\n",
       "      <td>Riane Eisler</td>\n",
       "      <td>1988</td>\n",
       "      <td>HarperSanFrancisco</td>\n",
       "      <td>http://images.amazon.com/images/P/0062502891.0...</td>\n",
       "      <td>15</td>\n",
       "    </tr>\n",
       "  </tbody>\n",
       "</table>\n",
       "</div>"
      ],
      "text/plain": [
       "         user_id        ISBN  rating  \\\n",
       "148797    232422  0060198346       0   \n",
       "843111     77940  1551664798       0   \n",
       "1012220   238781  0590331051       0   \n",
       "103093    218552  0440213525       8   \n",
       "807489     73651  0553375369       0   \n",
       "610911    242006  084394952X      10   \n",
       "574306    224349  0062502891       0   \n",
       "\n",
       "                                                     title            author  \\\n",
       "148797                                  The Sky Is Falling    Sidney Sheldon   \n",
       "843111                                      Duncan'S Bride      Linda Howard   \n",
       "1012220                     The Mystery Cruise (Windswept)   Carole Standish   \n",
       "103093                                          The Client      John Grisham   \n",
       "807489           The Death of Bernadette Lefthand: A Novel  Ronald B. Querry   \n",
       "610911                                         Dark Legend  Christine Feehan   \n",
       "574306   The Chalice and the Blade: Our History, Our Fu...      Riane Eisler   \n",
       "\n",
       "         year                     publisher  \\\n",
       "148797   2000  William Morrow &amp; Company   \n",
       "843111   1998                          Mira   \n",
       "1012220  1984                    Scholastic   \n",
       "103093   1994       Dell Publishing Company   \n",
       "807489   1995                        Bantam   \n",
       "610911   2002                 Leisure Books   \n",
       "574306   1988            HarperSanFrancisco   \n",
       "\n",
       "                                                   img_url  num_of_ratings  \n",
       "148797   http://images.amazon.com/images/P/0060198346.0...             112  \n",
       "843111   http://images.amazon.com/images/P/1551664798.0...               8  \n",
       "1012220  http://images.amazon.com/images/P/0590331051.0...               2  \n",
       "103093   http://images.amazon.com/images/P/0440213525.0...             483  \n",
       "807489   http://images.amazon.com/images/P/0553375369.0...               4  \n",
       "610911   http://images.amazon.com/images/P/084394952X.0...              24  \n",
       "574306   http://images.amazon.com/images/P/0062502891.0...              15  "
      ]
     },
     "execution_count": 311,
     "metadata": {},
     "output_type": "execute_result"
    }
   ],
   "source": [
    "final_rating.sample(7)"
   ]
  },
  {
   "cell_type": "markdown",
   "id": "62c2caa7",
   "metadata": {},
   "source": [
    "In this exploratory data analysis (EDA), we've meticulously examined the book recommendation dataset. We began by addressing missing values to ensure data integrity. Next, we explored feature values, gaining insights into books, user interactions, and ratings. Notably, we strategically combined three tables—book information, user details, and user ratings—into a final rating dataset, primed for training recommendation models.\n",
    "\n",
    "This EDA has laid a solid foundation for our next steps: the development of efficient recommendation algorithms. Our next step is to start with modeling and training process.\n"
   ]
  },
  {
   "cell_type": "markdown",
   "id": "942eef0e",
   "metadata": {},
   "source": [
    "<hr>\n",
    "Before we start building our models, we need to clean and filter our data. This is because, during our initial data exploration, we discovered some issues that need to be addressed. Filtering the data will help us remove any irrelevant or problematic information, ensuring that our models can work effectively. This step is essential to ensure that our modeling phase is based on high-quality data, leading to more accurate and valuable results."
   ]
  },
  {
   "cell_type": "code",
   "execution_count": 312,
   "id": "347a69da",
   "metadata": {},
   "outputs": [
    {
     "data": {
      "text/plain": [
       "count    105283.000000\n",
       "mean         10.920851\n",
       "std          90.562825\n",
       "min           1.000000\n",
       "25%           1.000000\n",
       "50%           1.000000\n",
       "75%           4.000000\n",
       "max       13602.000000\n",
       "Name: user_id, dtype: float64"
      ]
     },
     "execution_count": 312,
     "metadata": {},
     "output_type": "execute_result"
    }
   ],
   "source": [
    "ratings_per_user=ratings['user_id'].value_counts()\n",
    "ratings_per_user.describe()"
   ]
  },
  {
   "cell_type": "markdown",
   "id": "0f74921c",
   "metadata": {},
   "source": [
    "The dataset displays a skewed distribution, predominantly around a value of 1, suggesting that most users may be newcomers or infrequent users. However, there are significant outliers, with values as high as 13,602, indicating potential anomalies or unique cases requiring attention.\n",
    "\n",
    "To enhance data quality, we are contemplating defining a reasonable range for the number of reviews per user and considering only users with a minimum of 200 reviews. This approach ensures that our analysis centers on engaged and active users, contributing to dataset refinement."
   ]
  },
  {
   "cell_type": "code",
   "execution_count": 313,
   "id": "17d5cb96",
   "metadata": {},
   "outputs": [],
   "source": [
    "x = ratings['user_id'].value_counts() > 200"
   ]
  },
  {
   "cell_type": "code",
   "execution_count": 314,
   "id": "1d4bf8b0",
   "metadata": {},
   "outputs": [
    {
     "data": {
      "text/plain": [
       "(899,)"
      ]
     },
     "execution_count": 314,
     "metadata": {},
     "output_type": "execute_result"
    }
   ],
   "source": [
    "x[x].shape"
   ]
  },
  {
   "cell_type": "code",
   "execution_count": 315,
   "id": "53be7595",
   "metadata": {},
   "outputs": [
    {
     "data": {
      "text/plain": [
       "Int64Index([ 11676, 198711, 153662,  98391,  35859, 212898, 278418,  76352,\n",
       "            110973, 235105,\n",
       "            ...\n",
       "            260183,  73681,  44296, 155916,   9856, 274808,  28634,  59727,\n",
       "            268622, 188951],\n",
       "           dtype='int64', length=899)"
      ]
     },
     "execution_count": 315,
     "metadata": {},
     "output_type": "execute_result"
    }
   ],
   "source": [
    "y = x[x].index\n",
    "y"
   ]
  },
  {
   "cell_type": "code",
   "execution_count": 316,
   "id": "550b3ceb",
   "metadata": {},
   "outputs": [
    {
     "data": {
      "text/html": [
       "<div>\n",
       "<style scoped>\n",
       "    .dataframe tbody tr th:only-of-type {\n",
       "        vertical-align: middle;\n",
       "    }\n",
       "\n",
       "    .dataframe tbody tr th {\n",
       "        vertical-align: top;\n",
       "    }\n",
       "\n",
       "    .dataframe thead th {\n",
       "        text-align: right;\n",
       "    }\n",
       "</style>\n",
       "<table border=\"1\" class=\"dataframe\">\n",
       "  <thead>\n",
       "    <tr style=\"text-align: right;\">\n",
       "      <th></th>\n",
       "      <th>user_id</th>\n",
       "      <th>ISBN</th>\n",
       "      <th>rating</th>\n",
       "    </tr>\n",
       "  </thead>\n",
       "  <tbody>\n",
       "    <tr>\n",
       "      <th>1456</th>\n",
       "      <td>277427</td>\n",
       "      <td>002542730X</td>\n",
       "      <td>10</td>\n",
       "    </tr>\n",
       "    <tr>\n",
       "      <th>1457</th>\n",
       "      <td>277427</td>\n",
       "      <td>0026217457</td>\n",
       "      <td>0</td>\n",
       "    </tr>\n",
       "    <tr>\n",
       "      <th>1458</th>\n",
       "      <td>277427</td>\n",
       "      <td>003008685X</td>\n",
       "      <td>8</td>\n",
       "    </tr>\n",
       "    <tr>\n",
       "      <th>1459</th>\n",
       "      <td>277427</td>\n",
       "      <td>0030615321</td>\n",
       "      <td>0</td>\n",
       "    </tr>\n",
       "    <tr>\n",
       "      <th>1460</th>\n",
       "      <td>277427</td>\n",
       "      <td>0060002050</td>\n",
       "      <td>0</td>\n",
       "    </tr>\n",
       "    <tr>\n",
       "      <th>...</th>\n",
       "      <td>...</td>\n",
       "      <td>...</td>\n",
       "      <td>...</td>\n",
       "    </tr>\n",
       "    <tr>\n",
       "      <th>1147612</th>\n",
       "      <td>275970</td>\n",
       "      <td>3829021860</td>\n",
       "      <td>0</td>\n",
       "    </tr>\n",
       "    <tr>\n",
       "      <th>1147613</th>\n",
       "      <td>275970</td>\n",
       "      <td>4770019572</td>\n",
       "      <td>0</td>\n",
       "    </tr>\n",
       "    <tr>\n",
       "      <th>1147614</th>\n",
       "      <td>275970</td>\n",
       "      <td>896086097</td>\n",
       "      <td>0</td>\n",
       "    </tr>\n",
       "    <tr>\n",
       "      <th>1147615</th>\n",
       "      <td>275970</td>\n",
       "      <td>9626340762</td>\n",
       "      <td>8</td>\n",
       "    </tr>\n",
       "    <tr>\n",
       "      <th>1147616</th>\n",
       "      <td>275970</td>\n",
       "      <td>9626344990</td>\n",
       "      <td>0</td>\n",
       "    </tr>\n",
       "  </tbody>\n",
       "</table>\n",
       "<p>526356 rows × 3 columns</p>\n",
       "</div>"
      ],
      "text/plain": [
       "         user_id        ISBN  rating\n",
       "1456      277427  002542730X      10\n",
       "1457      277427  0026217457       0\n",
       "1458      277427  003008685X       8\n",
       "1459      277427  0030615321       0\n",
       "1460      277427  0060002050       0\n",
       "...          ...         ...     ...\n",
       "1147612   275970  3829021860       0\n",
       "1147613   275970  4770019572       0\n",
       "1147614   275970   896086097       0\n",
       "1147615   275970  9626340762       8\n",
       "1147616   275970  9626344990       0\n",
       "\n",
       "[526356 rows x 3 columns]"
      ]
     },
     "execution_count": 316,
     "metadata": {},
     "output_type": "execute_result"
    }
   ],
   "source": [
    "ratings[ratings['user_id'].isin(y)]"
   ]
  },
  {
   "cell_type": "code",
   "execution_count": 317,
   "id": "d46d0f5d",
   "metadata": {},
   "outputs": [
    {
     "data": {
      "text/plain": [
       "(526356, 3)"
      ]
     },
     "execution_count": 317,
     "metadata": {},
     "output_type": "execute_result"
    }
   ],
   "source": [
    "ratings=ratings[ratings['user_id'].isin(y)]\n",
    "ratings.shape"
   ]
  },
  {
   "cell_type": "code",
   "execution_count": 318,
   "id": "73f80430",
   "metadata": {},
   "outputs": [
    {
     "data": {
      "text/html": [
       "<div>\n",
       "<style scoped>\n",
       "    .dataframe tbody tr th:only-of-type {\n",
       "        vertical-align: middle;\n",
       "    }\n",
       "\n",
       "    .dataframe tbody tr th {\n",
       "        vertical-align: top;\n",
       "    }\n",
       "\n",
       "    .dataframe thead th {\n",
       "        text-align: right;\n",
       "    }\n",
       "</style>\n",
       "<table border=\"1\" class=\"dataframe\">\n",
       "  <thead>\n",
       "    <tr style=\"text-align: right;\">\n",
       "      <th></th>\n",
       "      <th>user_id</th>\n",
       "      <th>ISBN</th>\n",
       "      <th>rating</th>\n",
       "      <th>title</th>\n",
       "      <th>author</th>\n",
       "      <th>year</th>\n",
       "      <th>publisher</th>\n",
       "      <th>img_url</th>\n",
       "    </tr>\n",
       "  </thead>\n",
       "  <tbody>\n",
       "    <tr>\n",
       "      <th>0</th>\n",
       "      <td>277427</td>\n",
       "      <td>002542730X</td>\n",
       "      <td>10</td>\n",
       "      <td>Politically Correct Bedtime Stories: Modern Ta...</td>\n",
       "      <td>James Finn Garner</td>\n",
       "      <td>1994</td>\n",
       "      <td>John Wiley &amp;amp; Sons Inc</td>\n",
       "      <td>http://images.amazon.com/images/P/002542730X.0...</td>\n",
       "    </tr>\n",
       "    <tr>\n",
       "      <th>1</th>\n",
       "      <td>3363</td>\n",
       "      <td>002542730X</td>\n",
       "      <td>0</td>\n",
       "      <td>Politically Correct Bedtime Stories: Modern Ta...</td>\n",
       "      <td>James Finn Garner</td>\n",
       "      <td>1994</td>\n",
       "      <td>John Wiley &amp;amp; Sons Inc</td>\n",
       "      <td>http://images.amazon.com/images/P/002542730X.0...</td>\n",
       "    </tr>\n",
       "    <tr>\n",
       "      <th>2</th>\n",
       "      <td>11676</td>\n",
       "      <td>002542730X</td>\n",
       "      <td>6</td>\n",
       "      <td>Politically Correct Bedtime Stories: Modern Ta...</td>\n",
       "      <td>James Finn Garner</td>\n",
       "      <td>1994</td>\n",
       "      <td>John Wiley &amp;amp; Sons Inc</td>\n",
       "      <td>http://images.amazon.com/images/P/002542730X.0...</td>\n",
       "    </tr>\n",
       "  </tbody>\n",
       "</table>\n",
       "</div>"
      ],
      "text/plain": [
       "   user_id        ISBN  rating  \\\n",
       "0   277427  002542730X      10   \n",
       "1     3363  002542730X       0   \n",
       "2    11676  002542730X       6   \n",
       "\n",
       "                                               title             author  year  \\\n",
       "0  Politically Correct Bedtime Stories: Modern Ta...  James Finn Garner  1994   \n",
       "1  Politically Correct Bedtime Stories: Modern Ta...  James Finn Garner  1994   \n",
       "2  Politically Correct Bedtime Stories: Modern Ta...  James Finn Garner  1994   \n",
       "\n",
       "                   publisher  \\\n",
       "0  John Wiley &amp; Sons Inc   \n",
       "1  John Wiley &amp; Sons Inc   \n",
       "2  John Wiley &amp; Sons Inc   \n",
       "\n",
       "                                             img_url  \n",
       "0  http://images.amazon.com/images/P/002542730X.0...  \n",
       "1  http://images.amazon.com/images/P/002542730X.0...  \n",
       "2  http://images.amazon.com/images/P/002542730X.0...  "
      ]
     },
     "execution_count": 318,
     "metadata": {},
     "output_type": "execute_result"
    }
   ],
   "source": [
    "# here we are going to join books and ratings tables based on ISBN feature\n",
    "ratings_with_books = ratings.merge(books, on = \"ISBN\")\n",
    "# here ratings_with_books will include only books reviewed by top reviewers\n",
    "ratings_with_books.head(3)"
   ]
  },
  {
   "cell_type": "code",
   "execution_count": 319,
   "id": "9026de73",
   "metadata": {},
   "outputs": [],
   "source": [
    "num_rating = ratings_with_books.groupby('title')['rating'].count().reset_index()"
   ]
  },
  {
   "cell_type": "code",
   "execution_count": 320,
   "id": "8206ca71",
   "metadata": {},
   "outputs": [
    {
     "data": {
      "text/html": [
       "<div>\n",
       "<style scoped>\n",
       "    .dataframe tbody tr th:only-of-type {\n",
       "        vertical-align: middle;\n",
       "    }\n",
       "\n",
       "    .dataframe tbody tr th {\n",
       "        vertical-align: top;\n",
       "    }\n",
       "\n",
       "    .dataframe thead th {\n",
       "        text-align: right;\n",
       "    }\n",
       "</style>\n",
       "<table border=\"1\" class=\"dataframe\">\n",
       "  <thead>\n",
       "    <tr style=\"text-align: right;\">\n",
       "      <th></th>\n",
       "      <th>rating</th>\n",
       "    </tr>\n",
       "  </thead>\n",
       "  <tbody>\n",
       "    <tr>\n",
       "      <th>count</th>\n",
       "      <td>160266.000000</td>\n",
       "    </tr>\n",
       "    <tr>\n",
       "      <th>mean</th>\n",
       "      <td>3.042866</td>\n",
       "    </tr>\n",
       "    <tr>\n",
       "      <th>std</th>\n",
       "      <td>7.421961</td>\n",
       "    </tr>\n",
       "    <tr>\n",
       "      <th>min</th>\n",
       "      <td>1.000000</td>\n",
       "    </tr>\n",
       "    <tr>\n",
       "      <th>25%</th>\n",
       "      <td>1.000000</td>\n",
       "    </tr>\n",
       "    <tr>\n",
       "      <th>50%</th>\n",
       "      <td>1.000000</td>\n",
       "    </tr>\n",
       "    <tr>\n",
       "      <th>75%</th>\n",
       "      <td>2.000000</td>\n",
       "    </tr>\n",
       "    <tr>\n",
       "      <th>max</th>\n",
       "      <td>363.000000</td>\n",
       "    </tr>\n",
       "  </tbody>\n",
       "</table>\n",
       "</div>"
      ],
      "text/plain": [
       "              rating\n",
       "count  160266.000000\n",
       "mean        3.042866\n",
       "std         7.421961\n",
       "min         1.000000\n",
       "25%         1.000000\n",
       "50%         1.000000\n",
       "75%         2.000000\n",
       "max       363.000000"
      ]
     },
     "execution_count": 320,
     "metadata": {},
     "output_type": "execute_result"
    }
   ],
   "source": [
    "num_rating[['rating']].describe()"
   ]
  },
  {
   "cell_type": "markdown",
   "id": "db3e9fd5",
   "metadata": {},
   "source": [
    "The statistical summary of 'num_of_rating' column shows that books receive an average of around 3.04 ratings, with substantial variability. Ratings range from 1 to 363 per book, indicating diverse user engagement levels. To improve recommendation accuracy, we may consider including books exceeding a predefined rating threshold in our analysis."
   ]
  },
  {
   "cell_type": "code",
   "execution_count": 321,
   "id": "08cb83f3",
   "metadata": {},
   "outputs": [],
   "source": [
    "num_rating.rename(columns = {\n",
    "    'rating':'num_of_ratings'\n",
    "}, inplace=True)"
   ]
  },
  {
   "cell_type": "markdown",
   "id": "f6e67df5",
   "metadata": {},
   "source": [
    "Here, We Combine the 'ratings_with_books' Data with the 'num_rating' Data based on the 'title' column to associate each book's rating count with its respective rating data."
   ]
  },
  {
   "cell_type": "code",
   "execution_count": 322,
   "id": "d91c91a4",
   "metadata": {},
   "outputs": [],
   "source": [
    "final_rating = ratings_with_books.merge(num_rating, on = \"title\")"
   ]
  },
  {
   "cell_type": "code",
   "execution_count": 323,
   "id": "bd1303a2",
   "metadata": {},
   "outputs": [
    {
     "data": {
      "text/html": [
       "<div>\n",
       "<style scoped>\n",
       "    .dataframe tbody tr th:only-of-type {\n",
       "        vertical-align: middle;\n",
       "    }\n",
       "\n",
       "    .dataframe tbody tr th {\n",
       "        vertical-align: top;\n",
       "    }\n",
       "\n",
       "    .dataframe thead th {\n",
       "        text-align: right;\n",
       "    }\n",
       "</style>\n",
       "<table border=\"1\" class=\"dataframe\">\n",
       "  <thead>\n",
       "    <tr style=\"text-align: right;\">\n",
       "      <th></th>\n",
       "      <th>user_id</th>\n",
       "      <th>ISBN</th>\n",
       "      <th>rating</th>\n",
       "      <th>title</th>\n",
       "      <th>author</th>\n",
       "      <th>year</th>\n",
       "      <th>publisher</th>\n",
       "      <th>img_url</th>\n",
       "      <th>num_of_ratings</th>\n",
       "    </tr>\n",
       "  </thead>\n",
       "  <tbody>\n",
       "    <tr>\n",
       "      <th>0</th>\n",
       "      <td>277427</td>\n",
       "      <td>002542730X</td>\n",
       "      <td>10</td>\n",
       "      <td>Politically Correct Bedtime Stories: Modern Ta...</td>\n",
       "      <td>James Finn Garner</td>\n",
       "      <td>1994</td>\n",
       "      <td>John Wiley &amp;amp; Sons Inc</td>\n",
       "      <td>http://images.amazon.com/images/P/002542730X.0...</td>\n",
       "      <td>82</td>\n",
       "    </tr>\n",
       "    <tr>\n",
       "      <th>1</th>\n",
       "      <td>3363</td>\n",
       "      <td>002542730X</td>\n",
       "      <td>0</td>\n",
       "      <td>Politically Correct Bedtime Stories: Modern Ta...</td>\n",
       "      <td>James Finn Garner</td>\n",
       "      <td>1994</td>\n",
       "      <td>John Wiley &amp;amp; Sons Inc</td>\n",
       "      <td>http://images.amazon.com/images/P/002542730X.0...</td>\n",
       "      <td>82</td>\n",
       "    </tr>\n",
       "  </tbody>\n",
       "</table>\n",
       "</div>"
      ],
      "text/plain": [
       "   user_id        ISBN  rating  \\\n",
       "0   277427  002542730X      10   \n",
       "1     3363  002542730X       0   \n",
       "\n",
       "                                               title             author  year  \\\n",
       "0  Politically Correct Bedtime Stories: Modern Ta...  James Finn Garner  1994   \n",
       "1  Politically Correct Bedtime Stories: Modern Ta...  James Finn Garner  1994   \n",
       "\n",
       "                   publisher  \\\n",
       "0  John Wiley &amp; Sons Inc   \n",
       "1  John Wiley &amp; Sons Inc   \n",
       "\n",
       "                                             img_url  num_of_ratings  \n",
       "0  http://images.amazon.com/images/P/002542730X.0...              82  \n",
       "1  http://images.amazon.com/images/P/002542730X.0...              82  "
      ]
     },
     "execution_count": 323,
     "metadata": {},
     "output_type": "execute_result"
    }
   ],
   "source": [
    "final_rating.head(2)"
   ]
  },
  {
   "cell_type": "code",
   "execution_count": 324,
   "id": "355fe3e7",
   "metadata": {},
   "outputs": [
    {
     "data": {
      "text/html": [
       "<div>\n",
       "<style scoped>\n",
       "    .dataframe tbody tr th:only-of-type {\n",
       "        vertical-align: middle;\n",
       "    }\n",
       "\n",
       "    .dataframe tbody tr th {\n",
       "        vertical-align: top;\n",
       "    }\n",
       "\n",
       "    .dataframe thead th {\n",
       "        text-align: right;\n",
       "    }\n",
       "</style>\n",
       "<table border=\"1\" class=\"dataframe\">\n",
       "  <thead>\n",
       "    <tr style=\"text-align: right;\">\n",
       "      <th></th>\n",
       "      <th>user_id</th>\n",
       "      <th>ISBN</th>\n",
       "      <th>rating</th>\n",
       "      <th>title</th>\n",
       "      <th>author</th>\n",
       "      <th>year</th>\n",
       "      <th>publisher</th>\n",
       "      <th>img_url</th>\n",
       "      <th>num_of_ratings</th>\n",
       "    </tr>\n",
       "  </thead>\n",
       "  <tbody>\n",
       "    <tr>\n",
       "      <th>0</th>\n",
       "      <td>277427</td>\n",
       "      <td>002542730X</td>\n",
       "      <td>10</td>\n",
       "      <td>Politically Correct Bedtime Stories: Modern Ta...</td>\n",
       "      <td>James Finn Garner</td>\n",
       "      <td>1994</td>\n",
       "      <td>John Wiley &amp;amp; Sons Inc</td>\n",
       "      <td>http://images.amazon.com/images/P/002542730X.0...</td>\n",
       "      <td>82</td>\n",
       "    </tr>\n",
       "    <tr>\n",
       "      <th>1</th>\n",
       "      <td>3363</td>\n",
       "      <td>002542730X</td>\n",
       "      <td>0</td>\n",
       "      <td>Politically Correct Bedtime Stories: Modern Ta...</td>\n",
       "      <td>James Finn Garner</td>\n",
       "      <td>1994</td>\n",
       "      <td>John Wiley &amp;amp; Sons Inc</td>\n",
       "      <td>http://images.amazon.com/images/P/002542730X.0...</td>\n",
       "      <td>82</td>\n",
       "    </tr>\n",
       "  </tbody>\n",
       "</table>\n",
       "</div>"
      ],
      "text/plain": [
       "   user_id        ISBN  rating  \\\n",
       "0   277427  002542730X      10   \n",
       "1     3363  002542730X       0   \n",
       "\n",
       "                                               title             author  year  \\\n",
       "0  Politically Correct Bedtime Stories: Modern Ta...  James Finn Garner  1994   \n",
       "1  Politically Correct Bedtime Stories: Modern Ta...  James Finn Garner  1994   \n",
       "\n",
       "                   publisher  \\\n",
       "0  John Wiley &amp; Sons Inc   \n",
       "1  John Wiley &amp; Sons Inc   \n",
       "\n",
       "                                             img_url  num_of_ratings  \n",
       "0  http://images.amazon.com/images/P/002542730X.0...              82  \n",
       "1  http://images.amazon.com/images/P/002542730X.0...              82  "
      ]
     },
     "execution_count": 324,
     "metadata": {},
     "output_type": "execute_result"
    }
   ],
   "source": [
    "final_rating =final_rating[final_rating['num_of_ratings'] >= 50 ]\n",
    "final_rating.head(2)"
   ]
  },
  {
   "cell_type": "markdown",
   "id": "cefd6d0d",
   "metadata": {},
   "source": [
    "<br>\n",
    "<br>\n",
    "Here, we filter the \"final_rating\" dataset, including only books with more than 50 ratings, ensuring that we concentrate on well-reviewed books."
   ]
  },
  {
   "cell_type": "code",
   "execution_count": 325,
   "id": "aed6bf58",
   "metadata": {},
   "outputs": [],
   "source": [
    "final_rating.drop_duplicates(['title','user_id'], inplace = True)"
   ]
  },
  {
   "cell_type": "markdown",
   "id": "65b7820e",
   "metadata": {},
   "source": [
    "<b> Here we handle a common data scenario where users may submit multiple reviews for the same book at different times. We are doing this to ensure the data consistency. </b>\n",
    "\n",
    "<hr>"
   ]
  },
  {
   "cell_type": "markdown",
   "id": "d6339780",
   "metadata": {},
   "source": [
    "## Book Recommendation System using Collaborative Filtering"
   ]
  },
  {
   "cell_type": "markdown",
   "id": "5f1d04f4",
   "metadata": {},
   "source": [
    "**Recommendation System Types:**\n",
    "\n",
    "Personalized recommendation systems come in two primary types:\n",
    "\n",
    "1. Content-Based Filtering:** This approach personalizes recommendations by considering a user's past preferences and item attributes, such as author, publisher, or genre. It suggests items that share similarities with those the user has previously enjoyed.\n",
    "\n",
    "2. Collaborative-Based Filtering:** Recommendations in this category are solely based on a user's historical likes and dislikes, as well as the rating patterns of other users. It doesn't take into account item characteristics like author or genre, nor user attributes like age, gender, or location. Collaborative filtering can be divided into two subtypes:\n",
    "\n",
    "   a- Memory-Based Approach:** This method employs the entire user-item rating dataset to calculate similarity scores between items or users, forming the basis for recommendations. It further branches into:\n",
    "    \n",
    "   1. User-Based:** Items are recommended to a user based on the preferences of users who share similar tastes. If one user closely resembles another and the latter enjoyed a particular item, it is suggested to the former.\n",
    "        \n",
    "   2. **Item-Based:** Recommendations rely on the similarity of items that a user has previously rated positively.\n",
    "    \n",
    "   b- Model-Based Approach:** Utilizing user-item rating data, this approach constructs a recommendation model. Rather than utilizing the entire dataset, the model is leveraged to generate recommendations. This approach is favored when considerations like scalability and efficiency are paramount.\n",
    "\n"
   ]
  },
  {
   "cell_type": "markdown",
   "id": "2d950013",
   "metadata": {},
   "source": [
    "<br>\n",
    "<br>\n",
    "\n",
    "### Project Objective:\n",
    "\n",
    "This project revolves around the development of a collaborative filtering recommendation system, specifically focusing on the memory-based approach, which encompasses both user-based and item-based systems."
   ]
  },
  {
   "cell_type": "markdown",
   "id": "e14eb0ce",
   "metadata": {},
   "source": [
    "#### We will start preparing our dataset for modeling. The first step is transforming the data into a pivoted table.\n",
    "\n",
    "This transformation is essential as it prepares the data for modeling using <b> K-Nearest Neighbors (KNN) </b> algorithm, which relies on calculating similarities between users or items in this structured format to make accurate book recommendations. \n",
    "\n",
    "<b>A pivoted table </b> reorganizes our data so that each row represents a unique user, each column represents a book (identified by ISBN), and the values within the table indicate the user's rating for a particular book.\n",
    " <br>"
   ]
  },
  {
   "cell_type": "code",
   "execution_count": 326,
   "id": "ffe0d789",
   "metadata": {},
   "outputs": [],
   "source": [
    "# constructing pivot table for user_based CF\n",
    "book_pivot= final_rating.pivot_table(index=\"user_id\" , columns=\"ISBN\", values=\"rating\")"
   ]
  },
  {
   "cell_type": "code",
   "execution_count": 327,
   "id": "6a3e73a6",
   "metadata": {},
   "outputs": [
    {
     "data": {
      "text/html": [
       "<div>\n",
       "<style scoped>\n",
       "    .dataframe tbody tr th:only-of-type {\n",
       "        vertical-align: middle;\n",
       "    }\n",
       "\n",
       "    .dataframe tbody tr th {\n",
       "        vertical-align: top;\n",
       "    }\n",
       "\n",
       "    .dataframe thead th {\n",
       "        text-align: right;\n",
       "    }\n",
       "</style>\n",
       "<table border=\"1\" class=\"dataframe\">\n",
       "  <thead>\n",
       "    <tr style=\"text-align: right;\">\n",
       "      <th>ISBN</th>\n",
       "      <th>0001047973</th>\n",
       "      <th>0006177379</th>\n",
       "      <th>0020697406</th>\n",
       "      <th>002542730X</th>\n",
       "      <th>002542730x</th>\n",
       "      <th>0060008024</th>\n",
       "      <th>0060008032</th>\n",
       "      <th>006001203X</th>\n",
       "      <th>0060086246</th>\n",
       "      <th>0060090367</th>\n",
       "      <th>...</th>\n",
       "      <th>9505112076</th>\n",
       "      <th>B00001IVC7</th>\n",
       "      <th>B00001U0CP</th>\n",
       "      <th>B00007CWQC</th>\n",
       "      <th>B00008WFXL</th>\n",
       "      <th>B00009EF82</th>\n",
       "      <th>B00009NDAN</th>\n",
       "      <th>B0000T6KHI</th>\n",
       "      <th>B0001PIOX4</th>\n",
       "      <th>B000234N76</th>\n",
       "    </tr>\n",
       "    <tr>\n",
       "      <th>user_id</th>\n",
       "      <th></th>\n",
       "      <th></th>\n",
       "      <th></th>\n",
       "      <th></th>\n",
       "      <th></th>\n",
       "      <th></th>\n",
       "      <th></th>\n",
       "      <th></th>\n",
       "      <th></th>\n",
       "      <th></th>\n",
       "      <th></th>\n",
       "      <th></th>\n",
       "      <th></th>\n",
       "      <th></th>\n",
       "      <th></th>\n",
       "      <th></th>\n",
       "      <th></th>\n",
       "      <th></th>\n",
       "      <th></th>\n",
       "      <th></th>\n",
       "      <th></th>\n",
       "    </tr>\n",
       "  </thead>\n",
       "  <tbody>\n",
       "    <tr>\n",
       "      <th>254</th>\n",
       "      <td>NaN</td>\n",
       "      <td>NaN</td>\n",
       "      <td>NaN</td>\n",
       "      <td>NaN</td>\n",
       "      <td>NaN</td>\n",
       "      <td>NaN</td>\n",
       "      <td>NaN</td>\n",
       "      <td>NaN</td>\n",
       "      <td>NaN</td>\n",
       "      <td>NaN</td>\n",
       "      <td>...</td>\n",
       "      <td>NaN</td>\n",
       "      <td>NaN</td>\n",
       "      <td>NaN</td>\n",
       "      <td>NaN</td>\n",
       "      <td>NaN</td>\n",
       "      <td>NaN</td>\n",
       "      <td>NaN</td>\n",
       "      <td>NaN</td>\n",
       "      <td>NaN</td>\n",
       "      <td>NaN</td>\n",
       "    </tr>\n",
       "    <tr>\n",
       "      <th>2276</th>\n",
       "      <td>NaN</td>\n",
       "      <td>NaN</td>\n",
       "      <td>NaN</td>\n",
       "      <td>NaN</td>\n",
       "      <td>NaN</td>\n",
       "      <td>NaN</td>\n",
       "      <td>NaN</td>\n",
       "      <td>NaN</td>\n",
       "      <td>NaN</td>\n",
       "      <td>NaN</td>\n",
       "      <td>...</td>\n",
       "      <td>NaN</td>\n",
       "      <td>NaN</td>\n",
       "      <td>NaN</td>\n",
       "      <td>NaN</td>\n",
       "      <td>NaN</td>\n",
       "      <td>NaN</td>\n",
       "      <td>NaN</td>\n",
       "      <td>NaN</td>\n",
       "      <td>NaN</td>\n",
       "      <td>NaN</td>\n",
       "    </tr>\n",
       "    <tr>\n",
       "      <th>2766</th>\n",
       "      <td>NaN</td>\n",
       "      <td>NaN</td>\n",
       "      <td>NaN</td>\n",
       "      <td>NaN</td>\n",
       "      <td>NaN</td>\n",
       "      <td>NaN</td>\n",
       "      <td>NaN</td>\n",
       "      <td>NaN</td>\n",
       "      <td>NaN</td>\n",
       "      <td>NaN</td>\n",
       "      <td>...</td>\n",
       "      <td>NaN</td>\n",
       "      <td>NaN</td>\n",
       "      <td>NaN</td>\n",
       "      <td>NaN</td>\n",
       "      <td>NaN</td>\n",
       "      <td>NaN</td>\n",
       "      <td>NaN</td>\n",
       "      <td>NaN</td>\n",
       "      <td>NaN</td>\n",
       "      <td>NaN</td>\n",
       "    </tr>\n",
       "    <tr>\n",
       "      <th>2977</th>\n",
       "      <td>NaN</td>\n",
       "      <td>NaN</td>\n",
       "      <td>NaN</td>\n",
       "      <td>NaN</td>\n",
       "      <td>NaN</td>\n",
       "      <td>NaN</td>\n",
       "      <td>NaN</td>\n",
       "      <td>NaN</td>\n",
       "      <td>NaN</td>\n",
       "      <td>NaN</td>\n",
       "      <td>...</td>\n",
       "      <td>NaN</td>\n",
       "      <td>NaN</td>\n",
       "      <td>NaN</td>\n",
       "      <td>NaN</td>\n",
       "      <td>NaN</td>\n",
       "      <td>NaN</td>\n",
       "      <td>NaN</td>\n",
       "      <td>NaN</td>\n",
       "      <td>NaN</td>\n",
       "      <td>NaN</td>\n",
       "    </tr>\n",
       "    <tr>\n",
       "      <th>3363</th>\n",
       "      <td>NaN</td>\n",
       "      <td>NaN</td>\n",
       "      <td>NaN</td>\n",
       "      <td>0.0</td>\n",
       "      <td>NaN</td>\n",
       "      <td>NaN</td>\n",
       "      <td>NaN</td>\n",
       "      <td>NaN</td>\n",
       "      <td>NaN</td>\n",
       "      <td>0.0</td>\n",
       "      <td>...</td>\n",
       "      <td>NaN</td>\n",
       "      <td>NaN</td>\n",
       "      <td>NaN</td>\n",
       "      <td>NaN</td>\n",
       "      <td>NaN</td>\n",
       "      <td>NaN</td>\n",
       "      <td>NaN</td>\n",
       "      <td>NaN</td>\n",
       "      <td>NaN</td>\n",
       "      <td>NaN</td>\n",
       "    </tr>\n",
       "    <tr>\n",
       "      <th>...</th>\n",
       "      <td>...</td>\n",
       "      <td>...</td>\n",
       "      <td>...</td>\n",
       "      <td>...</td>\n",
       "      <td>...</td>\n",
       "      <td>...</td>\n",
       "      <td>...</td>\n",
       "      <td>...</td>\n",
       "      <td>...</td>\n",
       "      <td>...</td>\n",
       "      <td>...</td>\n",
       "      <td>...</td>\n",
       "      <td>...</td>\n",
       "      <td>...</td>\n",
       "      <td>...</td>\n",
       "      <td>...</td>\n",
       "      <td>...</td>\n",
       "      <td>...</td>\n",
       "      <td>...</td>\n",
       "      <td>...</td>\n",
       "      <td>...</td>\n",
       "    </tr>\n",
       "    <tr>\n",
       "      <th>275970</th>\n",
       "      <td>NaN</td>\n",
       "      <td>NaN</td>\n",
       "      <td>NaN</td>\n",
       "      <td>NaN</td>\n",
       "      <td>NaN</td>\n",
       "      <td>NaN</td>\n",
       "      <td>NaN</td>\n",
       "      <td>NaN</td>\n",
       "      <td>NaN</td>\n",
       "      <td>NaN</td>\n",
       "      <td>...</td>\n",
       "      <td>NaN</td>\n",
       "      <td>NaN</td>\n",
       "      <td>NaN</td>\n",
       "      <td>NaN</td>\n",
       "      <td>NaN</td>\n",
       "      <td>NaN</td>\n",
       "      <td>NaN</td>\n",
       "      <td>NaN</td>\n",
       "      <td>NaN</td>\n",
       "      <td>NaN</td>\n",
       "    </tr>\n",
       "    <tr>\n",
       "      <th>277427</th>\n",
       "      <td>NaN</td>\n",
       "      <td>NaN</td>\n",
       "      <td>NaN</td>\n",
       "      <td>10.0</td>\n",
       "      <td>NaN</td>\n",
       "      <td>NaN</td>\n",
       "      <td>NaN</td>\n",
       "      <td>NaN</td>\n",
       "      <td>NaN</td>\n",
       "      <td>NaN</td>\n",
       "      <td>...</td>\n",
       "      <td>NaN</td>\n",
       "      <td>NaN</td>\n",
       "      <td>NaN</td>\n",
       "      <td>NaN</td>\n",
       "      <td>NaN</td>\n",
       "      <td>NaN</td>\n",
       "      <td>NaN</td>\n",
       "      <td>NaN</td>\n",
       "      <td>NaN</td>\n",
       "      <td>NaN</td>\n",
       "    </tr>\n",
       "    <tr>\n",
       "      <th>277478</th>\n",
       "      <td>NaN</td>\n",
       "      <td>NaN</td>\n",
       "      <td>NaN</td>\n",
       "      <td>NaN</td>\n",
       "      <td>NaN</td>\n",
       "      <td>NaN</td>\n",
       "      <td>NaN</td>\n",
       "      <td>NaN</td>\n",
       "      <td>NaN</td>\n",
       "      <td>NaN</td>\n",
       "      <td>...</td>\n",
       "      <td>NaN</td>\n",
       "      <td>NaN</td>\n",
       "      <td>NaN</td>\n",
       "      <td>NaN</td>\n",
       "      <td>NaN</td>\n",
       "      <td>NaN</td>\n",
       "      <td>NaN</td>\n",
       "      <td>NaN</td>\n",
       "      <td>NaN</td>\n",
       "      <td>NaN</td>\n",
       "    </tr>\n",
       "    <tr>\n",
       "      <th>277639</th>\n",
       "      <td>NaN</td>\n",
       "      <td>NaN</td>\n",
       "      <td>NaN</td>\n",
       "      <td>NaN</td>\n",
       "      <td>NaN</td>\n",
       "      <td>NaN</td>\n",
       "      <td>NaN</td>\n",
       "      <td>NaN</td>\n",
       "      <td>NaN</td>\n",
       "      <td>NaN</td>\n",
       "      <td>...</td>\n",
       "      <td>NaN</td>\n",
       "      <td>NaN</td>\n",
       "      <td>NaN</td>\n",
       "      <td>NaN</td>\n",
       "      <td>NaN</td>\n",
       "      <td>NaN</td>\n",
       "      <td>NaN</td>\n",
       "      <td>NaN</td>\n",
       "      <td>NaN</td>\n",
       "      <td>NaN</td>\n",
       "    </tr>\n",
       "    <tr>\n",
       "      <th>278418</th>\n",
       "      <td>NaN</td>\n",
       "      <td>NaN</td>\n",
       "      <td>NaN</td>\n",
       "      <td>NaN</td>\n",
       "      <td>NaN</td>\n",
       "      <td>NaN</td>\n",
       "      <td>NaN</td>\n",
       "      <td>NaN</td>\n",
       "      <td>NaN</td>\n",
       "      <td>NaN</td>\n",
       "      <td>...</td>\n",
       "      <td>NaN</td>\n",
       "      <td>NaN</td>\n",
       "      <td>NaN</td>\n",
       "      <td>NaN</td>\n",
       "      <td>NaN</td>\n",
       "      <td>NaN</td>\n",
       "      <td>NaN</td>\n",
       "      <td>NaN</td>\n",
       "      <td>NaN</td>\n",
       "      <td>NaN</td>\n",
       "    </tr>\n",
       "  </tbody>\n",
       "</table>\n",
       "<p>888 rows × 2144 columns</p>\n",
       "</div>"
      ],
      "text/plain": [
       "ISBN     0001047973  0006177379  0020697406  002542730X  002542730x  \\\n",
       "user_id                                                               \n",
       "254             NaN         NaN         NaN         NaN         NaN   \n",
       "2276            NaN         NaN         NaN         NaN         NaN   \n",
       "2766            NaN         NaN         NaN         NaN         NaN   \n",
       "2977            NaN         NaN         NaN         NaN         NaN   \n",
       "3363            NaN         NaN         NaN         0.0         NaN   \n",
       "...             ...         ...         ...         ...         ...   \n",
       "275970          NaN         NaN         NaN         NaN         NaN   \n",
       "277427          NaN         NaN         NaN        10.0         NaN   \n",
       "277478          NaN         NaN         NaN         NaN         NaN   \n",
       "277639          NaN         NaN         NaN         NaN         NaN   \n",
       "278418          NaN         NaN         NaN         NaN         NaN   \n",
       "\n",
       "ISBN     0060008024  0060008032  006001203X  0060086246  0060090367  ...  \\\n",
       "user_id                                                              ...   \n",
       "254             NaN         NaN         NaN         NaN         NaN  ...   \n",
       "2276            NaN         NaN         NaN         NaN         NaN  ...   \n",
       "2766            NaN         NaN         NaN         NaN         NaN  ...   \n",
       "2977            NaN         NaN         NaN         NaN         NaN  ...   \n",
       "3363            NaN         NaN         NaN         NaN         0.0  ...   \n",
       "...             ...         ...         ...         ...         ...  ...   \n",
       "275970          NaN         NaN         NaN         NaN         NaN  ...   \n",
       "277427          NaN         NaN         NaN         NaN         NaN  ...   \n",
       "277478          NaN         NaN         NaN         NaN         NaN  ...   \n",
       "277639          NaN         NaN         NaN         NaN         NaN  ...   \n",
       "278418          NaN         NaN         NaN         NaN         NaN  ...   \n",
       "\n",
       "ISBN     9505112076  B00001IVC7  B00001U0CP  B00007CWQC  B00008WFXL  \\\n",
       "user_id                                                               \n",
       "254             NaN         NaN         NaN         NaN         NaN   \n",
       "2276            NaN         NaN         NaN         NaN         NaN   \n",
       "2766            NaN         NaN         NaN         NaN         NaN   \n",
       "2977            NaN         NaN         NaN         NaN         NaN   \n",
       "3363            NaN         NaN         NaN         NaN         NaN   \n",
       "...             ...         ...         ...         ...         ...   \n",
       "275970          NaN         NaN         NaN         NaN         NaN   \n",
       "277427          NaN         NaN         NaN         NaN         NaN   \n",
       "277478          NaN         NaN         NaN         NaN         NaN   \n",
       "277639          NaN         NaN         NaN         NaN         NaN   \n",
       "278418          NaN         NaN         NaN         NaN         NaN   \n",
       "\n",
       "ISBN     B00009EF82  B00009NDAN  B0000T6KHI  B0001PIOX4  B000234N76  \n",
       "user_id                                                              \n",
       "254             NaN         NaN         NaN         NaN         NaN  \n",
       "2276            NaN         NaN         NaN         NaN         NaN  \n",
       "2766            NaN         NaN         NaN         NaN         NaN  \n",
       "2977            NaN         NaN         NaN         NaN         NaN  \n",
       "3363            NaN         NaN         NaN         NaN         NaN  \n",
       "...             ...         ...         ...         ...         ...  \n",
       "275970          NaN         NaN         NaN         NaN         NaN  \n",
       "277427          NaN         NaN         NaN         NaN         NaN  \n",
       "277478          NaN         NaN         NaN         NaN         NaN  \n",
       "277639          NaN         NaN         NaN         NaN         NaN  \n",
       "278418          NaN         NaN         NaN         NaN         NaN  \n",
       "\n",
       "[888 rows x 2144 columns]"
      ]
     },
     "execution_count": 327,
     "metadata": {},
     "output_type": "execute_result"
    }
   ],
   "source": [
    "book_pivot"
   ]
  },
  {
   "cell_type": "markdown",
   "id": "edc85374",
   "metadata": {},
   "source": [
    "The provided pivot table displays user ratings for various books, where rows represent unique user IDs, columns represent ISBNs of books, and values within the table represent user ratings. However, it's evident that this table contains numerous null (NaN) values, indicating that many users have not rated certain books.\n",
    "\n",
    "To address this issue, we will use the fillna method to replace these null values with zeros (0). By doing so, we create a more complete and structured dataset that aligns with the requirements of our recommendation system, allowing us to proceed with data modeling while considering the absence of user ratings for specific books."
   ]
  },
  {
   "cell_type": "code",
   "execution_count": 328,
   "id": "a99e0b09",
   "metadata": {},
   "outputs": [
    {
     "data": {
      "text/html": [
       "<div>\n",
       "<style scoped>\n",
       "    .dataframe tbody tr th:only-of-type {\n",
       "        vertical-align: middle;\n",
       "    }\n",
       "\n",
       "    .dataframe tbody tr th {\n",
       "        vertical-align: top;\n",
       "    }\n",
       "\n",
       "    .dataframe thead th {\n",
       "        text-align: right;\n",
       "    }\n",
       "</style>\n",
       "<table border=\"1\" class=\"dataframe\">\n",
       "  <thead>\n",
       "    <tr style=\"text-align: right;\">\n",
       "      <th>ISBN</th>\n",
       "      <th>0001047973</th>\n",
       "      <th>0006177379</th>\n",
       "      <th>0020697406</th>\n",
       "      <th>002542730X</th>\n",
       "      <th>002542730x</th>\n",
       "      <th>0060008024</th>\n",
       "      <th>0060008032</th>\n",
       "      <th>006001203X</th>\n",
       "      <th>0060086246</th>\n",
       "      <th>0060090367</th>\n",
       "      <th>...</th>\n",
       "      <th>9505112076</th>\n",
       "      <th>B00001IVC7</th>\n",
       "      <th>B00001U0CP</th>\n",
       "      <th>B00007CWQC</th>\n",
       "      <th>B00008WFXL</th>\n",
       "      <th>B00009EF82</th>\n",
       "      <th>B00009NDAN</th>\n",
       "      <th>B0000T6KHI</th>\n",
       "      <th>B0001PIOX4</th>\n",
       "      <th>B000234N76</th>\n",
       "    </tr>\n",
       "    <tr>\n",
       "      <th>user_id</th>\n",
       "      <th></th>\n",
       "      <th></th>\n",
       "      <th></th>\n",
       "      <th></th>\n",
       "      <th></th>\n",
       "      <th></th>\n",
       "      <th></th>\n",
       "      <th></th>\n",
       "      <th></th>\n",
       "      <th></th>\n",
       "      <th></th>\n",
       "      <th></th>\n",
       "      <th></th>\n",
       "      <th></th>\n",
       "      <th></th>\n",
       "      <th></th>\n",
       "      <th></th>\n",
       "      <th></th>\n",
       "      <th></th>\n",
       "      <th></th>\n",
       "      <th></th>\n",
       "    </tr>\n",
       "  </thead>\n",
       "  <tbody>\n",
       "    <tr>\n",
       "      <th>254</th>\n",
       "      <td>0.0</td>\n",
       "      <td>0.0</td>\n",
       "      <td>0.0</td>\n",
       "      <td>0.0</td>\n",
       "      <td>0.0</td>\n",
       "      <td>0.0</td>\n",
       "      <td>0.0</td>\n",
       "      <td>0.0</td>\n",
       "      <td>0.0</td>\n",
       "      <td>0.0</td>\n",
       "      <td>...</td>\n",
       "      <td>0.0</td>\n",
       "      <td>0.0</td>\n",
       "      <td>0.0</td>\n",
       "      <td>0.0</td>\n",
       "      <td>0.0</td>\n",
       "      <td>0.0</td>\n",
       "      <td>0.0</td>\n",
       "      <td>0.0</td>\n",
       "      <td>0.0</td>\n",
       "      <td>0.0</td>\n",
       "    </tr>\n",
       "    <tr>\n",
       "      <th>2276</th>\n",
       "      <td>0.0</td>\n",
       "      <td>0.0</td>\n",
       "      <td>0.0</td>\n",
       "      <td>0.0</td>\n",
       "      <td>0.0</td>\n",
       "      <td>0.0</td>\n",
       "      <td>0.0</td>\n",
       "      <td>0.0</td>\n",
       "      <td>0.0</td>\n",
       "      <td>0.0</td>\n",
       "      <td>...</td>\n",
       "      <td>0.0</td>\n",
       "      <td>0.0</td>\n",
       "      <td>0.0</td>\n",
       "      <td>0.0</td>\n",
       "      <td>0.0</td>\n",
       "      <td>0.0</td>\n",
       "      <td>0.0</td>\n",
       "      <td>0.0</td>\n",
       "      <td>0.0</td>\n",
       "      <td>0.0</td>\n",
       "    </tr>\n",
       "    <tr>\n",
       "      <th>2766</th>\n",
       "      <td>0.0</td>\n",
       "      <td>0.0</td>\n",
       "      <td>0.0</td>\n",
       "      <td>0.0</td>\n",
       "      <td>0.0</td>\n",
       "      <td>0.0</td>\n",
       "      <td>0.0</td>\n",
       "      <td>0.0</td>\n",
       "      <td>0.0</td>\n",
       "      <td>0.0</td>\n",
       "      <td>...</td>\n",
       "      <td>0.0</td>\n",
       "      <td>0.0</td>\n",
       "      <td>0.0</td>\n",
       "      <td>0.0</td>\n",
       "      <td>0.0</td>\n",
       "      <td>0.0</td>\n",
       "      <td>0.0</td>\n",
       "      <td>0.0</td>\n",
       "      <td>0.0</td>\n",
       "      <td>0.0</td>\n",
       "    </tr>\n",
       "    <tr>\n",
       "      <th>2977</th>\n",
       "      <td>0.0</td>\n",
       "      <td>0.0</td>\n",
       "      <td>0.0</td>\n",
       "      <td>0.0</td>\n",
       "      <td>0.0</td>\n",
       "      <td>0.0</td>\n",
       "      <td>0.0</td>\n",
       "      <td>0.0</td>\n",
       "      <td>0.0</td>\n",
       "      <td>0.0</td>\n",
       "      <td>...</td>\n",
       "      <td>0.0</td>\n",
       "      <td>0.0</td>\n",
       "      <td>0.0</td>\n",
       "      <td>0.0</td>\n",
       "      <td>0.0</td>\n",
       "      <td>0.0</td>\n",
       "      <td>0.0</td>\n",
       "      <td>0.0</td>\n",
       "      <td>0.0</td>\n",
       "      <td>0.0</td>\n",
       "    </tr>\n",
       "    <tr>\n",
       "      <th>3363</th>\n",
       "      <td>0.0</td>\n",
       "      <td>0.0</td>\n",
       "      <td>0.0</td>\n",
       "      <td>0.0</td>\n",
       "      <td>0.0</td>\n",
       "      <td>0.0</td>\n",
       "      <td>0.0</td>\n",
       "      <td>0.0</td>\n",
       "      <td>0.0</td>\n",
       "      <td>0.0</td>\n",
       "      <td>...</td>\n",
       "      <td>0.0</td>\n",
       "      <td>0.0</td>\n",
       "      <td>0.0</td>\n",
       "      <td>0.0</td>\n",
       "      <td>0.0</td>\n",
       "      <td>0.0</td>\n",
       "      <td>0.0</td>\n",
       "      <td>0.0</td>\n",
       "      <td>0.0</td>\n",
       "      <td>0.0</td>\n",
       "    </tr>\n",
       "    <tr>\n",
       "      <th>...</th>\n",
       "      <td>...</td>\n",
       "      <td>...</td>\n",
       "      <td>...</td>\n",
       "      <td>...</td>\n",
       "      <td>...</td>\n",
       "      <td>...</td>\n",
       "      <td>...</td>\n",
       "      <td>...</td>\n",
       "      <td>...</td>\n",
       "      <td>...</td>\n",
       "      <td>...</td>\n",
       "      <td>...</td>\n",
       "      <td>...</td>\n",
       "      <td>...</td>\n",
       "      <td>...</td>\n",
       "      <td>...</td>\n",
       "      <td>...</td>\n",
       "      <td>...</td>\n",
       "      <td>...</td>\n",
       "      <td>...</td>\n",
       "      <td>...</td>\n",
       "    </tr>\n",
       "    <tr>\n",
       "      <th>275970</th>\n",
       "      <td>0.0</td>\n",
       "      <td>0.0</td>\n",
       "      <td>0.0</td>\n",
       "      <td>0.0</td>\n",
       "      <td>0.0</td>\n",
       "      <td>0.0</td>\n",
       "      <td>0.0</td>\n",
       "      <td>0.0</td>\n",
       "      <td>0.0</td>\n",
       "      <td>0.0</td>\n",
       "      <td>...</td>\n",
       "      <td>0.0</td>\n",
       "      <td>0.0</td>\n",
       "      <td>0.0</td>\n",
       "      <td>0.0</td>\n",
       "      <td>0.0</td>\n",
       "      <td>0.0</td>\n",
       "      <td>0.0</td>\n",
       "      <td>0.0</td>\n",
       "      <td>0.0</td>\n",
       "      <td>0.0</td>\n",
       "    </tr>\n",
       "    <tr>\n",
       "      <th>277427</th>\n",
       "      <td>0.0</td>\n",
       "      <td>0.0</td>\n",
       "      <td>0.0</td>\n",
       "      <td>10.0</td>\n",
       "      <td>0.0</td>\n",
       "      <td>0.0</td>\n",
       "      <td>0.0</td>\n",
       "      <td>0.0</td>\n",
       "      <td>0.0</td>\n",
       "      <td>0.0</td>\n",
       "      <td>...</td>\n",
       "      <td>0.0</td>\n",
       "      <td>0.0</td>\n",
       "      <td>0.0</td>\n",
       "      <td>0.0</td>\n",
       "      <td>0.0</td>\n",
       "      <td>0.0</td>\n",
       "      <td>0.0</td>\n",
       "      <td>0.0</td>\n",
       "      <td>0.0</td>\n",
       "      <td>0.0</td>\n",
       "    </tr>\n",
       "    <tr>\n",
       "      <th>277478</th>\n",
       "      <td>0.0</td>\n",
       "      <td>0.0</td>\n",
       "      <td>0.0</td>\n",
       "      <td>0.0</td>\n",
       "      <td>0.0</td>\n",
       "      <td>0.0</td>\n",
       "      <td>0.0</td>\n",
       "      <td>0.0</td>\n",
       "      <td>0.0</td>\n",
       "      <td>0.0</td>\n",
       "      <td>...</td>\n",
       "      <td>0.0</td>\n",
       "      <td>0.0</td>\n",
       "      <td>0.0</td>\n",
       "      <td>0.0</td>\n",
       "      <td>0.0</td>\n",
       "      <td>0.0</td>\n",
       "      <td>0.0</td>\n",
       "      <td>0.0</td>\n",
       "      <td>0.0</td>\n",
       "      <td>0.0</td>\n",
       "    </tr>\n",
       "    <tr>\n",
       "      <th>277639</th>\n",
       "      <td>0.0</td>\n",
       "      <td>0.0</td>\n",
       "      <td>0.0</td>\n",
       "      <td>0.0</td>\n",
       "      <td>0.0</td>\n",
       "      <td>0.0</td>\n",
       "      <td>0.0</td>\n",
       "      <td>0.0</td>\n",
       "      <td>0.0</td>\n",
       "      <td>0.0</td>\n",
       "      <td>...</td>\n",
       "      <td>0.0</td>\n",
       "      <td>0.0</td>\n",
       "      <td>0.0</td>\n",
       "      <td>0.0</td>\n",
       "      <td>0.0</td>\n",
       "      <td>0.0</td>\n",
       "      <td>0.0</td>\n",
       "      <td>0.0</td>\n",
       "      <td>0.0</td>\n",
       "      <td>0.0</td>\n",
       "    </tr>\n",
       "    <tr>\n",
       "      <th>278418</th>\n",
       "      <td>0.0</td>\n",
       "      <td>0.0</td>\n",
       "      <td>0.0</td>\n",
       "      <td>0.0</td>\n",
       "      <td>0.0</td>\n",
       "      <td>0.0</td>\n",
       "      <td>0.0</td>\n",
       "      <td>0.0</td>\n",
       "      <td>0.0</td>\n",
       "      <td>0.0</td>\n",
       "      <td>...</td>\n",
       "      <td>0.0</td>\n",
       "      <td>0.0</td>\n",
       "      <td>0.0</td>\n",
       "      <td>0.0</td>\n",
       "      <td>0.0</td>\n",
       "      <td>0.0</td>\n",
       "      <td>0.0</td>\n",
       "      <td>0.0</td>\n",
       "      <td>0.0</td>\n",
       "      <td>0.0</td>\n",
       "    </tr>\n",
       "  </tbody>\n",
       "</table>\n",
       "<p>888 rows × 2144 columns</p>\n",
       "</div>"
      ],
      "text/plain": [
       "ISBN     0001047973  0006177379  0020697406  002542730X  002542730x  \\\n",
       "user_id                                                               \n",
       "254             0.0         0.0         0.0         0.0         0.0   \n",
       "2276            0.0         0.0         0.0         0.0         0.0   \n",
       "2766            0.0         0.0         0.0         0.0         0.0   \n",
       "2977            0.0         0.0         0.0         0.0         0.0   \n",
       "3363            0.0         0.0         0.0         0.0         0.0   \n",
       "...             ...         ...         ...         ...         ...   \n",
       "275970          0.0         0.0         0.0         0.0         0.0   \n",
       "277427          0.0         0.0         0.0        10.0         0.0   \n",
       "277478          0.0         0.0         0.0         0.0         0.0   \n",
       "277639          0.0         0.0         0.0         0.0         0.0   \n",
       "278418          0.0         0.0         0.0         0.0         0.0   \n",
       "\n",
       "ISBN     0060008024  0060008032  006001203X  0060086246  0060090367  ...  \\\n",
       "user_id                                                              ...   \n",
       "254             0.0         0.0         0.0         0.0         0.0  ...   \n",
       "2276            0.0         0.0         0.0         0.0         0.0  ...   \n",
       "2766            0.0         0.0         0.0         0.0         0.0  ...   \n",
       "2977            0.0         0.0         0.0         0.0         0.0  ...   \n",
       "3363            0.0         0.0         0.0         0.0         0.0  ...   \n",
       "...             ...         ...         ...         ...         ...  ...   \n",
       "275970          0.0         0.0         0.0         0.0         0.0  ...   \n",
       "277427          0.0         0.0         0.0         0.0         0.0  ...   \n",
       "277478          0.0         0.0         0.0         0.0         0.0  ...   \n",
       "277639          0.0         0.0         0.0         0.0         0.0  ...   \n",
       "278418          0.0         0.0         0.0         0.0         0.0  ...   \n",
       "\n",
       "ISBN     9505112076  B00001IVC7  B00001U0CP  B00007CWQC  B00008WFXL  \\\n",
       "user_id                                                               \n",
       "254             0.0         0.0         0.0         0.0         0.0   \n",
       "2276            0.0         0.0         0.0         0.0         0.0   \n",
       "2766            0.0         0.0         0.0         0.0         0.0   \n",
       "2977            0.0         0.0         0.0         0.0         0.0   \n",
       "3363            0.0         0.0         0.0         0.0         0.0   \n",
       "...             ...         ...         ...         ...         ...   \n",
       "275970          0.0         0.0         0.0         0.0         0.0   \n",
       "277427          0.0         0.0         0.0         0.0         0.0   \n",
       "277478          0.0         0.0         0.0         0.0         0.0   \n",
       "277639          0.0         0.0         0.0         0.0         0.0   \n",
       "278418          0.0         0.0         0.0         0.0         0.0   \n",
       "\n",
       "ISBN     B00009EF82  B00009NDAN  B0000T6KHI  B0001PIOX4  B000234N76  \n",
       "user_id                                                              \n",
       "254             0.0         0.0         0.0         0.0         0.0  \n",
       "2276            0.0         0.0         0.0         0.0         0.0  \n",
       "2766            0.0         0.0         0.0         0.0         0.0  \n",
       "2977            0.0         0.0         0.0         0.0         0.0  \n",
       "3363            0.0         0.0         0.0         0.0         0.0  \n",
       "...             ...         ...         ...         ...         ...  \n",
       "275970          0.0         0.0         0.0         0.0         0.0  \n",
       "277427          0.0         0.0         0.0         0.0         0.0  \n",
       "277478          0.0         0.0         0.0         0.0         0.0  \n",
       "277639          0.0         0.0         0.0         0.0         0.0  \n",
       "278418          0.0         0.0         0.0         0.0         0.0  \n",
       "\n",
       "[888 rows x 2144 columns]"
      ]
     },
     "execution_count": 328,
     "metadata": {},
     "output_type": "execute_result"
    }
   ],
   "source": [
    "book_pivot.fillna(0,inplace=True)\n",
    "book_pivot"
   ]
  },
  {
   "cell_type": "code",
   "execution_count": 329,
   "id": "f4e3834b",
   "metadata": {},
   "outputs": [],
   "source": [
    "from scipy.sparse import csr_matrix"
   ]
  },
  {
   "cell_type": "code",
   "execution_count": 330,
   "id": "660ef8cb",
   "metadata": {},
   "outputs": [
    {
     "data": {
      "text/plain": [
       "<888x2144 sparse matrix of type '<class 'numpy.float64'>'\n",
       "\twith 14942 stored elements in Compressed Sparse Row format>"
      ]
     },
     "execution_count": 330,
     "metadata": {},
     "output_type": "execute_result"
    }
   ],
   "source": [
    "book_sparse= csr_matrix(book_pivot)\n",
    "book_sparse"
   ]
  },
  {
   "cell_type": "markdown",
   "id": "cc3eba8a",
   "metadata": {},
   "source": [
    "we are transforming our pivot table into a sparse matrix using Compressed Sparse Row (CSR) format. This conversion is essential due to the extensive zero values in the user-book rating matrix. Sparse matrices optimize memory usage and computational efficiency during modeling processes."
   ]
  },
  {
   "cell_type": "markdown",
   "id": "a4b5d154",
   "metadata": {},
   "source": [
    "## Using KNN algorihtm for modeling "
   ]
  },
  {
   "cell_type": "markdown",
   "id": "e9173b55",
   "metadata": {},
   "source": [
    "In our User-Based Collaborative Filtering, we rely on the K-Nearest Neighbors (KNN) algorithm. KNN helps find similar users based on their past activity, allowing us to suggest books that align with their preferences. It measures user \"closeness\" effectively, enhancing personalized book recommendations within our collaborative filtering system."
   ]
  },
  {
   "cell_type": "code",
   "execution_count": 331,
   "id": "4e36ae10",
   "metadata": {},
   "outputs": [],
   "source": [
    "# importing NearestNeighbors\n",
    "from sklearn.neighbors import NearestNeighbors"
   ]
  },
  {
   "cell_type": "code",
   "execution_count": 332,
   "id": "67bb204a",
   "metadata": {},
   "outputs": [],
   "source": [
    "# creating an object of NearestNeighbors\n",
    "model = NearestNeighbors(metric= \"cosine\",algorithm=\"brute\", n_neighbors= 6)"
   ]
  },
  {
   "cell_type": "code",
   "execution_count": 333,
   "id": "f2083c73",
   "metadata": {},
   "outputs": [
    {
     "data": {
      "text/plain": [
       "NearestNeighbors(algorithm='brute', metric='cosine', n_neighbors=6)"
      ]
     },
     "execution_count": 333,
     "metadata": {},
     "output_type": "execute_result"
    }
   ],
   "source": [
    "#training the model\n",
    "model.fit(book_sparse)"
   ]
  },
  {
   "cell_type": "code",
   "execution_count": 334,
   "id": "34e06b6b",
   "metadata": {},
   "outputs": [],
   "source": [
    "# trying to check the distances and user_suggestions for mock_user_id = 237\n",
    "distance , suggestion = model.kneighbors(book_pivot.iloc[237,:].values.reshape(1,-1), n_neighbors=6)"
   ]
  },
  {
   "cell_type": "markdown",
   "id": "efd65ca1",
   "metadata": {},
   "source": [
    "we are using a recommendation model to find the six nearest neighbors to a specific book based on its attributes. The \"distance\" array represents the similarity scores between the user and his neighbors, while the \"suggestion\" array contains the indices of these neighbor users."
   ]
  },
  {
   "cell_type": "code",
   "execution_count": 335,
   "id": "b20f87db",
   "metadata": {},
   "outputs": [
    {
     "data": {
      "text/plain": [
       "array([[0.        , 0.69534841, 0.70283918, 0.71095291, 0.78984349,\n",
       "        0.80228135]])"
      ]
     },
     "execution_count": 335,
     "metadata": {},
     "output_type": "execute_result"
    }
   ],
   "source": [
    "distance"
   ]
  },
  {
   "cell_type": "code",
   "execution_count": 336,
   "id": "29eb629e",
   "metadata": {},
   "outputs": [
    {
     "data": {
      "text/plain": [
       "array([[237, 634, 887,  21,  66, 186]], dtype=int64)"
      ]
     },
     "execution_count": 336,
     "metadata": {},
     "output_type": "execute_result"
    }
   ],
   "source": [
    "suggestion"
   ]
  },
  {
   "cell_type": "code",
   "execution_count": 337,
   "id": "f9502e00",
   "metadata": {},
   "outputs": [
    {
     "name": "stdout",
     "output_type": "stream",
     "text": [
      "Int64Index([85701, 204591, 278418, 8936, 26516, 69042], dtype='int64', name='user_id')\n"
     ]
    }
   ],
   "source": [
    "# retriveing nearest similar users for user_id = 237\n",
    "for i in range(len(suggestion)):\n",
    "    print(book_pivot.index[suggestion[i]])"
   ]
  },
  {
   "cell_type": "code",
   "execution_count": 338,
   "id": "44e58989",
   "metadata": {},
   "outputs": [],
   "source": [
    "users_names = book_pivot.index"
   ]
  },
  {
   "cell_type": "code",
   "execution_count": 339,
   "id": "9e2192fb",
   "metadata": {},
   "outputs": [],
   "source": [
    "import pickle\n",
    "pickle.dump(model,open('artifacts/model.pkl','wb'))\n",
    "pickle.dump(users_names,open('artifacts/users.pkl','wb'))\n",
    "pickle.dump(final_rating,open('artifacts/final_rating.pkl','wb'))\n",
    "pickle.dump(book_pivot,open('artifacts/book_pivot.pkl','wb'))"
   ]
  },
  {
   "cell_type": "markdown",
   "id": "c077a54a",
   "metadata": {},
   "source": [
    "Here we are saving the recommendation model and related data to files for reusing it."
   ]
  },
  {
   "cell_type": "code",
   "execution_count": 340,
   "id": "8154f2c6",
   "metadata": {},
   "outputs": [],
   "source": [
    "def recommend_users(usr_in_id):\n",
    "    user_id_ = np.where(book_pivot.index == usr_in_id)[0][0]\n",
    "    distance , suggestion = model.kneighbors(book_pivot.iloc[user_id_,:].values.reshape(1,-1), n_neighbors=5)\n",
    "    \n",
    "    for i in range(len(suggestion)):\n",
    "        users = book_pivot.index[suggestion[i]]\n",
    "        for j in users:\n",
    "            print(j)"
   ]
  },
  {
   "cell_type": "markdown",
   "id": "97a8a5a3",
   "metadata": {},
   "source": [
    "This recommend_users function takes an input user ID and recommends users who have similar reading preferences based on the collaborative filtering model. It prints the recommended user IDs as output."
   ]
  },
  {
   "cell_type": "code",
   "execution_count": 341,
   "id": "836099a9",
   "metadata": {},
   "outputs": [
    {
     "name": "stdout",
     "output_type": "stream",
     "text": [
      "277639\n",
      "187170\n",
      "104429\n",
      "252222\n",
      "148199\n"
     ]
    }
   ],
   "source": [
    "# mock_user_id\n",
    "usr_id= 277639\n",
    "\n",
    "recommend_users(usr_id )"
   ]
  },
  {
   "cell_type": "code",
   "execution_count": 342,
   "id": "4d6094c7",
   "metadata": {},
   "outputs": [
    {
     "name": "stdout",
     "output_type": "stream",
     "text": [
      "Recommended Books for User 254\n",
      "ISBN\n",
      "059035342X    10.0\n",
      "0375823352    10.0\n",
      "0373825013    10.0\n",
      "0439064864     9.0\n",
      "0380002930     7.0\n",
      "0804105820     7.0\n",
      "014034294X     7.0\n",
      "0671727583     7.0\n",
      "1896095011     5.0\n",
      "0425097722     5.0\n",
      "dtype: float64\n"
     ]
    }
   ],
   "source": [
    "def recommend_books(user_id, n_neighbors=5, n_recommendations=10):\n",
    "    # Finding the user's row index in the 'book_pivot' DataFrame\n",
    "    user_ratings = book_pivot.loc[user_id, :]\n",
    "\n",
    "    # Finding the nearest neighbors of the user\n",
    "    distances, neighbor_indices = model.kneighbors([user_ratings], n_neighbors=n_neighbors)\n",
    "\n",
    "    # Getting the user IDs of the nearest neighbors\n",
    "    neighbor_user_ids = book_pivot.index[neighbor_indices[0]]\n",
    "\n",
    "    # Creating a dictionary to store book recommendations\n",
    "    book_recommendations = {}\n",
    "\n",
    "\n",
    "    for neighbor_user_id in neighbor_user_ids:\n",
    "        # Find books rated by the neighbor but not by the user\n",
    "        neighbor_ratings = book_pivot.loc[neighbor_user_id, :]\n",
    "        recommended_books = neighbor_ratings[user_ratings == 0]  # Select unrated books\n",
    "\n",
    "        # Store the recommendations in the dictionary\n",
    "        book_recommendations[neighbor_user_id] = recommended_books\n",
    "\n",
    "    # Combine all recommendations and recommend the top 'n_recommendations' books\n",
    "    all_recommendations = pd.concat(book_recommendations.values()).groupby(level=0).sum()\n",
    "    top_recommendations = all_recommendations.sort_values(ascending=False).head(n_recommendations)\n",
    "\n",
    "    return top_recommendations\n",
    "\n",
    "# Example usage\n",
    "user_id = 254\n",
    "recommended_books = recommend_books(user_id)\n",
    "print(\"Recommended Books for User\", user_id)\n",
    "print(recommended_books)\n"
   ]
  },
  {
   "cell_type": "markdown",
   "id": "faa8d911",
   "metadata": {},
   "source": [
    "This recommend_books function recommends books to a user based on their reading preferences and the preferences of similar users. It returns a pandas Series containing the top recommended books for the user, considering the specified number of neighbors and recommendations"
   ]
  },
  {
   "cell_type": "code",
   "execution_count": 343,
   "id": "5faa654c",
   "metadata": {},
   "outputs": [
    {
     "name": "stdout",
     "output_type": "stream",
     "text": [
      "Recommended Books for User 183\n",
      "Recommend book top #1 : Harry Potter and the Chamber of Secrets (Book 2)\n",
      "Recommend book top #2 : Whirlwind (Tyler, Book 1)\n",
      "Recommend book top #3 : Matilda\n",
      "Recommend book top #4 : Watership Down\n",
      "Recommend book top #5 : Dreamcatcher\n",
      "Recommend book top #6 : The Amber Spyglass (His Dark Materials, Book 3)\n",
      "Recommend book top #7 : Harry Potter and the Sorcerer's Stone (Harry Potter (Paperback))\n",
      "Recommend book top #8 : Fatherhood\n",
      "Recommend book top #9 : It Was on Fire When I Lay Down on It\n",
      "Recommend book top #10 : Smart Women\n"
     ]
    }
   ],
   "source": [
    "def get_book_titles(isbn_list):\n",
    "    \"\"\"\n",
    "    Retrieve unique book titles from the 'final_rating' DataFrame based on a list of ISBNs.\n",
    "    \n",
    "    Parameters:\n",
    "    - isbn_list (list): List of ISBNs to retrieve book titles for.\n",
    "    \n",
    "    Returns:\n",
    "    - titles (list): List of unique book titles corresponding to the given ISBNs.\n",
    "    \"\"\"\n",
    "    # Using 'final_rating' DataFrame to map ISBNs to book titles\n",
    "    titles = final_rating[final_rating['ISBN'].isin(isbn_list)]['title'].unique().tolist()\n",
    "\n",
    "    return titles\n",
    "\n",
    "user_id = 183\n",
    "recommended_isbns = recommended_books.keys()\n",
    "recommended_titles = get_book_titles(recommended_isbns)\n",
    "print(\"Recommended Books for User\", user_id)\n",
    "c=0\n",
    "for title in recommended_titles:\n",
    "    c+=1\n",
    "    print('Recommend book top #'+str(c)+\" : \"+title)\n"
   ]
  },
  {
   "cell_type": "markdown",
   "id": "0eb32c6b",
   "metadata": {},
   "source": [
    "### Item based Book Recommendation Using KNN"
   ]
  },
  {
   "cell_type": "markdown",
   "id": "f67b25cd",
   "metadata": {},
   "source": [
    "Here we follow the same tseps, we construct a pivoted table and handle missing values by replacing them with zeros. Subsequently, we create a pivotal book parsing object and utilize it to train and fit our model."
   ]
  },
  {
   "cell_type": "code",
   "execution_count": 344,
   "id": "df8ffa05",
   "metadata": {},
   "outputs": [
    {
     "data": {
      "text/html": [
       "<div>\n",
       "<style scoped>\n",
       "    .dataframe tbody tr th:only-of-type {\n",
       "        vertical-align: middle;\n",
       "    }\n",
       "\n",
       "    .dataframe tbody tr th {\n",
       "        vertical-align: top;\n",
       "    }\n",
       "\n",
       "    .dataframe thead th {\n",
       "        text-align: right;\n",
       "    }\n",
       "</style>\n",
       "<table border=\"1\" class=\"dataframe\">\n",
       "  <thead>\n",
       "    <tr style=\"text-align: right;\">\n",
       "      <th>user_id</th>\n",
       "      <th>254</th>\n",
       "      <th>2276</th>\n",
       "      <th>2766</th>\n",
       "      <th>2977</th>\n",
       "      <th>3363</th>\n",
       "      <th>3757</th>\n",
       "      <th>4017</th>\n",
       "      <th>4385</th>\n",
       "      <th>6242</th>\n",
       "      <th>6251</th>\n",
       "      <th>...</th>\n",
       "      <th>274004</th>\n",
       "      <th>274061</th>\n",
       "      <th>274301</th>\n",
       "      <th>274308</th>\n",
       "      <th>274808</th>\n",
       "      <th>275970</th>\n",
       "      <th>277427</th>\n",
       "      <th>277478</th>\n",
       "      <th>277639</th>\n",
       "      <th>278418</th>\n",
       "    </tr>\n",
       "    <tr>\n",
       "      <th>title</th>\n",
       "      <th></th>\n",
       "      <th></th>\n",
       "      <th></th>\n",
       "      <th></th>\n",
       "      <th></th>\n",
       "      <th></th>\n",
       "      <th></th>\n",
       "      <th></th>\n",
       "      <th></th>\n",
       "      <th></th>\n",
       "      <th></th>\n",
       "      <th></th>\n",
       "      <th></th>\n",
       "      <th></th>\n",
       "      <th></th>\n",
       "      <th></th>\n",
       "      <th></th>\n",
       "      <th></th>\n",
       "      <th></th>\n",
       "      <th></th>\n",
       "      <th></th>\n",
       "    </tr>\n",
       "  </thead>\n",
       "  <tbody>\n",
       "    <tr>\n",
       "      <th>1984</th>\n",
       "      <td>9.0</td>\n",
       "      <td>0.0</td>\n",
       "      <td>0.0</td>\n",
       "      <td>0.0</td>\n",
       "      <td>0.0</td>\n",
       "      <td>0.0</td>\n",
       "      <td>0.0</td>\n",
       "      <td>0.0</td>\n",
       "      <td>0.0</td>\n",
       "      <td>0.0</td>\n",
       "      <td>...</td>\n",
       "      <td>0.0</td>\n",
       "      <td>0.0</td>\n",
       "      <td>0.0</td>\n",
       "      <td>0.0</td>\n",
       "      <td>0.0</td>\n",
       "      <td>0.0</td>\n",
       "      <td>0.0</td>\n",
       "      <td>0.0</td>\n",
       "      <td>0.0</td>\n",
       "      <td>0.0</td>\n",
       "    </tr>\n",
       "    <tr>\n",
       "      <th>1st to Die: A Novel</th>\n",
       "      <td>0.0</td>\n",
       "      <td>0.0</td>\n",
       "      <td>0.0</td>\n",
       "      <td>0.0</td>\n",
       "      <td>0.0</td>\n",
       "      <td>0.0</td>\n",
       "      <td>0.0</td>\n",
       "      <td>0.0</td>\n",
       "      <td>0.0</td>\n",
       "      <td>0.0</td>\n",
       "      <td>...</td>\n",
       "      <td>0.0</td>\n",
       "      <td>0.0</td>\n",
       "      <td>0.0</td>\n",
       "      <td>0.0</td>\n",
       "      <td>0.0</td>\n",
       "      <td>0.0</td>\n",
       "      <td>0.0</td>\n",
       "      <td>0.0</td>\n",
       "      <td>0.0</td>\n",
       "      <td>0.0</td>\n",
       "    </tr>\n",
       "    <tr>\n",
       "      <th>2nd Chance</th>\n",
       "      <td>0.0</td>\n",
       "      <td>10.0</td>\n",
       "      <td>0.0</td>\n",
       "      <td>0.0</td>\n",
       "      <td>0.0</td>\n",
       "      <td>0.0</td>\n",
       "      <td>0.0</td>\n",
       "      <td>0.0</td>\n",
       "      <td>0.0</td>\n",
       "      <td>0.0</td>\n",
       "      <td>...</td>\n",
       "      <td>0.0</td>\n",
       "      <td>0.0</td>\n",
       "      <td>0.0</td>\n",
       "      <td>0.0</td>\n",
       "      <td>0.0</td>\n",
       "      <td>0.0</td>\n",
       "      <td>0.0</td>\n",
       "      <td>0.0</td>\n",
       "      <td>0.0</td>\n",
       "      <td>0.0</td>\n",
       "    </tr>\n",
       "    <tr>\n",
       "      <th>4 Blondes</th>\n",
       "      <td>0.0</td>\n",
       "      <td>0.0</td>\n",
       "      <td>0.0</td>\n",
       "      <td>0.0</td>\n",
       "      <td>0.0</td>\n",
       "      <td>0.0</td>\n",
       "      <td>0.0</td>\n",
       "      <td>0.0</td>\n",
       "      <td>0.0</td>\n",
       "      <td>0.0</td>\n",
       "      <td>...</td>\n",
       "      <td>0.0</td>\n",
       "      <td>0.0</td>\n",
       "      <td>0.0</td>\n",
       "      <td>0.0</td>\n",
       "      <td>0.0</td>\n",
       "      <td>0.0</td>\n",
       "      <td>0.0</td>\n",
       "      <td>0.0</td>\n",
       "      <td>0.0</td>\n",
       "      <td>0.0</td>\n",
       "    </tr>\n",
       "    <tr>\n",
       "      <th>84 Charing Cross Road</th>\n",
       "      <td>0.0</td>\n",
       "      <td>0.0</td>\n",
       "      <td>0.0</td>\n",
       "      <td>0.0</td>\n",
       "      <td>0.0</td>\n",
       "      <td>0.0</td>\n",
       "      <td>0.0</td>\n",
       "      <td>0.0</td>\n",
       "      <td>0.0</td>\n",
       "      <td>0.0</td>\n",
       "      <td>...</td>\n",
       "      <td>0.0</td>\n",
       "      <td>0.0</td>\n",
       "      <td>0.0</td>\n",
       "      <td>0.0</td>\n",
       "      <td>0.0</td>\n",
       "      <td>10.0</td>\n",
       "      <td>0.0</td>\n",
       "      <td>0.0</td>\n",
       "      <td>0.0</td>\n",
       "      <td>0.0</td>\n",
       "    </tr>\n",
       "    <tr>\n",
       "      <th>...</th>\n",
       "      <td>...</td>\n",
       "      <td>...</td>\n",
       "      <td>...</td>\n",
       "      <td>...</td>\n",
       "      <td>...</td>\n",
       "      <td>...</td>\n",
       "      <td>...</td>\n",
       "      <td>...</td>\n",
       "      <td>...</td>\n",
       "      <td>...</td>\n",
       "      <td>...</td>\n",
       "      <td>...</td>\n",
       "      <td>...</td>\n",
       "      <td>...</td>\n",
       "      <td>...</td>\n",
       "      <td>...</td>\n",
       "      <td>...</td>\n",
       "      <td>...</td>\n",
       "      <td>...</td>\n",
       "      <td>...</td>\n",
       "      <td>...</td>\n",
       "    </tr>\n",
       "    <tr>\n",
       "      <th>Year of Wonders</th>\n",
       "      <td>0.0</td>\n",
       "      <td>0.0</td>\n",
       "      <td>0.0</td>\n",
       "      <td>7.0</td>\n",
       "      <td>0.0</td>\n",
       "      <td>0.0</td>\n",
       "      <td>0.0</td>\n",
       "      <td>0.0</td>\n",
       "      <td>7.0</td>\n",
       "      <td>0.0</td>\n",
       "      <td>...</td>\n",
       "      <td>0.0</td>\n",
       "      <td>0.0</td>\n",
       "      <td>0.0</td>\n",
       "      <td>0.0</td>\n",
       "      <td>0.0</td>\n",
       "      <td>0.0</td>\n",
       "      <td>0.0</td>\n",
       "      <td>0.0</td>\n",
       "      <td>0.0</td>\n",
       "      <td>0.0</td>\n",
       "    </tr>\n",
       "    <tr>\n",
       "      <th>You Belong To Me</th>\n",
       "      <td>0.0</td>\n",
       "      <td>0.0</td>\n",
       "      <td>0.0</td>\n",
       "      <td>0.0</td>\n",
       "      <td>0.0</td>\n",
       "      <td>0.0</td>\n",
       "      <td>0.0</td>\n",
       "      <td>0.0</td>\n",
       "      <td>0.0</td>\n",
       "      <td>0.0</td>\n",
       "      <td>...</td>\n",
       "      <td>0.0</td>\n",
       "      <td>0.0</td>\n",
       "      <td>0.0</td>\n",
       "      <td>0.0</td>\n",
       "      <td>0.0</td>\n",
       "      <td>0.0</td>\n",
       "      <td>0.0</td>\n",
       "      <td>0.0</td>\n",
       "      <td>0.0</td>\n",
       "      <td>0.0</td>\n",
       "    </tr>\n",
       "    <tr>\n",
       "      <th>Zen and the Art of Motorcycle Maintenance: An Inquiry into Values</th>\n",
       "      <td>0.0</td>\n",
       "      <td>0.0</td>\n",
       "      <td>0.0</td>\n",
       "      <td>0.0</td>\n",
       "      <td>0.0</td>\n",
       "      <td>0.0</td>\n",
       "      <td>0.0</td>\n",
       "      <td>0.0</td>\n",
       "      <td>0.0</td>\n",
       "      <td>0.0</td>\n",
       "      <td>...</td>\n",
       "      <td>0.0</td>\n",
       "      <td>0.0</td>\n",
       "      <td>0.0</td>\n",
       "      <td>0.0</td>\n",
       "      <td>0.0</td>\n",
       "      <td>0.0</td>\n",
       "      <td>0.0</td>\n",
       "      <td>0.0</td>\n",
       "      <td>0.0</td>\n",
       "      <td>0.0</td>\n",
       "    </tr>\n",
       "    <tr>\n",
       "      <th>Zoya</th>\n",
       "      <td>0.0</td>\n",
       "      <td>0.0</td>\n",
       "      <td>0.0</td>\n",
       "      <td>0.0</td>\n",
       "      <td>0.0</td>\n",
       "      <td>0.0</td>\n",
       "      <td>0.0</td>\n",
       "      <td>0.0</td>\n",
       "      <td>0.0</td>\n",
       "      <td>0.0</td>\n",
       "      <td>...</td>\n",
       "      <td>0.0</td>\n",
       "      <td>0.0</td>\n",
       "      <td>0.0</td>\n",
       "      <td>0.0</td>\n",
       "      <td>0.0</td>\n",
       "      <td>0.0</td>\n",
       "      <td>0.0</td>\n",
       "      <td>0.0</td>\n",
       "      <td>0.0</td>\n",
       "      <td>0.0</td>\n",
       "    </tr>\n",
       "    <tr>\n",
       "      <th>\\O\\\" Is for Outlaw\"</th>\n",
       "      <td>0.0</td>\n",
       "      <td>0.0</td>\n",
       "      <td>0.0</td>\n",
       "      <td>0.0</td>\n",
       "      <td>0.0</td>\n",
       "      <td>0.0</td>\n",
       "      <td>0.0</td>\n",
       "      <td>0.0</td>\n",
       "      <td>0.0</td>\n",
       "      <td>0.0</td>\n",
       "      <td>...</td>\n",
       "      <td>0.0</td>\n",
       "      <td>0.0</td>\n",
       "      <td>8.0</td>\n",
       "      <td>0.0</td>\n",
       "      <td>0.0</td>\n",
       "      <td>0.0</td>\n",
       "      <td>0.0</td>\n",
       "      <td>0.0</td>\n",
       "      <td>0.0</td>\n",
       "      <td>0.0</td>\n",
       "    </tr>\n",
       "  </tbody>\n",
       "</table>\n",
       "<p>742 rows × 888 columns</p>\n",
       "</div>"
      ],
      "text/plain": [
       "user_id                                             254     2276    2766    \\\n",
       "title                                                                        \n",
       "1984                                                   9.0     0.0     0.0   \n",
       "1st to Die: A Novel                                    0.0     0.0     0.0   \n",
       "2nd Chance                                             0.0    10.0     0.0   \n",
       "4 Blondes                                              0.0     0.0     0.0   \n",
       "84 Charing Cross Road                                  0.0     0.0     0.0   \n",
       "...                                                    ...     ...     ...   \n",
       "Year of Wonders                                        0.0     0.0     0.0   \n",
       "You Belong To Me                                       0.0     0.0     0.0   \n",
       "Zen and the Art of Motorcycle Maintenance: An I...     0.0     0.0     0.0   \n",
       "Zoya                                                   0.0     0.0     0.0   \n",
       "\\O\\\" Is for Outlaw\"                                    0.0     0.0     0.0   \n",
       "\n",
       "user_id                                             2977    3363    3757    \\\n",
       "title                                                                        \n",
       "1984                                                   0.0     0.0     0.0   \n",
       "1st to Die: A Novel                                    0.0     0.0     0.0   \n",
       "2nd Chance                                             0.0     0.0     0.0   \n",
       "4 Blondes                                              0.0     0.0     0.0   \n",
       "84 Charing Cross Road                                  0.0     0.0     0.0   \n",
       "...                                                    ...     ...     ...   \n",
       "Year of Wonders                                        7.0     0.0     0.0   \n",
       "You Belong To Me                                       0.0     0.0     0.0   \n",
       "Zen and the Art of Motorcycle Maintenance: An I...     0.0     0.0     0.0   \n",
       "Zoya                                                   0.0     0.0     0.0   \n",
       "\\O\\\" Is for Outlaw\"                                    0.0     0.0     0.0   \n",
       "\n",
       "user_id                                             4017    4385    6242    \\\n",
       "title                                                                        \n",
       "1984                                                   0.0     0.0     0.0   \n",
       "1st to Die: A Novel                                    0.0     0.0     0.0   \n",
       "2nd Chance                                             0.0     0.0     0.0   \n",
       "4 Blondes                                              0.0     0.0     0.0   \n",
       "84 Charing Cross Road                                  0.0     0.0     0.0   \n",
       "...                                                    ...     ...     ...   \n",
       "Year of Wonders                                        0.0     0.0     7.0   \n",
       "You Belong To Me                                       0.0     0.0     0.0   \n",
       "Zen and the Art of Motorcycle Maintenance: An I...     0.0     0.0     0.0   \n",
       "Zoya                                                   0.0     0.0     0.0   \n",
       "\\O\\\" Is for Outlaw\"                                    0.0     0.0     0.0   \n",
       "\n",
       "user_id                                             6251    ...  274004  \\\n",
       "title                                                       ...           \n",
       "1984                                                   0.0  ...     0.0   \n",
       "1st to Die: A Novel                                    0.0  ...     0.0   \n",
       "2nd Chance                                             0.0  ...     0.0   \n",
       "4 Blondes                                              0.0  ...     0.0   \n",
       "84 Charing Cross Road                                  0.0  ...     0.0   \n",
       "...                                                    ...  ...     ...   \n",
       "Year of Wonders                                        0.0  ...     0.0   \n",
       "You Belong To Me                                       0.0  ...     0.0   \n",
       "Zen and the Art of Motorcycle Maintenance: An I...     0.0  ...     0.0   \n",
       "Zoya                                                   0.0  ...     0.0   \n",
       "\\O\\\" Is for Outlaw\"                                    0.0  ...     0.0   \n",
       "\n",
       "user_id                                             274061  274301  274308  \\\n",
       "title                                                                        \n",
       "1984                                                   0.0     0.0     0.0   \n",
       "1st to Die: A Novel                                    0.0     0.0     0.0   \n",
       "2nd Chance                                             0.0     0.0     0.0   \n",
       "4 Blondes                                              0.0     0.0     0.0   \n",
       "84 Charing Cross Road                                  0.0     0.0     0.0   \n",
       "...                                                    ...     ...     ...   \n",
       "Year of Wonders                                        0.0     0.0     0.0   \n",
       "You Belong To Me                                       0.0     0.0     0.0   \n",
       "Zen and the Art of Motorcycle Maintenance: An I...     0.0     0.0     0.0   \n",
       "Zoya                                                   0.0     0.0     0.0   \n",
       "\\O\\\" Is for Outlaw\"                                    0.0     8.0     0.0   \n",
       "\n",
       "user_id                                             274808  275970  277427  \\\n",
       "title                                                                        \n",
       "1984                                                   0.0     0.0     0.0   \n",
       "1st to Die: A Novel                                    0.0     0.0     0.0   \n",
       "2nd Chance                                             0.0     0.0     0.0   \n",
       "4 Blondes                                              0.0     0.0     0.0   \n",
       "84 Charing Cross Road                                  0.0    10.0     0.0   \n",
       "...                                                    ...     ...     ...   \n",
       "Year of Wonders                                        0.0     0.0     0.0   \n",
       "You Belong To Me                                       0.0     0.0     0.0   \n",
       "Zen and the Art of Motorcycle Maintenance: An I...     0.0     0.0     0.0   \n",
       "Zoya                                                   0.0     0.0     0.0   \n",
       "\\O\\\" Is for Outlaw\"                                    0.0     0.0     0.0   \n",
       "\n",
       "user_id                                             277478  277639  278418  \n",
       "title                                                                       \n",
       "1984                                                   0.0     0.0     0.0  \n",
       "1st to Die: A Novel                                    0.0     0.0     0.0  \n",
       "2nd Chance                                             0.0     0.0     0.0  \n",
       "4 Blondes                                              0.0     0.0     0.0  \n",
       "84 Charing Cross Road                                  0.0     0.0     0.0  \n",
       "...                                                    ...     ...     ...  \n",
       "Year of Wonders                                        0.0     0.0     0.0  \n",
       "You Belong To Me                                       0.0     0.0     0.0  \n",
       "Zen and the Art of Motorcycle Maintenance: An I...     0.0     0.0     0.0  \n",
       "Zoya                                                   0.0     0.0     0.0  \n",
       "\\O\\\" Is for Outlaw\"                                    0.0     0.0     0.0  \n",
       "\n",
       "[742 rows x 888 columns]"
      ]
     },
     "execution_count": 344,
     "metadata": {},
     "output_type": "execute_result"
    }
   ],
   "source": [
    "book_pivot_item_based= final_rating.pivot_table(index=\"title\" , columns=\"user_id\", values=\"rating\")\n",
    "book_pivot_item_based.fillna(0,inplace=True)\n",
    "book_pivot_item_based"
   ]
  },
  {
   "cell_type": "code",
   "execution_count": 345,
   "id": "de5b4318",
   "metadata": {},
   "outputs": [
    {
     "data": {
      "text/plain": [
       "<742x888 sparse matrix of type '<class 'numpy.float64'>'\n",
       "\twith 14942 stored elements in Compressed Sparse Row format>"
      ]
     },
     "execution_count": 345,
     "metadata": {},
     "output_type": "execute_result"
    }
   ],
   "source": [
    "book_sparse_item_based= csr_matrix(book_pivot_item_based)\n",
    "book_sparse_item_based"
   ]
  },
  {
   "cell_type": "code",
   "execution_count": 346,
   "id": "9b4def48",
   "metadata": {},
   "outputs": [],
   "source": [
    "model_item_based=NearestNeighbors(metric=\"cosine\" ,algorithm=\"brute\",n_neighbors=6)"
   ]
  },
  {
   "cell_type": "code",
   "execution_count": 347,
   "id": "0b4d9198",
   "metadata": {},
   "outputs": [
    {
     "data": {
      "text/plain": [
       "NearestNeighbors(algorithm='brute', metric='cosine', n_neighbors=6)"
      ]
     },
     "execution_count": 347,
     "metadata": {},
     "output_type": "execute_result"
    }
   ],
   "source": [
    "model_item_based.fit(book_sparse_item_based)"
   ]
  },
  {
   "cell_type": "code",
   "execution_count": 348,
   "id": "f72b2220",
   "metadata": {},
   "outputs": [],
   "source": [
    "distance_items , suggestion_items = model_item_based.kneighbors(book_pivot_item_based.iloc[237,:].values.reshape(1,-1), n_neighbors=6)"
   ]
  },
  {
   "cell_type": "code",
   "execution_count": 349,
   "id": "f6359950",
   "metadata": {},
   "outputs": [
    {
     "data": {
      "text/plain": [
       "array([[237, 240, 238, 242, 241, 239]], dtype=int64)"
      ]
     },
     "execution_count": 349,
     "metadata": {},
     "output_type": "execute_result"
    }
   ],
   "source": [
    " suggestion_items"
   ]
  },
  {
   "cell_type": "code",
   "execution_count": 350,
   "id": "9d3578b7",
   "metadata": {},
   "outputs": [],
   "source": [
    "books_index = book_pivot_item_based.index"
   ]
  },
  {
   "cell_type": "code",
   "execution_count": 351,
   "id": "28c11f38",
   "metadata": {},
   "outputs": [],
   "source": [
    "#saving the model \n",
    "import pickle\n",
    "pickle.dump(model_item_based,open('artifacts/model_item_based.pkl','wb'))\n",
    "pickle.dump(books_index,open('artifacts/books_isbn.pkl','wb'))\n",
    "pickle.dump(final_rating,open('artifacts/final_rating.pkl','wb'))\n",
    "pickle.dump(book_pivot_item_based,open('artifacts/book_pivot_item_based.pkl','wb'))"
   ]
  },
  {
   "cell_type": "code",
   "execution_count": 352,
   "id": "960c1665",
   "metadata": {},
   "outputs": [],
   "source": [
    "def recommend_book(book_name):\n",
    "    book_id= np.where(book_pivot_item_based.index == book_name)[0][0]\n",
    "    distance , suggestion = model_item_based.kneighbors(book_pivot_item_based.iloc[book_id,:].values.reshape(1,-1), n_neighbors=6)\n",
    "    \n",
    "    for i in range(len(suggestion)):\n",
    "        books = book_pivot_item_based.index[suggestion[i]]\n",
    "        for j in books:\n",
    "            print(j)"
   ]
  },
  {
   "cell_type": "markdown",
   "id": "abb37145",
   "metadata": {},
   "source": [
    "This recommends books function finds and prints the names of recommended books based on their similarity to the input book."
   ]
  },
  {
   "cell_type": "code",
   "execution_count": 353,
   "id": "4dbb97be",
   "metadata": {},
   "outputs": [
    {
     "name": "stdout",
     "output_type": "stream",
     "text": [
      "Nights in Rodanthe\n",
      "The Mulberry Tree\n",
      "Sea Glass: A Novel\n",
      "The Wedding\n",
      "Sanctuary\n",
      "Dark Angel\n"
     ]
    }
   ],
   "source": [
    "# mock book_title\n",
    "book_name = 'Nights in Rodanthe'\n",
    "\n",
    "recommend_book(book_name)"
   ]
  },
  {
   "cell_type": "markdown",
   "id": "3fe7e5ba",
   "metadata": {},
   "source": [
    "In conclusion, this book recommendation system project has successfully implemented collaborative filtering techniques, specifically user-based and item-based approaches, utilizing the K-Nearest Neighbors (KNN) algorithm. These methods have proven effective in providing personalized book recommendations based on user preferences and book similarities. However, it's important to acknowledge the challenge of the cold-start problem when dealing with new users who have a limited number of ratings or none at all. In such cases, the system may struggle to provide accurate recommendations."
   ]
  },
  {
   "cell_type": "markdown",
   "id": "e338c4bc",
   "metadata": {},
   "source": [
    "To enhance the system's performance and address the cold-start problem, a hybrid approach can be considered. This hybrid recommendation system would leverage both user similarities and item similarities, combining the strengths of collaborative and content-based filtering techniques. By incorporating additional features, such as book attributes (e.g., author, publisher), the system can offer more robust and reliable recommendations, even for users with sparse or no rating histories.\n",
    "\n",
    "For next steps, We aim to boost LitWise's accuracy through a hybrid approach, merging collaborative and content-based filtering to enhance book recommendations."
   ]
  }
 ],
 "metadata": {
  "kernelspec": {
   "display_name": "Python 3 (ipykernel)",
   "language": "python",
   "name": "python3"
  },
  "language_info": {
   "codemirror_mode": {
    "name": "ipython",
    "version": 3
   },
   "file_extension": ".py",
   "mimetype": "text/x-python",
   "name": "python",
   "nbconvert_exporter": "python",
   "pygments_lexer": "ipython3",
   "version": "3.9.12"
  }
 },
 "nbformat": 4,
 "nbformat_minor": 5
}
