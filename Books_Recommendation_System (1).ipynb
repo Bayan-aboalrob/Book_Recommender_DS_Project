{
 "cells": [
  {
   "cell_type": "markdown",
   "id": "3a61e54a",
   "metadata": {},
   "source": [
    "# Book Recommendation System: LitWise!"
   ]
  },
  {
   "cell_type": "markdown",
   "id": "70316f05",
   "metadata": {},
   "source": [
    "In the vast world of books, one question echoes loudly: <b>\"What should I read next?\"</b> The immense library of human creation offers countless options, each book a new adventure waiting to be discovered. And that's where <b> LitWise </b> steps onto the stage—an indispensable digital companion with the remarkable ability to understand your reading preferences and unveil books that resonate with your heart.\n",
    "\n",
    "Envision a world where book recommendations feel as if they were carefully selected by an insightful friend who knows your literary inclinations like the back of their hand. LitWise, a smart book recommendation system, brings this world to life. Through the marvels of data analysis and ingenious algorithms, it captures the essence of your reading habits, favorite genres, and the stories that you were intreseted in."
   ]
  },
  {
   "cell_type": "markdown",
   "id": "75e529cb",
   "metadata": {},
   "source": [
    "<h3> But how does this happen?</h3>  <br> Let us commence an exploration to comprehend recommendation systems.\n",
    "\n",
    "\n",
    "Recommendation engines, a subset of machine learning, focus on allowing marketers to offer their customers relevant product recommendations in real-time. By using different algorithms and data analysis techniques, they recommend the most relevant products to a particular user. \n",
    "\n",
    "Major companies like Google, Instagram, Spotify, Amazon, Reddit, and Netflix employ recommendation systems to improve user interaction with their platforms.\n",
    "\n",
    "<h3> How do recommendation engines work? </h3>\n",
    "\n",
    "Typically, a recommendation engine processes data through the below four phases:\n",
    "\n",
    "- Collection.\n",
    "- Storing.\n",
    "- Analyzing.\n",
    "- Filtering. \n",
    "\n",
    "one of the crucial components behind the working of a product recommendation engine is the <b> recommender function </b>, which considers specific information about the user and predicts the rating that a user might assign to a product.\n",
    " \n",
    "\n",
    " \n",
    "<h4> There are mainly three types of recommendation engines:</h4>\n",
    "\n",
    " \n",
    " - Collaborative Filtering: it's based on collecting and analyzing information and predicting what they will like based on        the similarity with other users.\n",
    " \n",
    " - Content-Based Filtering: They are based on the description of an item and a profile of the user's preferred choices.\n",
    " \n",
    " - Hybrid Recommendation Systems: they are essentially the combination of diverse rating and sorting algorithms.\n",
    " \n"
   ]
  },
  {
   "cell_type": "markdown",
   "id": "54c81ce7",
   "metadata": {},
   "source": [
    "<b>In this project </b>, we start by exploring our data to uncover its hidden insights. We then embark on an exciting journey to craft a strong book recommendation system. With precision and dedication, we'll create and evaluate various models to ensure our solution brings happiness to book enthusiasts and readers as much as possible."
   ]
  },
  {
   "cell_type": "markdown",
   "id": "7f13b595",
   "metadata": {},
   "source": [
    "<hr> \n",
    "\n",
    "<center> <h2> EDA </h2> <center>\n",
    "    \n",
    " Let's start our EDA to explore the dataset.\n",
    "    \n",
    " In this project we are using a book-recommendation dataset from Kaggle that Collected by Cai-Nicolas Ziegler in a 4-week crawl (August / September 2004). It includes three tables as the following:\n",
    "    \n",
    "- Users \n",
    "    \n",
    " Contains the users. Note that user IDs (User-ID) have been anonymized and map to integers.Demographic data is provided    (Location, Age) if available. Otherwise, these fields contain NULL-values.\n",
    "    \n",
    "    \n",
    "- Books\n",
    "    \n",
    "  Books are identified by their respective ISBN. Moreover, some content-based information is given (Book-Title, Book-Author,     Year-Of-Publication, Publisher), obtained from Amazon Web Services. Note that in case of several authors, only the first is     provided. URLs linking to cover images are also given, appearing in three different flavours (Image-URL-S, Image-URL-M,         Image-URL-L), i.e., small, medium, large. These URLs point to the Amazon web site.\n",
    "    \n",
    "    \n",
    "- Ratings\n",
    "    \n",
    " Contains the book rating information. Ratings (Book-Rating) are either explicit, expressed on a scale from 1-10 (higher values   denoting higher appreciation), or implicit, expressed by 0.\n",
    "    \n",
    "    <b> Dataset link </b> : <a href= \"https://drive.google.com/drive/folders/1xl2bpjT0hnhT3zieazrikMU4VCWoqPfI\"> Book         Recommendation Dataset</a>"
   ]
  },
  {
   "cell_type": "markdown",
   "id": "2c43b97d",
   "metadata": {},
   "source": [
    "### Setting up the enivornment:"
   ]
  },
  {
   "cell_type": "code",
   "execution_count": 168,
   "id": "50a7c3e6",
   "metadata": {},
   "outputs": [],
   "source": [
    "import pandas as pd\n",
    "import numpy as np\n",
    "import matplotlib.pyplot as plt\n",
    "import seaborn as sns"
   ]
  },
  {
   "cell_type": "markdown",
   "id": "3ac0637e",
   "metadata": {},
   "source": [
    "### Data Loading\n",
    "\n",
    " #### Reading Book data"
   ]
  },
  {
   "cell_type": "code",
   "execution_count": 186,
   "id": "41bd96a6",
   "metadata": {},
   "outputs": [
    {
     "name": "stderr",
     "output_type": "stream",
     "text": [
      "C:\\Users\\HP\\AppData\\Local\\Temp\\ipykernel_20192\\694803224.py:2: FutureWarning: The error_bad_lines argument has been deprecated and will be removed in a future version. Use on_bad_lines in the future.\n",
      "\n",
      "\n",
      "  books = pd.read_csv(\"../Dataset/BX-Books.csv\", sep=\";\", error_bad_lines=False,encoding=\"latin-1\" )\n",
      "b'Skipping line 6452: expected 8 fields, saw 9\\nSkipping line 43667: expected 8 fields, saw 10\\nSkipping line 51751: expected 8 fields, saw 9\\n'\n",
      "b'Skipping line 92038: expected 8 fields, saw 9\\nSkipping line 104319: expected 8 fields, saw 9\\nSkipping line 121768: expected 8 fields, saw 9\\n'\n",
      "b'Skipping line 144058: expected 8 fields, saw 9\\nSkipping line 150789: expected 8 fields, saw 9\\nSkipping line 157128: expected 8 fields, saw 9\\nSkipping line 180189: expected 8 fields, saw 9\\nSkipping line 185738: expected 8 fields, saw 9\\n'\n",
      "b'Skipping line 209388: expected 8 fields, saw 9\\nSkipping line 220626: expected 8 fields, saw 9\\nSkipping line 227933: expected 8 fields, saw 11\\nSkipping line 228957: expected 8 fields, saw 10\\nSkipping line 245933: expected 8 fields, saw 9\\nSkipping line 251296: expected 8 fields, saw 9\\nSkipping line 259941: expected 8 fields, saw 9\\nSkipping line 261529: expected 8 fields, saw 9\\n'\n",
      "C:\\Users\\HP\\AppData\\Local\\Temp\\ipykernel_20192\\694803224.py:2: DtypeWarning: Columns (3) have mixed types. Specify dtype option on import or set low_memory=False.\n",
      "  books = pd.read_csv(\"../Dataset/BX-Books.csv\", sep=\";\", error_bad_lines=False,encoding=\"latin-1\" )\n"
     ]
    }
   ],
   "source": [
    "# Reading the data, specifying the semicolon (;) as the delimiter\n",
    "books = pd.read_csv(\"../Dataset/BX-Books.csv\", sep=\";\", error_bad_lines=False,encoding=\"latin-1\" )"
   ]
  },
  {
   "cell_type": "code",
   "execution_count": 187,
   "id": "e0fee0bd",
   "metadata": {},
   "outputs": [
    {
     "data": {
      "text/html": [
       "<div>\n",
       "<style scoped>\n",
       "    .dataframe tbody tr th:only-of-type {\n",
       "        vertical-align: middle;\n",
       "    }\n",
       "\n",
       "    .dataframe tbody tr th {\n",
       "        vertical-align: top;\n",
       "    }\n",
       "\n",
       "    .dataframe thead th {\n",
       "        text-align: right;\n",
       "    }\n",
       "</style>\n",
       "<table border=\"1\" class=\"dataframe\">\n",
       "  <thead>\n",
       "    <tr style=\"text-align: right;\">\n",
       "      <th></th>\n",
       "      <th>ISBN</th>\n",
       "      <th>Book-Title</th>\n",
       "      <th>Book-Author</th>\n",
       "      <th>Year-Of-Publication</th>\n",
       "      <th>Publisher</th>\n",
       "      <th>Image-URL-S</th>\n",
       "      <th>Image-URL-M</th>\n",
       "      <th>Image-URL-L</th>\n",
       "    </tr>\n",
       "  </thead>\n",
       "  <tbody>\n",
       "    <tr>\n",
       "      <th>0</th>\n",
       "      <td>0195153448</td>\n",
       "      <td>Classical Mythology</td>\n",
       "      <td>Mark P. O. Morford</td>\n",
       "      <td>2002</td>\n",
       "      <td>Oxford University Press</td>\n",
       "      <td>http://images.amazon.com/images/P/0195153448.0...</td>\n",
       "      <td>http://images.amazon.com/images/P/0195153448.0...</td>\n",
       "      <td>http://images.amazon.com/images/P/0195153448.0...</td>\n",
       "    </tr>\n",
       "    <tr>\n",
       "      <th>1</th>\n",
       "      <td>0002005018</td>\n",
       "      <td>Clara Callan</td>\n",
       "      <td>Richard Bruce Wright</td>\n",
       "      <td>2001</td>\n",
       "      <td>HarperFlamingo Canada</td>\n",
       "      <td>http://images.amazon.com/images/P/0002005018.0...</td>\n",
       "      <td>http://images.amazon.com/images/P/0002005018.0...</td>\n",
       "      <td>http://images.amazon.com/images/P/0002005018.0...</td>\n",
       "    </tr>\n",
       "    <tr>\n",
       "      <th>2</th>\n",
       "      <td>0060973129</td>\n",
       "      <td>Decision in Normandy</td>\n",
       "      <td>Carlo D'Este</td>\n",
       "      <td>1991</td>\n",
       "      <td>HarperPerennial</td>\n",
       "      <td>http://images.amazon.com/images/P/0060973129.0...</td>\n",
       "      <td>http://images.amazon.com/images/P/0060973129.0...</td>\n",
       "      <td>http://images.amazon.com/images/P/0060973129.0...</td>\n",
       "    </tr>\n",
       "    <tr>\n",
       "      <th>3</th>\n",
       "      <td>0374157065</td>\n",
       "      <td>Flu: The Story of the Great Influenza Pandemic...</td>\n",
       "      <td>Gina Bari Kolata</td>\n",
       "      <td>1999</td>\n",
       "      <td>Farrar Straus Giroux</td>\n",
       "      <td>http://images.amazon.com/images/P/0374157065.0...</td>\n",
       "      <td>http://images.amazon.com/images/P/0374157065.0...</td>\n",
       "      <td>http://images.amazon.com/images/P/0374157065.0...</td>\n",
       "    </tr>\n",
       "    <tr>\n",
       "      <th>4</th>\n",
       "      <td>0393045218</td>\n",
       "      <td>The Mummies of Urumchi</td>\n",
       "      <td>E. J. W. Barber</td>\n",
       "      <td>1999</td>\n",
       "      <td>W. W. Norton &amp;amp; Company</td>\n",
       "      <td>http://images.amazon.com/images/P/0393045218.0...</td>\n",
       "      <td>http://images.amazon.com/images/P/0393045218.0...</td>\n",
       "      <td>http://images.amazon.com/images/P/0393045218.0...</td>\n",
       "    </tr>\n",
       "  </tbody>\n",
       "</table>\n",
       "</div>"
      ],
      "text/plain": [
       "         ISBN                                         Book-Title  \\\n",
       "0  0195153448                                Classical Mythology   \n",
       "1  0002005018                                       Clara Callan   \n",
       "2  0060973129                               Decision in Normandy   \n",
       "3  0374157065  Flu: The Story of the Great Influenza Pandemic...   \n",
       "4  0393045218                             The Mummies of Urumchi   \n",
       "\n",
       "            Book-Author Year-Of-Publication                   Publisher  \\\n",
       "0    Mark P. O. Morford                2002     Oxford University Press   \n",
       "1  Richard Bruce Wright                2001       HarperFlamingo Canada   \n",
       "2          Carlo D'Este                1991             HarperPerennial   \n",
       "3      Gina Bari Kolata                1999        Farrar Straus Giroux   \n",
       "4       E. J. W. Barber                1999  W. W. Norton &amp; Company   \n",
       "\n",
       "                                         Image-URL-S  \\\n",
       "0  http://images.amazon.com/images/P/0195153448.0...   \n",
       "1  http://images.amazon.com/images/P/0002005018.0...   \n",
       "2  http://images.amazon.com/images/P/0060973129.0...   \n",
       "3  http://images.amazon.com/images/P/0374157065.0...   \n",
       "4  http://images.amazon.com/images/P/0393045218.0...   \n",
       "\n",
       "                                         Image-URL-M  \\\n",
       "0  http://images.amazon.com/images/P/0195153448.0...   \n",
       "1  http://images.amazon.com/images/P/0002005018.0...   \n",
       "2  http://images.amazon.com/images/P/0060973129.0...   \n",
       "3  http://images.amazon.com/images/P/0374157065.0...   \n",
       "4  http://images.amazon.com/images/P/0393045218.0...   \n",
       "\n",
       "                                         Image-URL-L  \n",
       "0  http://images.amazon.com/images/P/0195153448.0...  \n",
       "1  http://images.amazon.com/images/P/0002005018.0...  \n",
       "2  http://images.amazon.com/images/P/0060973129.0...  \n",
       "3  http://images.amazon.com/images/P/0374157065.0...  \n",
       "4  http://images.amazon.com/images/P/0393045218.0...  "
      ]
     },
     "execution_count": 187,
     "metadata": {},
     "output_type": "execute_result"
    }
   ],
   "source": [
    "# Retrieving top 5 views\n",
    "books.head(5)"
   ]
  },
  {
   "cell_type": "code",
   "execution_count": 188,
   "id": "514518c6",
   "metadata": {},
   "outputs": [
    {
     "name": "stdout",
     "output_type": "stream",
     "text": [
      "Number of rows :  271360\n",
      "Number of features :  8\n"
     ]
    }
   ],
   "source": [
    "print(\"Number of rows : \", books.shape[0])\n",
    "print(\"Number of features : \", books.shape[1])"
   ]
  },
  {
   "cell_type": "code",
   "execution_count": 189,
   "id": "9a0f0b76",
   "metadata": {},
   "outputs": [
    {
     "data": {
      "text/plain": [
       "Index(['ISBN', 'Book-Title', 'Book-Author', 'Year-Of-Publication', 'Publisher',\n",
       "       'Image-URL-S', 'Image-URL-M', 'Image-URL-L'],\n",
       "      dtype='object')"
      ]
     },
     "execution_count": 189,
     "metadata": {},
     "output_type": "execute_result"
    }
   ],
   "source": [
    "# Retrieving the list of features in the book df\n",
    "books.columns"
   ]
  },
  {
   "cell_type": "markdown",
   "id": "1476f09b",
   "metadata": {},
   "source": [
    "<b> Here, we are summarizing the list of features, their data types, and the number of non-Null values in each one </b>\n",
    "\n",
    "- we notice that all features are of object type and the data is almost completed ( a very few values from some columns are null)"
   ]
  },
  {
   "cell_type": "code",
   "execution_count": 190,
   "id": "e1906e70",
   "metadata": {},
   "outputs": [
    {
     "name": "stdout",
     "output_type": "stream",
     "text": [
      "<class 'pandas.core.frame.DataFrame'>\n",
      "RangeIndex: 271360 entries, 0 to 271359\n",
      "Data columns (total 8 columns):\n",
      " #   Column               Non-Null Count   Dtype \n",
      "---  ------               --------------   ----- \n",
      " 0   ISBN                 271360 non-null  object\n",
      " 1   Book-Title           271360 non-null  object\n",
      " 2   Book-Author          271359 non-null  object\n",
      " 3   Year-Of-Publication  271360 non-null  object\n",
      " 4   Publisher            271358 non-null  object\n",
      " 5   Image-URL-S          271360 non-null  object\n",
      " 6   Image-URL-M          271360 non-null  object\n",
      " 7   Image-URL-L          271357 non-null  object\n",
      "dtypes: object(8)\n",
      "memory usage: 16.6+ MB\n"
     ]
    }
   ],
   "source": [
    "books.info()"
   ]
  },
  {
   "cell_type": "code",
   "execution_count": 191,
   "id": "e149a9a9",
   "metadata": {},
   "outputs": [
    {
     "data": {
      "text/plain": [
       "ISBN                   0\n",
       "Book-Title             0\n",
       "Book-Author            1\n",
       "Year-Of-Publication    0\n",
       "Publisher              2\n",
       "Image-URL-S            0\n",
       "Image-URL-M            0\n",
       "Image-URL-L            3\n",
       "dtype: int64"
      ]
     },
     "execution_count": 191,
     "metadata": {},
     "output_type": "execute_result"
    }
   ],
   "source": [
    "#checking for null_values\n",
    "books.isnull().sum()"
   ]
  },
  {
   "cell_type": "code",
   "execution_count": 192,
   "id": "c49c7db6",
   "metadata": {},
   "outputs": [
    {
     "data": {
      "text/plain": [
       "0"
      ]
     },
     "execution_count": 192,
     "metadata": {},
     "output_type": "execute_result"
    }
   ],
   "source": [
    "# checking for duplicates\n",
    "books.duplicated().sum()"
   ]
  },
  {
   "cell_type": "markdown",
   "id": "5980af59",
   "metadata": {},
   "source": [
    "<b> The data has no duplicated rows, which indicates rows  distinctness </b>"
   ]
  },
  {
   "cell_type": "markdown",
   "id": "f0294516",
   "metadata": {},
   "source": [
    "<p> Given that the data comprises three well-maintained and valid image-related features, we have chosen to \n",
    "incorporate the 'large image URLs' feature since it might have a better resolution<p> "
   ]
  },
  {
   "cell_type": "code",
   "execution_count": 193,
   "id": "a44750c1",
   "metadata": {},
   "outputs": [
    {
     "data": {
      "text/html": [
       "<div>\n",
       "<style scoped>\n",
       "    .dataframe tbody tr th:only-of-type {\n",
       "        vertical-align: middle;\n",
       "    }\n",
       "\n",
       "    .dataframe tbody tr th {\n",
       "        vertical-align: top;\n",
       "    }\n",
       "\n",
       "    .dataframe thead th {\n",
       "        text-align: right;\n",
       "    }\n",
       "</style>\n",
       "<table border=\"1\" class=\"dataframe\">\n",
       "  <thead>\n",
       "    <tr style=\"text-align: right;\">\n",
       "      <th></th>\n",
       "      <th>ISBN</th>\n",
       "      <th>Book-Title</th>\n",
       "      <th>Book-Author</th>\n",
       "      <th>Year-Of-Publication</th>\n",
       "      <th>Publisher</th>\n",
       "      <th>Image-URL-L</th>\n",
       "    </tr>\n",
       "  </thead>\n",
       "  <tbody>\n",
       "    <tr>\n",
       "      <th>0</th>\n",
       "      <td>0195153448</td>\n",
       "      <td>Classical Mythology</td>\n",
       "      <td>Mark P. O. Morford</td>\n",
       "      <td>2002</td>\n",
       "      <td>Oxford University Press</td>\n",
       "      <td>http://images.amazon.com/images/P/0195153448.0...</td>\n",
       "    </tr>\n",
       "    <tr>\n",
       "      <th>1</th>\n",
       "      <td>0002005018</td>\n",
       "      <td>Clara Callan</td>\n",
       "      <td>Richard Bruce Wright</td>\n",
       "      <td>2001</td>\n",
       "      <td>HarperFlamingo Canada</td>\n",
       "      <td>http://images.amazon.com/images/P/0002005018.0...</td>\n",
       "    </tr>\n",
       "    <tr>\n",
       "      <th>2</th>\n",
       "      <td>0060973129</td>\n",
       "      <td>Decision in Normandy</td>\n",
       "      <td>Carlo D'Este</td>\n",
       "      <td>1991</td>\n",
       "      <td>HarperPerennial</td>\n",
       "      <td>http://images.amazon.com/images/P/0060973129.0...</td>\n",
       "    </tr>\n",
       "    <tr>\n",
       "      <th>3</th>\n",
       "      <td>0374157065</td>\n",
       "      <td>Flu: The Story of the Great Influenza Pandemic...</td>\n",
       "      <td>Gina Bari Kolata</td>\n",
       "      <td>1999</td>\n",
       "      <td>Farrar Straus Giroux</td>\n",
       "      <td>http://images.amazon.com/images/P/0374157065.0...</td>\n",
       "    </tr>\n",
       "    <tr>\n",
       "      <th>4</th>\n",
       "      <td>0393045218</td>\n",
       "      <td>The Mummies of Urumchi</td>\n",
       "      <td>E. J. W. Barber</td>\n",
       "      <td>1999</td>\n",
       "      <td>W. W. Norton &amp;amp; Company</td>\n",
       "      <td>http://images.amazon.com/images/P/0393045218.0...</td>\n",
       "    </tr>\n",
       "  </tbody>\n",
       "</table>\n",
       "</div>"
      ],
      "text/plain": [
       "         ISBN                                         Book-Title  \\\n",
       "0  0195153448                                Classical Mythology   \n",
       "1  0002005018                                       Clara Callan   \n",
       "2  0060973129                               Decision in Normandy   \n",
       "3  0374157065  Flu: The Story of the Great Influenza Pandemic...   \n",
       "4  0393045218                             The Mummies of Urumchi   \n",
       "\n",
       "            Book-Author Year-Of-Publication                   Publisher  \\\n",
       "0    Mark P. O. Morford                2002     Oxford University Press   \n",
       "1  Richard Bruce Wright                2001       HarperFlamingo Canada   \n",
       "2          Carlo D'Este                1991             HarperPerennial   \n",
       "3      Gina Bari Kolata                1999        Farrar Straus Giroux   \n",
       "4       E. J. W. Barber                1999  W. W. Norton &amp; Company   \n",
       "\n",
       "                                         Image-URL-L  \n",
       "0  http://images.amazon.com/images/P/0195153448.0...  \n",
       "1  http://images.amazon.com/images/P/0002005018.0...  \n",
       "2  http://images.amazon.com/images/P/0060973129.0...  \n",
       "3  http://images.amazon.com/images/P/0374157065.0...  \n",
       "4  http://images.amazon.com/images/P/0393045218.0...  "
      ]
     },
     "execution_count": 193,
     "metadata": {},
     "output_type": "execute_result"
    }
   ],
   "source": [
    "books = books[['ISBN', 'Book-Title', 'Book-Author', 'Year-Of-Publication', 'Publisher','Image-URL-L']]\n",
    "books.head(5)"
   ]
  },
  {
   "cell_type": "markdown",
   "id": "62105e89",
   "metadata": {},
   "source": [
    "Here, we are adjusting the column names to adhere to standardized naming conventions."
   ]
  },
  {
   "cell_type": "code",
   "execution_count": 194,
   "id": "bd93b4df",
   "metadata": {},
   "outputs": [
    {
     "data": {
      "text/html": [
       "<div>\n",
       "<style scoped>\n",
       "    .dataframe tbody tr th:only-of-type {\n",
       "        vertical-align: middle;\n",
       "    }\n",
       "\n",
       "    .dataframe tbody tr th {\n",
       "        vertical-align: top;\n",
       "    }\n",
       "\n",
       "    .dataframe thead th {\n",
       "        text-align: right;\n",
       "    }\n",
       "</style>\n",
       "<table border=\"1\" class=\"dataframe\">\n",
       "  <thead>\n",
       "    <tr style=\"text-align: right;\">\n",
       "      <th></th>\n",
       "      <th>ISBN</th>\n",
       "      <th>title</th>\n",
       "      <th>author</th>\n",
       "      <th>year</th>\n",
       "      <th>publisher</th>\n",
       "      <th>img_url</th>\n",
       "    </tr>\n",
       "  </thead>\n",
       "  <tbody>\n",
       "    <tr>\n",
       "      <th>0</th>\n",
       "      <td>0195153448</td>\n",
       "      <td>Classical Mythology</td>\n",
       "      <td>Mark P. O. Morford</td>\n",
       "      <td>2002</td>\n",
       "      <td>Oxford University Press</td>\n",
       "      <td>http://images.amazon.com/images/P/0195153448.0...</td>\n",
       "    </tr>\n",
       "    <tr>\n",
       "      <th>1</th>\n",
       "      <td>0002005018</td>\n",
       "      <td>Clara Callan</td>\n",
       "      <td>Richard Bruce Wright</td>\n",
       "      <td>2001</td>\n",
       "      <td>HarperFlamingo Canada</td>\n",
       "      <td>http://images.amazon.com/images/P/0002005018.0...</td>\n",
       "    </tr>\n",
       "  </tbody>\n",
       "</table>\n",
       "</div>"
      ],
      "text/plain": [
       "         ISBN                title                author  year  \\\n",
       "0  0195153448  Classical Mythology    Mark P. O. Morford  2002   \n",
       "1  0002005018         Clara Callan  Richard Bruce Wright  2001   \n",
       "\n",
       "                 publisher                                            img_url  \n",
       "0  Oxford University Press  http://images.amazon.com/images/P/0195153448.0...  \n",
       "1    HarperFlamingo Canada  http://images.amazon.com/images/P/0002005018.0...  "
      ]
     },
     "execution_count": 194,
     "metadata": {},
     "output_type": "execute_result"
    }
   ],
   "source": [
    "# renaming features\n",
    "books.rename(columns={\n",
    "    \"Book-Title\": \"title\",\n",
    "    \"Book-Author\": \"author\",\n",
    "    \"Year-Of-Publication\": \"year\",\n",
    "    \"Publisher\": \"publisher\",\n",
    "    \"Image-URL-L\": \"img_url\"}, inplace=True)\n",
    "books.head(2)"
   ]
  },
  {
   "cell_type": "markdown",
   "id": "d7fa06be",
   "metadata": {},
   "source": [
    "#### Reading User data"
   ]
  },
  {
   "cell_type": "code",
   "execution_count": 195,
   "id": "4bd3b3b4",
   "metadata": {},
   "outputs": [
    {
     "name": "stderr",
     "output_type": "stream",
     "text": [
      "C:\\Users\\HP\\AppData\\Local\\Temp\\ipykernel_20192\\1853820466.py:2: FutureWarning: The error_bad_lines argument has been deprecated and will be removed in a future version. Use on_bad_lines in the future.\n",
      "\n",
      "\n",
      "  users = pd.read_csv(\"../Dataset/BX-Users.csv\", sep=\";\", error_bad_lines=False,encoding=\"latin-1\" )\n"
     ]
    }
   ],
   "source": [
    "# reading users data\n",
    "users = pd.read_csv(\"../Dataset/BX-Users.csv\", sep=\";\", error_bad_lines=False,encoding=\"latin-1\" )"
   ]
  },
  {
   "cell_type": "code",
   "execution_count": 196,
   "id": "03947f22",
   "metadata": {},
   "outputs": [
    {
     "data": {
      "text/html": [
       "<div>\n",
       "<style scoped>\n",
       "    .dataframe tbody tr th:only-of-type {\n",
       "        vertical-align: middle;\n",
       "    }\n",
       "\n",
       "    .dataframe tbody tr th {\n",
       "        vertical-align: top;\n",
       "    }\n",
       "\n",
       "    .dataframe thead th {\n",
       "        text-align: right;\n",
       "    }\n",
       "</style>\n",
       "<table border=\"1\" class=\"dataframe\">\n",
       "  <thead>\n",
       "    <tr style=\"text-align: right;\">\n",
       "      <th></th>\n",
       "      <th>User-ID</th>\n",
       "      <th>Location</th>\n",
       "      <th>Age</th>\n",
       "    </tr>\n",
       "  </thead>\n",
       "  <tbody>\n",
       "    <tr>\n",
       "      <th>0</th>\n",
       "      <td>1</td>\n",
       "      <td>nyc, new york, usa</td>\n",
       "      <td>NaN</td>\n",
       "    </tr>\n",
       "    <tr>\n",
       "      <th>1</th>\n",
       "      <td>2</td>\n",
       "      <td>stockton, california, usa</td>\n",
       "      <td>18.0</td>\n",
       "    </tr>\n",
       "    <tr>\n",
       "      <th>2</th>\n",
       "      <td>3</td>\n",
       "      <td>moscow, yukon territory, russia</td>\n",
       "      <td>NaN</td>\n",
       "    </tr>\n",
       "    <tr>\n",
       "      <th>3</th>\n",
       "      <td>4</td>\n",
       "      <td>porto, v.n.gaia, portugal</td>\n",
       "      <td>17.0</td>\n",
       "    </tr>\n",
       "    <tr>\n",
       "      <th>4</th>\n",
       "      <td>5</td>\n",
       "      <td>farnborough, hants, united kingdom</td>\n",
       "      <td>NaN</td>\n",
       "    </tr>\n",
       "  </tbody>\n",
       "</table>\n",
       "</div>"
      ],
      "text/plain": [
       "   User-ID                            Location   Age\n",
       "0        1                  nyc, new york, usa   NaN\n",
       "1        2           stockton, california, usa  18.0\n",
       "2        3     moscow, yukon territory, russia   NaN\n",
       "3        4           porto, v.n.gaia, portugal  17.0\n",
       "4        5  farnborough, hants, united kingdom   NaN"
      ]
     },
     "execution_count": 196,
     "metadata": {},
     "output_type": "execute_result"
    }
   ],
   "source": [
    "users.head(5)"
   ]
  },
  {
   "cell_type": "code",
   "execution_count": 197,
   "id": "e00df559",
   "metadata": {},
   "outputs": [
    {
     "name": "stdout",
     "output_type": "stream",
     "text": [
      "Number of rows:   278858\n",
      "Number of columns :  3\n"
     ]
    }
   ],
   "source": [
    "print (\"Number of rows:  \", users.shape[0])\n",
    "print(\"Number of columns : \", users.shape[1])"
   ]
  },
  {
   "cell_type": "markdown",
   "id": "710a282f",
   "metadata": {},
   "source": [
    "Here, we are summarizing the users list of features with their datatypes and non-Null values counts\n",
    "\n",
    "- noticing the summary, we find that the Age feature has lots of Null values"
   ]
  },
  {
   "cell_type": "code",
   "execution_count": 198,
   "id": "52fee06f",
   "metadata": {},
   "outputs": [
    {
     "name": "stdout",
     "output_type": "stream",
     "text": [
      "<class 'pandas.core.frame.DataFrame'>\n",
      "RangeIndex: 278858 entries, 0 to 278857\n",
      "Data columns (total 3 columns):\n",
      " #   Column    Non-Null Count   Dtype  \n",
      "---  ------    --------------   -----  \n",
      " 0   User-ID   278858 non-null  int64  \n",
      " 1   Location  278858 non-null  object \n",
      " 2   Age       168096 non-null  float64\n",
      "dtypes: float64(1), int64(1), object(1)\n",
      "memory usage: 6.4+ MB\n"
     ]
    }
   ],
   "source": [
    "users.info()"
   ]
  },
  {
   "cell_type": "code",
   "execution_count": 199,
   "id": "841f47fe",
   "metadata": {},
   "outputs": [
    {
     "data": {
      "text/plain": [
       "110762"
      ]
     },
     "execution_count": 199,
     "metadata": {},
     "output_type": "execute_result"
    }
   ],
   "source": [
    "# retrieving the number of null ages\n",
    "users['Age'].isnull().sum()"
   ]
  },
  {
   "cell_type": "code",
   "execution_count": 200,
   "id": "d461f5a6",
   "metadata": {},
   "outputs": [
    {
     "data": {
      "image/png": "[encoded data removed]",
      "text/plain": [
       "<Figure size 720x432 with 1 Axes>"
      ]
     },
     "metadata": {
      "needs_background": "light"
     },
     "output_type": "display_data"
    }
   ],
   "source": [
    "plt.figure(figsize=(10, 6))\n",
    "plt.hist(users['Age'], bins=50, edgecolor='k', alpha=0.7)\n",
    "plt.title('User Age Distribution')\n",
    "plt.xlabel('Age')\n",
    "plt.ylabel('Frequency')\n",
    "plt.grid(True)\n",
    "plt.show()"
   ]
  },
  {
   "cell_type": "markdown",
   "id": "31445e3d",
   "metadata": {},
   "source": [
    "Noticing the plot, we find:\n",
    "- Some ages are zero while some of them are above 120, which indicates errornous data!"
   ]
  },
  {
   "cell_type": "code",
   "execution_count": 201,
   "id": "0d022c51",
   "metadata": {},
   "outputs": [
    {
     "data": {
      "text/plain": [
       "(78, 3)"
      ]
     },
     "execution_count": 201,
     "metadata": {},
     "output_type": "execute_result"
    }
   ],
   "source": [
    "# Create a new DataFrame containing users with ages larger than 120\n",
    "users_above_120 = users[users['Age'] > 120]\n",
    "users_above_120.shape\n",
    "# We have 78 users that have errornous age value(may we need to drop them ,because they are minority)"
   ]
  },
  {
   "cell_type": "code",
   "execution_count": 202,
   "id": "f5a3a088",
   "metadata": {},
   "outputs": [
    {
     "data": {
      "text/html": [
       "<div>\n",
       "<style scoped>\n",
       "    .dataframe tbody tr th:only-of-type {\n",
       "        vertical-align: middle;\n",
       "    }\n",
       "\n",
       "    .dataframe tbody tr th {\n",
       "        vertical-align: top;\n",
       "    }\n",
       "\n",
       "    .dataframe thead th {\n",
       "        text-align: right;\n",
       "    }\n",
       "</style>\n",
       "<table border=\"1\" class=\"dataframe\">\n",
       "  <thead>\n",
       "    <tr style=\"text-align: right;\">\n",
       "      <th></th>\n",
       "      <th>Age</th>\n",
       "      <th>Count</th>\n",
       "    </tr>\n",
       "  </thead>\n",
       "  <tbody>\n",
       "    <tr>\n",
       "      <th>24</th>\n",
       "      <td>24.0</td>\n",
       "      <td>5687</td>\n",
       "    </tr>\n",
       "  </tbody>\n",
       "</table>\n",
       "</div>"
      ],
      "text/plain": [
       "     Age  Count\n",
       "24  24.0   5687"
      ]
     },
     "execution_count": 202,
     "metadata": {},
     "output_type": "execute_result"
    }
   ],
   "source": [
    "users_ages_group = users.groupby(['Age']).size().reset_index(name='Count')\n",
    "common_age = users_ages_group['Count'].max()\n",
    "most_common_age = users_ages_group[users_ages_group['Count'] == common_age]\n",
    "most_common_age"
   ]
  },
  {
   "cell_type": "markdown",
   "id": "080e3b78",
   "metadata": {},
   "source": [
    "We find that most users are at the age of 24"
   ]
  },
  {
   "cell_type": "code",
   "execution_count": 203,
   "id": "940b4d7a",
   "metadata": {},
   "outputs": [
    {
     "data": {
      "text/html": [
       "<div>\n",
       "<style scoped>\n",
       "    .dataframe tbody tr th:only-of-type {\n",
       "        vertical-align: middle;\n",
       "    }\n",
       "\n",
       "    .dataframe tbody tr th {\n",
       "        vertical-align: top;\n",
       "    }\n",
       "\n",
       "    .dataframe thead th {\n",
       "        text-align: right;\n",
       "    }\n",
       "</style>\n",
       "<table border=\"1\" class=\"dataframe\">\n",
       "  <thead>\n",
       "    <tr style=\"text-align: right;\">\n",
       "      <th></th>\n",
       "      <th>Age</th>\n",
       "      <th>Count</th>\n",
       "    </tr>\n",
       "  </thead>\n",
       "  <tbody>\n",
       "    <tr>\n",
       "      <th>95</th>\n",
       "      <td>95.0</td>\n",
       "      <td>1</td>\n",
       "    </tr>\n",
       "    <tr>\n",
       "      <th>107</th>\n",
       "      <td>107.0</td>\n",
       "      <td>1</td>\n",
       "    </tr>\n",
       "    <tr>\n",
       "      <th>109</th>\n",
       "      <td>109.0</td>\n",
       "      <td>1</td>\n",
       "    </tr>\n",
       "    <tr>\n",
       "      <th>110</th>\n",
       "      <td>110.0</td>\n",
       "      <td>1</td>\n",
       "    </tr>\n",
       "    <tr>\n",
       "      <th>111</th>\n",
       "      <td>111.0</td>\n",
       "      <td>1</td>\n",
       "    </tr>\n",
       "    <tr>\n",
       "      <th>116</th>\n",
       "      <td>118.0</td>\n",
       "      <td>1</td>\n",
       "    </tr>\n",
       "    <tr>\n",
       "      <th>117</th>\n",
       "      <td>119.0</td>\n",
       "      <td>1</td>\n",
       "    </tr>\n",
       "    <tr>\n",
       "      <th>120</th>\n",
       "      <td>127.0</td>\n",
       "      <td>1</td>\n",
       "    </tr>\n",
       "    <tr>\n",
       "      <th>121</th>\n",
       "      <td>128.0</td>\n",
       "      <td>1</td>\n",
       "    </tr>\n",
       "    <tr>\n",
       "      <th>122</th>\n",
       "      <td>132.0</td>\n",
       "      <td>1</td>\n",
       "    </tr>\n",
       "    <tr>\n",
       "      <th>125</th>\n",
       "      <td>137.0</td>\n",
       "      <td>1</td>\n",
       "    </tr>\n",
       "    <tr>\n",
       "      <th>126</th>\n",
       "      <td>138.0</td>\n",
       "      <td>1</td>\n",
       "    </tr>\n",
       "    <tr>\n",
       "      <th>127</th>\n",
       "      <td>140.0</td>\n",
       "      <td>1</td>\n",
       "    </tr>\n",
       "    <tr>\n",
       "      <th>129</th>\n",
       "      <td>143.0</td>\n",
       "      <td>1</td>\n",
       "    </tr>\n",
       "    <tr>\n",
       "      <th>130</th>\n",
       "      <td>146.0</td>\n",
       "      <td>1</td>\n",
       "    </tr>\n",
       "    <tr>\n",
       "      <th>134</th>\n",
       "      <td>152.0</td>\n",
       "      <td>1</td>\n",
       "    </tr>\n",
       "    <tr>\n",
       "      <th>135</th>\n",
       "      <td>156.0</td>\n",
       "      <td>1</td>\n",
       "    </tr>\n",
       "    <tr>\n",
       "      <th>136</th>\n",
       "      <td>157.0</td>\n",
       "      <td>1</td>\n",
       "    </tr>\n",
       "    <tr>\n",
       "      <th>137</th>\n",
       "      <td>159.0</td>\n",
       "      <td>1</td>\n",
       "    </tr>\n",
       "    <tr>\n",
       "      <th>138</th>\n",
       "      <td>162.0</td>\n",
       "      <td>1</td>\n",
       "    </tr>\n",
       "    <tr>\n",
       "      <th>139</th>\n",
       "      <td>168.0</td>\n",
       "      <td>1</td>\n",
       "    </tr>\n",
       "    <tr>\n",
       "      <th>140</th>\n",
       "      <td>172.0</td>\n",
       "      <td>1</td>\n",
       "    </tr>\n",
       "    <tr>\n",
       "      <th>141</th>\n",
       "      <td>175.0</td>\n",
       "      <td>1</td>\n",
       "    </tr>\n",
       "    <tr>\n",
       "      <th>142</th>\n",
       "      <td>183.0</td>\n",
       "      <td>1</td>\n",
       "    </tr>\n",
       "    <tr>\n",
       "      <th>143</th>\n",
       "      <td>186.0</td>\n",
       "      <td>1</td>\n",
       "    </tr>\n",
       "    <tr>\n",
       "      <th>144</th>\n",
       "      <td>189.0</td>\n",
       "      <td>1</td>\n",
       "    </tr>\n",
       "    <tr>\n",
       "      <th>147</th>\n",
       "      <td>201.0</td>\n",
       "      <td>1</td>\n",
       "    </tr>\n",
       "    <tr>\n",
       "      <th>149</th>\n",
       "      <td>207.0</td>\n",
       "      <td>1</td>\n",
       "    </tr>\n",
       "    <tr>\n",
       "      <th>150</th>\n",
       "      <td>208.0</td>\n",
       "      <td>1</td>\n",
       "    </tr>\n",
       "    <tr>\n",
       "      <th>153</th>\n",
       "      <td>212.0</td>\n",
       "      <td>1</td>\n",
       "    </tr>\n",
       "    <tr>\n",
       "      <th>154</th>\n",
       "      <td>219.0</td>\n",
       "      <td>1</td>\n",
       "    </tr>\n",
       "    <tr>\n",
       "      <th>155</th>\n",
       "      <td>220.0</td>\n",
       "      <td>1</td>\n",
       "    </tr>\n",
       "    <tr>\n",
       "      <th>156</th>\n",
       "      <td>223.0</td>\n",
       "      <td>1</td>\n",
       "    </tr>\n",
       "    <tr>\n",
       "      <th>157</th>\n",
       "      <td>226.0</td>\n",
       "      <td>1</td>\n",
       "    </tr>\n",
       "    <tr>\n",
       "      <th>159</th>\n",
       "      <td>229.0</td>\n",
       "      <td>1</td>\n",
       "    </tr>\n",
       "    <tr>\n",
       "      <th>160</th>\n",
       "      <td>230.0</td>\n",
       "      <td>1</td>\n",
       "    </tr>\n",
       "    <tr>\n",
       "      <th>161</th>\n",
       "      <td>231.0</td>\n",
       "      <td>1</td>\n",
       "    </tr>\n",
       "    <tr>\n",
       "      <th>162</th>\n",
       "      <td>237.0</td>\n",
       "      <td>1</td>\n",
       "    </tr>\n",
       "    <tr>\n",
       "      <th>163</th>\n",
       "      <td>239.0</td>\n",
       "      <td>1</td>\n",
       "    </tr>\n",
       "    <tr>\n",
       "      <th>164</th>\n",
       "      <td>244.0</td>\n",
       "      <td>1</td>\n",
       "    </tr>\n",
       "  </tbody>\n",
       "</table>\n",
       "</div>"
      ],
      "text/plain": [
       "       Age  Count\n",
       "95    95.0      1\n",
       "107  107.0      1\n",
       "109  109.0      1\n",
       "110  110.0      1\n",
       "111  111.0      1\n",
       "116  118.0      1\n",
       "117  119.0      1\n",
       "120  127.0      1\n",
       "121  128.0      1\n",
       "122  132.0      1\n",
       "125  137.0      1\n",
       "126  138.0      1\n",
       "127  140.0      1\n",
       "129  143.0      1\n",
       "130  146.0      1\n",
       "134  152.0      1\n",
       "135  156.0      1\n",
       "136  157.0      1\n",
       "137  159.0      1\n",
       "138  162.0      1\n",
       "139  168.0      1\n",
       "140  172.0      1\n",
       "141  175.0      1\n",
       "142  183.0      1\n",
       "143  186.0      1\n",
       "144  189.0      1\n",
       "147  201.0      1\n",
       "149  207.0      1\n",
       "150  208.0      1\n",
       "153  212.0      1\n",
       "154  219.0      1\n",
       "155  220.0      1\n",
       "156  223.0      1\n",
       "157  226.0      1\n",
       "159  229.0      1\n",
       "160  230.0      1\n",
       "161  231.0      1\n",
       "162  237.0      1\n",
       "163  239.0      1\n",
       "164  244.0      1"
      ]
     },
     "execution_count": 203,
     "metadata": {},
     "output_type": "execute_result"
    }
   ],
   "source": [
    "least_common_age = users_ages_group[users_ages_group['Count'] == 1]\n",
    "least_common_age"
   ]
  },
  {
   "cell_type": "markdown",
   "id": "4beec364",
   "metadata": {},
   "source": [
    "We can find that Age column has lots of missing values and errornous ones . So we decided to drop it"
   ]
  },
  {
   "cell_type": "code",
   "execution_count": 204,
   "id": "fe0775e1",
   "metadata": {},
   "outputs": [],
   "source": [
    "users.drop('Age', axis=1, inplace=True)"
   ]
  },
  {
   "cell_type": "markdown",
   "id": "d2fc4ce3",
   "metadata": {},
   "source": [
    "#### Reading Ratings data"
   ]
  },
  {
   "cell_type": "code",
   "execution_count": 205,
   "id": "ee31e8f5",
   "metadata": {},
   "outputs": [
    {
     "name": "stderr",
     "output_type": "stream",
     "text": [
      "C:\\Users\\HP\\AppData\\Local\\Temp\\ipykernel_20192\\1265045936.py:2: FutureWarning: The error_bad_lines argument has been deprecated and will be removed in a future version. Use on_bad_lines in the future.\n",
      "\n",
      "\n",
      "  ratings = pd.read_csv(\"../Dataset/BX-Book-Ratings.csv\", sep=\";\", error_bad_lines=False,encoding=\"latin-1\" )\n"
     ]
    }
   ],
   "source": [
    "# reading ratings data\n",
    "ratings = pd.read_csv(\"../Dataset/BX-Book-Ratings.csv\", sep=\";\", error_bad_lines=False,encoding=\"latin-1\" )"
   ]
  },
  {
   "cell_type": "code",
   "execution_count": 232,
   "id": "f3ed9282",
   "metadata": {},
   "outputs": [
    {
     "data": {
      "text/html": [
       "<div>\n",
       "<style scoped>\n",
       "    .dataframe tbody tr th:only-of-type {\n",
       "        vertical-align: middle;\n",
       "    }\n",
       "\n",
       "    .dataframe tbody tr th {\n",
       "        vertical-align: top;\n",
       "    }\n",
       "\n",
       "    .dataframe thead th {\n",
       "        text-align: right;\n",
       "    }\n",
       "</style>\n",
       "<table border=\"1\" class=\"dataframe\">\n",
       "  <thead>\n",
       "    <tr style=\"text-align: right;\">\n",
       "      <th></th>\n",
       "      <th>user_id</th>\n",
       "      <th>ISBN</th>\n",
       "      <th>rating</th>\n",
       "    </tr>\n",
       "  </thead>\n",
       "  <tbody>\n",
       "    <tr>\n",
       "      <th>0</th>\n",
       "      <td>276725</td>\n",
       "      <td>034545104X</td>\n",
       "      <td>0</td>\n",
       "    </tr>\n",
       "    <tr>\n",
       "      <th>1</th>\n",
       "      <td>276726</td>\n",
       "      <td>0155061224</td>\n",
       "      <td>5</td>\n",
       "    </tr>\n",
       "    <tr>\n",
       "      <th>2</th>\n",
       "      <td>276727</td>\n",
       "      <td>0446520802</td>\n",
       "      <td>0</td>\n",
       "    </tr>\n",
       "    <tr>\n",
       "      <th>3</th>\n",
       "      <td>276729</td>\n",
       "      <td>052165615X</td>\n",
       "      <td>3</td>\n",
       "    </tr>\n",
       "    <tr>\n",
       "      <th>4</th>\n",
       "      <td>276729</td>\n",
       "      <td>0521795028</td>\n",
       "      <td>6</td>\n",
       "    </tr>\n",
       "  </tbody>\n",
       "</table>\n",
       "</div>"
      ],
      "text/plain": [
       "   user_id        ISBN  rating\n",
       "0   276725  034545104X       0\n",
       "1   276726  0155061224       5\n",
       "2   276727  0446520802       0\n",
       "3   276729  052165615X       3\n",
       "4   276729  0521795028       6"
      ]
     },
     "execution_count": 232,
     "metadata": {},
     "output_type": "execute_result"
    }
   ],
   "source": [
    "ratings.head(5)"
   ]
  },
  {
   "cell_type": "code",
   "execution_count": 233,
   "id": "cc765e54",
   "metadata": {},
   "outputs": [
    {
     "name": "stdout",
     "output_type": "stream",
     "text": [
      "Number of reviews:  1149780\n",
      "Number of features:  3\n"
     ]
    }
   ],
   "source": [
    "print(\"Number of reviews: \" , ratings.shape[0])\n",
    "print(\"Number of features: \", ratings.shape[1])"
   ]
  },
  {
   "cell_type": "code",
   "execution_count": 234,
   "id": "478c73a6",
   "metadata": {
    "scrolled": true
   },
   "outputs": [
    {
     "name": "stdout",
     "output_type": "stream",
     "text": [
      "<class 'pandas.core.frame.DataFrame'>\n",
      "RangeIndex: 1149780 entries, 0 to 1149779\n",
      "Data columns (total 3 columns):\n",
      " #   Column   Non-Null Count    Dtype \n",
      "---  ------   --------------    ----- \n",
      " 0   user_id  1149780 non-null  int64 \n",
      " 1   ISBN     1149780 non-null  object\n",
      " 2   rating   1149780 non-null  int64 \n",
      "dtypes: int64(2), object(1)\n",
      "memory usage: 26.3+ MB\n"
     ]
    }
   ],
   "source": [
    "ratings.info()"
   ]
  },
  {
   "cell_type": "markdown",
   "id": "b243845e",
   "metadata": {},
   "source": [
    "Noticing the above results of features info summary, no missing values are existed."
   ]
  },
  {
   "cell_type": "code",
   "execution_count": 235,
   "id": "75c74989",
   "metadata": {},
   "outputs": [
    {
     "data": {
      "text/plain": [
       "user_id    0\n",
       "ISBN       0\n",
       "rating     0\n",
       "dtype: int64"
      ]
     },
     "execution_count": 235,
     "metadata": {},
     "output_type": "execute_result"
    }
   ],
   "source": [
    "ratings.isnull().sum()"
   ]
  },
  {
   "cell_type": "code",
   "execution_count": 236,
   "id": "2c080668",
   "metadata": {},
   "outputs": [
    {
     "name": "stdout",
     "output_type": "stream",
     "text": [
      "Books shape is:  (271360, 6)\n",
      "Users shape is:  (278858, 2)\n",
      "Ratings shape is: (1149780, 3)\n"
     ]
    }
   ],
   "source": [
    "print(\"Books shape is: \", books.shape)\n",
    "print(\"Users shape is: \", users.shape)\n",
    "print(\"Ratings shape is:\",ratings.shape)"
   ]
  },
  {
   "cell_type": "markdown",
   "id": "bf2cc50f",
   "metadata": {},
   "source": [
    "The varying shapes of the three datasets indicate differences in the number of unique books, users, and recorded ratings.  These differences in data volume may lead to varying coverage for different books and users, potentially affecting recommendation system performance and analysis outcomes."
   ]
  },
  {
   "cell_type": "markdown",
   "id": "e1b8b58e",
   "metadata": {},
   "source": [
    "#### Renaming ratings columns "
   ]
  },
  {
   "cell_type": "code",
   "execution_count": 237,
   "id": "28d1b183",
   "metadata": {},
   "outputs": [
    {
     "data": {
      "text/html": [
       "<div>\n",
       "<style scoped>\n",
       "    .dataframe tbody tr th:only-of-type {\n",
       "        vertical-align: middle;\n",
       "    }\n",
       "\n",
       "    .dataframe tbody tr th {\n",
       "        vertical-align: top;\n",
       "    }\n",
       "\n",
       "    .dataframe thead th {\n",
       "        text-align: right;\n",
       "    }\n",
       "</style>\n",
       "<table border=\"1\" class=\"dataframe\">\n",
       "  <thead>\n",
       "    <tr style=\"text-align: right;\">\n",
       "      <th></th>\n",
       "      <th>user_id</th>\n",
       "      <th>ISBN</th>\n",
       "      <th>rating</th>\n",
       "    </tr>\n",
       "  </thead>\n",
       "  <tbody>\n",
       "    <tr>\n",
       "      <th>0</th>\n",
       "      <td>276725</td>\n",
       "      <td>034545104X</td>\n",
       "      <td>0</td>\n",
       "    </tr>\n",
       "    <tr>\n",
       "      <th>1</th>\n",
       "      <td>276726</td>\n",
       "      <td>0155061224</td>\n",
       "      <td>5</td>\n",
       "    </tr>\n",
       "    <tr>\n",
       "      <th>2</th>\n",
       "      <td>276727</td>\n",
       "      <td>0446520802</td>\n",
       "      <td>0</td>\n",
       "    </tr>\n",
       "    <tr>\n",
       "      <th>3</th>\n",
       "      <td>276729</td>\n",
       "      <td>052165615X</td>\n",
       "      <td>3</td>\n",
       "    </tr>\n",
       "    <tr>\n",
       "      <th>4</th>\n",
       "      <td>276729</td>\n",
       "      <td>0521795028</td>\n",
       "      <td>6</td>\n",
       "    </tr>\n",
       "  </tbody>\n",
       "</table>\n",
       "</div>"
      ],
      "text/plain": [
       "   user_id        ISBN  rating\n",
       "0   276725  034545104X       0\n",
       "1   276726  0155061224       5\n",
       "2   276727  0446520802       0\n",
       "3   276729  052165615X       3\n",
       "4   276729  0521795028       6"
      ]
     },
     "execution_count": 237,
     "metadata": {},
     "output_type": "execute_result"
    }
   ],
   "source": [
    "ratings.rename(columns= {\n",
    "    \"User-ID\": \"user_id\" ,\n",
    "    \"Book-Rating\": \"rating\" \n",
    "}, inplace=True)\n",
    "ratings.head(5)"
   ]
  },
  {
   "cell_type": "markdown",
   "id": "fb2282da",
   "metadata": {},
   "source": [
    "Given the distinct shapes of the three datasets, our initial exploration involves identifying the unique number of users who have provided ratings for one or more books in the dataset."
   ]
  },
  {
   "cell_type": "code",
   "execution_count": 238,
   "id": "cc2121b4",
   "metadata": {},
   "outputs": [
    {
     "name": "stdout",
     "output_type": "stream",
     "text": [
      "The number of unique users is : (105283,)\n",
      "The number of reviews is : (1149780, 3)\n"
     ]
    }
   ],
   "source": [
    "# number of unique users/reviewers\n",
    "print('The number of unique users is :',ratings['user_id'].unique().shape)\n",
    "print('The number of reviews is :',ratings.shape)"
   ]
  },
  {
   "cell_type": "markdown",
   "id": "f437450c",
   "metadata": {},
   "source": [
    "So according to the results about 105283 users have given one or more ratings "
   ]
  },
  {
   "cell_type": "markdown",
   "id": "c89309e9",
   "metadata": {},
   "source": [
    "<b> Here, we are finding the number of ratings given by each user </b>"
   ]
  },
  {
   "cell_type": "code",
   "execution_count": 239,
   "id": "d48080ec",
   "metadata": {},
   "outputs": [
    {
     "data": {
      "text/html": [
       "<div>\n",
       "<style scoped>\n",
       "    .dataframe tbody tr th:only-of-type {\n",
       "        vertical-align: middle;\n",
       "    }\n",
       "\n",
       "    .dataframe tbody tr th {\n",
       "        vertical-align: top;\n",
       "    }\n",
       "\n",
       "    .dataframe thead th {\n",
       "        text-align: right;\n",
       "    }\n",
       "</style>\n",
       "<table border=\"1\" class=\"dataframe\">\n",
       "  <thead>\n",
       "    <tr style=\"text-align: right;\">\n",
       "      <th></th>\n",
       "      <th>index</th>\n",
       "      <th>Reviews_per_user</th>\n",
       "    </tr>\n",
       "  </thead>\n",
       "  <tbody>\n",
       "    <tr>\n",
       "      <th>0</th>\n",
       "      <td>11676</td>\n",
       "      <td>13602</td>\n",
       "    </tr>\n",
       "    <tr>\n",
       "      <th>1</th>\n",
       "      <td>198711</td>\n",
       "      <td>7550</td>\n",
       "    </tr>\n",
       "    <tr>\n",
       "      <th>2</th>\n",
       "      <td>153662</td>\n",
       "      <td>6109</td>\n",
       "    </tr>\n",
       "    <tr>\n",
       "      <th>3</th>\n",
       "      <td>98391</td>\n",
       "      <td>5891</td>\n",
       "    </tr>\n",
       "    <tr>\n",
       "      <th>4</th>\n",
       "      <td>35859</td>\n",
       "      <td>5850</td>\n",
       "    </tr>\n",
       "    <tr>\n",
       "      <th>...</th>\n",
       "      <td>...</td>\n",
       "      <td>...</td>\n",
       "    </tr>\n",
       "    <tr>\n",
       "      <th>105278</th>\n",
       "      <td>116180</td>\n",
       "      <td>1</td>\n",
       "    </tr>\n",
       "    <tr>\n",
       "      <th>105279</th>\n",
       "      <td>116166</td>\n",
       "      <td>1</td>\n",
       "    </tr>\n",
       "    <tr>\n",
       "      <th>105280</th>\n",
       "      <td>116154</td>\n",
       "      <td>1</td>\n",
       "    </tr>\n",
       "    <tr>\n",
       "      <th>105281</th>\n",
       "      <td>116137</td>\n",
       "      <td>1</td>\n",
       "    </tr>\n",
       "    <tr>\n",
       "      <th>105282</th>\n",
       "      <td>276723</td>\n",
       "      <td>1</td>\n",
       "    </tr>\n",
       "  </tbody>\n",
       "</table>\n",
       "<p>105283 rows × 2 columns</p>\n",
       "</div>"
      ],
      "text/plain": [
       "         index  Reviews_per_user\n",
       "0        11676             13602\n",
       "1       198711              7550\n",
       "2       153662              6109\n",
       "3        98391              5891\n",
       "4        35859              5850\n",
       "...        ...               ...\n",
       "105278  116180                 1\n",
       "105279  116166                 1\n",
       "105280  116154                 1\n",
       "105281  116137                 1\n",
       "105282  276723                 1\n",
       "\n",
       "[105283 rows x 2 columns]"
      ]
     },
     "execution_count": 239,
     "metadata": {},
     "output_type": "execute_result"
    }
   ],
   "source": [
    "ratings['user_id'].value_counts().reset_index(name=\"Reviews_per_user\")"
   ]
  },
  {
   "cell_type": "code",
   "execution_count": 240,
   "id": "dd87ebf2",
   "metadata": {},
   "outputs": [
    {
     "data": {
      "text/plain": [
       "count    105283.000000\n",
       "mean         10.920851\n",
       "std          90.562825\n",
       "min           1.000000\n",
       "25%           1.000000\n",
       "50%           1.000000\n",
       "75%           4.000000\n",
       "max       13602.000000\n",
       "Name: user_id, dtype: float64"
      ]
     },
     "execution_count": 240,
     "metadata": {},
     "output_type": "execute_result"
    }
   ],
   "source": [
    "ratings_per_user=ratings['user_id'].value_counts()\n",
    "ratings_per_user.describe()"
   ]
  },
  {
   "cell_type": "markdown",
   "id": "a30ecb2a",
   "metadata": {},
   "source": [
    "The dataset appears to have a highly skewed distribution, with a vast majority of values clustered around 1, that may incidates that the majority of users are new ones or not active users. But a few extreme  values as high as 13,602, suggesting potential data anomalies or unique cases that warrant further examination.\n",
    "\n",
    "So, here we are trying to investigate more in this."
   ]
  },
  {
   "cell_type": "code",
   "execution_count": 241,
   "id": "1d0a4778",
   "metadata": {},
   "outputs": [
    {
     "data": {
      "text/plain": [
       "False    101912\n",
       "True       3371\n",
       "Name: user_id, dtype: int64"
      ]
     },
     "execution_count": 241,
     "metadata": {},
     "output_type": "execute_result"
    }
   ],
   "source": [
    "users_of_more_50_reviews = ratings['user_id'].value_counts() > 50\n",
    "users_of_more_50_reviews.value_counts()"
   ]
  },
  {
   "cell_type": "code",
   "execution_count": 242,
   "id": "c356d879",
   "metadata": {},
   "outputs": [
    {
     "data": {
      "text/plain": [
       "False    104384\n",
       "True        899\n",
       "Name: user_id, dtype: int64"
      ]
     },
     "execution_count": 242,
     "metadata": {},
     "output_type": "execute_result"
    }
   ],
   "source": [
    "users_of_more_200_reviews = ratings['user_id'].value_counts() > 200\n",
    "users_of_more_200_reviews.value_counts()"
   ]
  },
  {
   "cell_type": "code",
   "execution_count": 243,
   "id": "ba8cb0e4",
   "metadata": {},
   "outputs": [
    {
     "data": {
      "text/plain": [
       "False    104996\n",
       "True        287\n",
       "Name: user_id, dtype: int64"
      ]
     },
     "execution_count": 243,
     "metadata": {},
     "output_type": "execute_result"
    }
   ],
   "source": [
    "users_of_more_500_reviews = ratings['user_id'].value_counts() > 500\n",
    "users_of_more_500_reviews.value_counts()"
   ]
  },
  {
   "cell_type": "code",
   "execution_count": 244,
   "id": "ceac2edd",
   "metadata": {},
   "outputs": [
    {
     "data": {
      "text/plain": [
       "True     104378\n",
       "False       905\n",
       "Name: user_id, dtype: int64"
      ]
     },
     "execution_count": 244,
     "metadata": {},
     "output_type": "execute_result"
    }
   ],
   "source": [
    "users_of_less_200_reviews = ratings['user_id'].value_counts() <200\n",
    "users_of_less_200_reviews.value_counts()"
   ]
  },
  {
   "cell_type": "markdown",
   "id": "59ca120c",
   "metadata": {},
   "source": [
    "We decided not to drop the users with low numbers of reviews, as they might be new ones."
   ]
  },
  {
   "cell_type": "code",
   "execution_count": 245,
   "id": "216b7b29",
   "metadata": {},
   "outputs": [
    {
     "data": {
      "text/plain": [
       "(1149780, 3)"
      ]
     },
     "execution_count": 245,
     "metadata": {},
     "output_type": "execute_result"
    }
   ],
   "source": [
    "ratings.shape"
   ]
  },
  {
   "cell_type": "markdown",
   "id": "1d072d68",
   "metadata": {},
   "source": [
    "Here, we are joining books and ratings tables based on ISBN feature."
   ]
  },
  {
   "cell_type": "code",
   "execution_count": 246,
   "id": "aa712a2b",
   "metadata": {},
   "outputs": [
    {
     "data": {
      "text/html": [
       "<div>\n",
       "<style scoped>\n",
       "    .dataframe tbody tr th:only-of-type {\n",
       "        vertical-align: middle;\n",
       "    }\n",
       "\n",
       "    .dataframe tbody tr th {\n",
       "        vertical-align: top;\n",
       "    }\n",
       "\n",
       "    .dataframe thead th {\n",
       "        text-align: right;\n",
       "    }\n",
       "</style>\n",
       "<table border=\"1\" class=\"dataframe\">\n",
       "  <thead>\n",
       "    <tr style=\"text-align: right;\">\n",
       "      <th></th>\n",
       "      <th>user_id</th>\n",
       "      <th>ISBN</th>\n",
       "      <th>rating</th>\n",
       "      <th>title</th>\n",
       "      <th>author</th>\n",
       "      <th>year</th>\n",
       "      <th>publisher</th>\n",
       "      <th>img_url</th>\n",
       "    </tr>\n",
       "  </thead>\n",
       "  <tbody>\n",
       "    <tr>\n",
       "      <th>0</th>\n",
       "      <td>276725</td>\n",
       "      <td>034545104X</td>\n",
       "      <td>0</td>\n",
       "      <td>Flesh Tones: A Novel</td>\n",
       "      <td>M. J. Rose</td>\n",
       "      <td>2002</td>\n",
       "      <td>Ballantine Books</td>\n",
       "      <td>http://images.amazon.com/images/P/034545104X.0...</td>\n",
       "    </tr>\n",
       "    <tr>\n",
       "      <th>1</th>\n",
       "      <td>2313</td>\n",
       "      <td>034545104X</td>\n",
       "      <td>5</td>\n",
       "      <td>Flesh Tones: A Novel</td>\n",
       "      <td>M. J. Rose</td>\n",
       "      <td>2002</td>\n",
       "      <td>Ballantine Books</td>\n",
       "      <td>http://images.amazon.com/images/P/034545104X.0...</td>\n",
       "    </tr>\n",
       "    <tr>\n",
       "      <th>2</th>\n",
       "      <td>6543</td>\n",
       "      <td>034545104X</td>\n",
       "      <td>0</td>\n",
       "      <td>Flesh Tones: A Novel</td>\n",
       "      <td>M. J. Rose</td>\n",
       "      <td>2002</td>\n",
       "      <td>Ballantine Books</td>\n",
       "      <td>http://images.amazon.com/images/P/034545104X.0...</td>\n",
       "    </tr>\n",
       "  </tbody>\n",
       "</table>\n",
       "</div>"
      ],
      "text/plain": [
       "   user_id        ISBN  rating                 title      author  year  \\\n",
       "0   276725  034545104X       0  Flesh Tones: A Novel  M. J. Rose  2002   \n",
       "1     2313  034545104X       5  Flesh Tones: A Novel  M. J. Rose  2002   \n",
       "2     6543  034545104X       0  Flesh Tones: A Novel  M. J. Rose  2002   \n",
       "\n",
       "          publisher                                            img_url  \n",
       "0  Ballantine Books  http://images.amazon.com/images/P/034545104X.0...  \n",
       "1  Ballantine Books  http://images.amazon.com/images/P/034545104X.0...  \n",
       "2  Ballantine Books  http://images.amazon.com/images/P/034545104X.0...  "
      ]
     },
     "execution_count": 246,
     "metadata": {},
     "output_type": "execute_result"
    }
   ],
   "source": [
    "ratings_with_books = ratings.merge(books, on = \"ISBN\")\n",
    "ratings_with_books.head(3)"
   ]
  },
  {
   "cell_type": "code",
   "execution_count": 247,
   "id": "13f13be2",
   "metadata": {},
   "outputs": [
    {
     "data": {
      "text/plain": [
       "(1031136, 8)"
      ]
     },
     "execution_count": 247,
     "metadata": {},
     "output_type": "execute_result"
    }
   ],
   "source": [
    "ratings_with_books.shape"
   ]
  },
  {
   "cell_type": "markdown",
   "id": "851c0821",
   "metadata": {},
   "source": [
    "We are categorizing the given ratings by the book title, then finding the number of ratings are given for each book.\n",
    "This can leads to have more insights about the popularity and engagement level of different books, facilitating tasks like identifying bestsellers and user preferences analysis."
   ]
  },
  {
   "cell_type": "code",
   "execution_count": 248,
   "id": "44c201f6",
   "metadata": {},
   "outputs": [],
   "source": [
    "# categorizing ratings by title and counting the number of ratings for each book\n",
    "num_rating = ratings_with_books.groupby('title')['rating'].count().reset_index()"
   ]
  },
  {
   "cell_type": "code",
   "execution_count": 249,
   "id": "b02f4668",
   "metadata": {},
   "outputs": [
    {
     "data": {
      "text/html": [
       "<div>\n",
       "<style scoped>\n",
       "    .dataframe tbody tr th:only-of-type {\n",
       "        vertical-align: middle;\n",
       "    }\n",
       "\n",
       "    .dataframe tbody tr th {\n",
       "        vertical-align: top;\n",
       "    }\n",
       "\n",
       "    .dataframe thead th {\n",
       "        text-align: right;\n",
       "    }\n",
       "</style>\n",
       "<table border=\"1\" class=\"dataframe\">\n",
       "  <thead>\n",
       "    <tr style=\"text-align: right;\">\n",
       "      <th></th>\n",
       "      <th>title</th>\n",
       "      <th>rating</th>\n",
       "    </tr>\n",
       "  </thead>\n",
       "  <tbody>\n",
       "    <tr>\n",
       "      <th>0</th>\n",
       "      <td>A Light in the Storm: The Civil War Diary of ...</td>\n",
       "      <td>4</td>\n",
       "    </tr>\n",
       "    <tr>\n",
       "      <th>1</th>\n",
       "      <td>Always Have Popsicles</td>\n",
       "      <td>1</td>\n",
       "    </tr>\n",
       "    <tr>\n",
       "      <th>2</th>\n",
       "      <td>Apple Magic (The Collector's series)</td>\n",
       "      <td>1</td>\n",
       "    </tr>\n",
       "    <tr>\n",
       "      <th>3</th>\n",
       "      <td>Ask Lily (Young Women of Faith: Lily Series, ...</td>\n",
       "      <td>1</td>\n",
       "    </tr>\n",
       "    <tr>\n",
       "      <th>4</th>\n",
       "      <td>Beyond IBM: Leadership Marketing and Finance ...</td>\n",
       "      <td>1</td>\n",
       "    </tr>\n",
       "  </tbody>\n",
       "</table>\n",
       "</div>"
      ],
      "text/plain": [
       "                                               title  rating\n",
       "0   A Light in the Storm: The Civil War Diary of ...       4\n",
       "1                              Always Have Popsicles       1\n",
       "2               Apple Magic (The Collector's series)       1\n",
       "3   Ask Lily (Young Women of Faith: Lily Series, ...       1\n",
       "4   Beyond IBM: Leadership Marketing and Finance ...       1"
      ]
     },
     "execution_count": 249,
     "metadata": {},
     "output_type": "execute_result"
    }
   ],
   "source": [
    "num_rating.head()"
   ]
  },
  {
   "cell_type": "code",
   "execution_count": 250,
   "id": "4bec93f8",
   "metadata": {},
   "outputs": [
    {
     "data": {
      "text/html": [
       "<div>\n",
       "<style scoped>\n",
       "    .dataframe tbody tr th:only-of-type {\n",
       "        vertical-align: middle;\n",
       "    }\n",
       "\n",
       "    .dataframe tbody tr th {\n",
       "        vertical-align: top;\n",
       "    }\n",
       "\n",
       "    .dataframe thead th {\n",
       "        text-align: right;\n",
       "    }\n",
       "</style>\n",
       "<table border=\"1\" class=\"dataframe\">\n",
       "  <thead>\n",
       "    <tr style=\"text-align: right;\">\n",
       "      <th></th>\n",
       "      <th>rating</th>\n",
       "    </tr>\n",
       "  </thead>\n",
       "  <tbody>\n",
       "    <tr>\n",
       "      <th>count</th>\n",
       "      <td>241071.000000</td>\n",
       "    </tr>\n",
       "    <tr>\n",
       "      <th>mean</th>\n",
       "      <td>4.277312</td>\n",
       "    </tr>\n",
       "    <tr>\n",
       "      <th>std</th>\n",
       "      <td>16.738685</td>\n",
       "    </tr>\n",
       "    <tr>\n",
       "      <th>min</th>\n",
       "      <td>1.000000</td>\n",
       "    </tr>\n",
       "    <tr>\n",
       "      <th>25%</th>\n",
       "      <td>1.000000</td>\n",
       "    </tr>\n",
       "    <tr>\n",
       "      <th>50%</th>\n",
       "      <td>1.000000</td>\n",
       "    </tr>\n",
       "    <tr>\n",
       "      <th>75%</th>\n",
       "      <td>3.000000</td>\n",
       "    </tr>\n",
       "    <tr>\n",
       "      <th>max</th>\n",
       "      <td>2502.000000</td>\n",
       "    </tr>\n",
       "  </tbody>\n",
       "</table>\n",
       "</div>"
      ],
      "text/plain": [
       "              rating\n",
       "count  241071.000000\n",
       "mean        4.277312\n",
       "std        16.738685\n",
       "min         1.000000\n",
       "25%         1.000000\n",
       "50%         1.000000\n",
       "75%         3.000000\n",
       "max      2502.000000"
      ]
     },
     "execution_count": 250,
     "metadata": {},
     "output_type": "execute_result"
    }
   ],
   "source": [
    "num_rating[['rating']].describe()"
   ]
  },
  {
   "cell_type": "markdown",
   "id": "32fcfc6e",
   "metadata": {},
   "source": [
    "The statistical summary of number of ratings per book reveals that the majority of books have relatively few ratings, with a median value of 1 rating per book. However, there are ones with a maximum of 2,502 ratings, indicating the presence of highly popular books that have garnered significant attention and engagement from users. \n"
   ]
  },
  {
   "cell_type": "code",
   "execution_count": 251,
   "id": "2ba576c4",
   "metadata": {},
   "outputs": [
    {
     "data": {
      "text/plain": [
       "array([   4,    1,    2,   10,    9,   11,   17,    3,    5,   47,    8,\n",
       "          6,   12,   22,    7,   61,   13,   23,   37,   28,   65,   14,\n",
       "         20,  284,  509,   24,   25,   90,   21,   71,   57,  106,   30,\n",
       "        356,   85,  151,   16,   50,   31,  125,   41,   74,   44,   46,\n",
       "         32,   18,  136,   15,  346,   35,   29,   26,   38,  236,   27,\n",
       "        265,  156,   33,   52,   83,   67,   81,  139,   92,   54,  108,\n",
       "         39,  140,  116,   40,   42,   34,   48,  169,  104,   99,  302,\n",
       "        285,   86,  192,  109,   59,   75,  128,  174,  327,   19,   49,\n",
       "         36,   51,   66,  838,   68,  149,   64,   82,   63,   76,  413,\n",
       "         60,   56,  118,   78,   45,   95,   62,   43,   97,  135,  210,\n",
       "        549,   96,  101,  164,  205,  378,  273,   53,  158,  150,   70,\n",
       "         69,  279,  262,  121,  126,   77,  141,  332,  112,   84,  187,\n",
       "         58,  258,   55,  184,  147,  304,  110,   93,  114,   91,   72,\n",
       "         94,   80,  326,  222,  170,  670,  167,  233,   88,  142,  111,\n",
       "        160,   89,  248,  220,  230,   73,  107,  138,  181,  103,  247,\n",
       "         79,  276,  131,  195,  119,  229,  175,  178,  350,  191,  180,\n",
       "        102,  182,  207,  360,  263,  189,  201,  137,  165,  226,  155,\n",
       "        239,  815,  224,  171,  177,  193,  214,  198,   98,  143,  120,\n",
       "        287,  129,  344,  145,  249,  148,  152,  194,  311,  202,  228,\n",
       "        299,  183,  204,   87,  199,  122,  134,  176,  127,  130,  133,\n",
       "        293,  318,  740,  275,  481,  146,  203,  392,  123,  190,  209,\n",
       "        216,  115,  105,  161,  237,  409,  227,  321,  124,  254,  238,\n",
       "        225,  313,  231,  219,  257,  163,  526,  168,  490,  144,  468,\n",
       "        269,  556,  387,  347,  428,  278,  575,  162,  179,  154,  113,\n",
       "        200,  588,  309,  197,  260,  508,  372,  252,  100,  288,  153,\n",
       "        488,  117,  256,  157,  186,  664,  274,  166,  434,  259,  301,\n",
       "        457,  159,  496,  380,  291,  188,  362,  196,  335,  298,  283,\n",
       "        172,  277,  294,  242,  253,  244,  185,  402,  382,  364,  208,\n",
       "        446,  322,  662,  232,  374,  573,  241,  266,  435,  389,  132,\n",
       "        255,  384,  319,  443,  449,  393,  483,  314,  223,  898,  376,\n",
       "        368,  569,  430,  289,  336,  264,  268,  281,  507,  555,  458,\n",
       "        337,  312, 1295,  173,  828,  431,  650,  478,  581,  404,  568,\n",
       "        267,  494,  501,  466,  723,  308,  211,  520,  774,  212,  545,\n",
       "        655,  213,  617,  221,  552,  510,  493,  379,  342,  396,  585,\n",
       "        286, 2502,  234], dtype=int64)"
      ]
     },
     "execution_count": 251,
     "metadata": {},
     "output_type": "execute_result"
    }
   ],
   "source": [
    "num_rating['rating'].unique()"
   ]
  },
  {
   "cell_type": "code",
   "execution_count": 252,
   "id": "439ec37b",
   "metadata": {},
   "outputs": [
    {
     "data": {
      "text/plain": [
       "1      127513\n",
       "2       42729\n",
       "3       20255\n",
       "4       11364\n",
       "5        7529\n",
       "        ...  \n",
       "588         1\n",
       "575         1\n",
       "428         1\n",
       "347         1\n",
       "234         1\n",
       "Name: rating, Length: 377, dtype: int64"
      ]
     },
     "execution_count": 252,
     "metadata": {},
     "output_type": "execute_result"
    }
   ],
   "source": [
    "num_rating['rating'].value_counts()"
   ]
  },
  {
   "cell_type": "markdown",
   "id": "1aeab65f",
   "metadata": {},
   "source": [
    "While we initially considered books with a low number of reviews as potentially not recommended, we opted not to exclude them from our analysis. This decision was influenced by the possibility that these books may be newly added to the dataset, and we wanted to ensure that all books had an opportunity to be included in our recommendations."
   ]
  },
  {
   "cell_type": "code",
   "execution_count": 132,
   "id": "e8ccd122",
   "metadata": {},
   "outputs": [],
   "source": [
    "num_rating.rename(columns = {\n",
    "    'rating':'num_of_ratings'\n",
    "}, inplace=True)"
   ]
  },
  {
   "cell_type": "markdown",
   "id": "1d0bc317",
   "metadata": {},
   "source": [
    "Here, We Combine the 'ratings_with_books' Data with the 'num_rating' Data based on the 'title' column to associate each book's rating count with its respective rating data."
   ]
  },
  {
   "cell_type": "code",
   "execution_count": 135,
   "id": "fe686f8e",
   "metadata": {},
   "outputs": [],
   "source": [
    "final_rating = ratings_with_books.merge(num_rating, on = \"title\")"
   ]
  },
  {
   "cell_type": "code",
   "execution_count": 136,
   "id": "e0f87482",
   "metadata": {},
   "outputs": [
    {
     "data": {
      "text/html": [
       "<div>\n",
       "<style scoped>\n",
       "    .dataframe tbody tr th:only-of-type {\n",
       "        vertical-align: middle;\n",
       "    }\n",
       "\n",
       "    .dataframe tbody tr th {\n",
       "        vertical-align: top;\n",
       "    }\n",
       "\n",
       "    .dataframe thead th {\n",
       "        text-align: right;\n",
       "    }\n",
       "</style>\n",
       "<table border=\"1\" class=\"dataframe\">\n",
       "  <thead>\n",
       "    <tr style=\"text-align: right;\">\n",
       "      <th></th>\n",
       "      <th>user_id</th>\n",
       "      <th>ISBN</th>\n",
       "      <th>rating</th>\n",
       "      <th>title</th>\n",
       "      <th>author</th>\n",
       "      <th>year</th>\n",
       "      <th>publisher</th>\n",
       "      <th>img_url</th>\n",
       "      <th>num_of_ratings</th>\n",
       "    </tr>\n",
       "  </thead>\n",
       "  <tbody>\n",
       "    <tr>\n",
       "      <th>0</th>\n",
       "      <td>276725</td>\n",
       "      <td>034545104X</td>\n",
       "      <td>0</td>\n",
       "      <td>Flesh Tones: A Novel</td>\n",
       "      <td>M. J. Rose</td>\n",
       "      <td>2002</td>\n",
       "      <td>Ballantine Books</td>\n",
       "      <td>http://images.amazon.com/images/P/034545104X.0...</td>\n",
       "      <td>60</td>\n",
       "    </tr>\n",
       "    <tr>\n",
       "      <th>1</th>\n",
       "      <td>2313</td>\n",
       "      <td>034545104X</td>\n",
       "      <td>5</td>\n",
       "      <td>Flesh Tones: A Novel</td>\n",
       "      <td>M. J. Rose</td>\n",
       "      <td>2002</td>\n",
       "      <td>Ballantine Books</td>\n",
       "      <td>http://images.amazon.com/images/P/034545104X.0...</td>\n",
       "      <td>60</td>\n",
       "    </tr>\n",
       "    <tr>\n",
       "      <th>2</th>\n",
       "      <td>6543</td>\n",
       "      <td>034545104X</td>\n",
       "      <td>0</td>\n",
       "      <td>Flesh Tones: A Novel</td>\n",
       "      <td>M. J. Rose</td>\n",
       "      <td>2002</td>\n",
       "      <td>Ballantine Books</td>\n",
       "      <td>http://images.amazon.com/images/P/034545104X.0...</td>\n",
       "      <td>60</td>\n",
       "    </tr>\n",
       "    <tr>\n",
       "      <th>3</th>\n",
       "      <td>8680</td>\n",
       "      <td>034545104X</td>\n",
       "      <td>5</td>\n",
       "      <td>Flesh Tones: A Novel</td>\n",
       "      <td>M. J. Rose</td>\n",
       "      <td>2002</td>\n",
       "      <td>Ballantine Books</td>\n",
       "      <td>http://images.amazon.com/images/P/034545104X.0...</td>\n",
       "      <td>60</td>\n",
       "    </tr>\n",
       "    <tr>\n",
       "      <th>4</th>\n",
       "      <td>10314</td>\n",
       "      <td>034545104X</td>\n",
       "      <td>9</td>\n",
       "      <td>Flesh Tones: A Novel</td>\n",
       "      <td>M. J. Rose</td>\n",
       "      <td>2002</td>\n",
       "      <td>Ballantine Books</td>\n",
       "      <td>http://images.amazon.com/images/P/034545104X.0...</td>\n",
       "      <td>60</td>\n",
       "    </tr>\n",
       "  </tbody>\n",
       "</table>\n",
       "</div>"
      ],
      "text/plain": [
       "   user_id        ISBN  rating                 title      author  year  \\\n",
       "0   276725  034545104X       0  Flesh Tones: A Novel  M. J. Rose  2002   \n",
       "1     2313  034545104X       5  Flesh Tones: A Novel  M. J. Rose  2002   \n",
       "2     6543  034545104X       0  Flesh Tones: A Novel  M. J. Rose  2002   \n",
       "3     8680  034545104X       5  Flesh Tones: A Novel  M. J. Rose  2002   \n",
       "4    10314  034545104X       9  Flesh Tones: A Novel  M. J. Rose  2002   \n",
       "\n",
       "          publisher                                            img_url  \\\n",
       "0  Ballantine Books  http://images.amazon.com/images/P/034545104X.0...   \n",
       "1  Ballantine Books  http://images.amazon.com/images/P/034545104X.0...   \n",
       "2  Ballantine Books  http://images.amazon.com/images/P/034545104X.0...   \n",
       "3  Ballantine Books  http://images.amazon.com/images/P/034545104X.0...   \n",
       "4  Ballantine Books  http://images.amazon.com/images/P/034545104X.0...   \n",
       "\n",
       "   num_of_ratings  \n",
       "0              60  \n",
       "1              60  \n",
       "2              60  \n",
       "3              60  \n",
       "4              60  "
      ]
     },
     "execution_count": 136,
     "metadata": {},
     "output_type": "execute_result"
    }
   ],
   "source": [
    "final_rating.head(5)"
   ]
  },
  {
   "cell_type": "code",
   "execution_count": 137,
   "id": "268469b4",
   "metadata": {},
   "outputs": [
    {
     "data": {
      "text/plain": [
       "(1031136, 9)"
      ]
     },
     "execution_count": 137,
     "metadata": {},
     "output_type": "execute_result"
    }
   ],
   "source": [
    "final_rating.shape"
   ]
  },
  {
   "cell_type": "markdown",
   "id": "75a1b39f",
   "metadata": {},
   "source": [
    "<b> Here, we are categorizing the books by their author name</b>"
   ]
  },
  {
   "cell_type": "code",
   "execution_count": 143,
   "id": "2e420a06",
   "metadata": {},
   "outputs": [
    {
     "data": {
      "text/html": [
       "<div>\n",
       "<style scoped>\n",
       "    .dataframe tbody tr th:only-of-type {\n",
       "        vertical-align: middle;\n",
       "    }\n",
       "\n",
       "    .dataframe tbody tr th {\n",
       "        vertical-align: top;\n",
       "    }\n",
       "\n",
       "    .dataframe thead th {\n",
       "        text-align: right;\n",
       "    }\n",
       "</style>\n",
       "<table border=\"1\" class=\"dataframe\">\n",
       "  <thead>\n",
       "    <tr style=\"text-align: right;\">\n",
       "      <th></th>\n",
       "      <th>author</th>\n",
       "      <th>num_of_ratings</th>\n",
       "    </tr>\n",
       "  </thead>\n",
       "  <tbody>\n",
       "    <tr>\n",
       "      <th>0</th>\n",
       "      <td>D. Chiel</td>\n",
       "      <td>16</td>\n",
       "    </tr>\n",
       "    <tr>\n",
       "      <th>1</th>\n",
       "      <td>J. D. Landis</td>\n",
       "      <td>2</td>\n",
       "    </tr>\n",
       "    <tr>\n",
       "      <th>2</th>\n",
       "      <td>Mimma Balia</td>\n",
       "      <td>1</td>\n",
       "    </tr>\n",
       "    <tr>\n",
       "      <th>3</th>\n",
       "      <td>'N Sync</td>\n",
       "      <td>1</td>\n",
       "    </tr>\n",
       "    <tr>\n",
       "      <th>4</th>\n",
       "      <td>142 moms from all over the world</td>\n",
       "      <td>1</td>\n",
       "    </tr>\n",
       "    <tr>\n",
       "      <th>...</th>\n",
       "      <td>...</td>\n",
       "      <td>...</td>\n",
       "    </tr>\n",
       "    <tr>\n",
       "      <th>101583</th>\n",
       "      <td>Â¢ystein LÂ²nn</td>\n",
       "      <td>1</td>\n",
       "    </tr>\n",
       "    <tr>\n",
       "      <th>101584</th>\n",
       "      <td>Ã?dÃ¶n von HorvÃ¡th</td>\n",
       "      <td>6</td>\n",
       "    </tr>\n",
       "    <tr>\n",
       "      <th>101585</th>\n",
       "      <td>Ã?Â?dÃ?Â¶n von Horvath</td>\n",
       "      <td>4</td>\n",
       "    </tr>\n",
       "    <tr>\n",
       "      <th>101586</th>\n",
       "      <td>Ã?Â?pictÃ?Â¨te</td>\n",
       "      <td>4</td>\n",
       "    </tr>\n",
       "    <tr>\n",
       "      <th>101587</th>\n",
       "      <td>Ã?Â?ric Holder</td>\n",
       "      <td>24</td>\n",
       "    </tr>\n",
       "  </tbody>\n",
       "</table>\n",
       "<p>101588 rows × 2 columns</p>\n",
       "</div>"
      ],
      "text/plain": [
       "                                  author  num_of_ratings\n",
       "0                               D. Chiel              16\n",
       "1                           J. D. Landis               2\n",
       "2                            Mimma Balia               1\n",
       "3                                'N Sync               1\n",
       "4       142 moms from all over the world               1\n",
       "...                                  ...             ...\n",
       "101583                    Â¢ystein LÂ²nn               1\n",
       "101584               Ã?dÃ¶n von HorvÃ¡th               6\n",
       "101585            Ã?Â?dÃ?Â¶n von Horvath               4\n",
       "101586                    Ã?Â?pictÃ?Â¨te               4\n",
       "101587                    Ã?Â?ric Holder              24\n",
       "\n",
       "[101588 rows x 2 columns]"
      ]
     },
     "execution_count": 143,
     "metadata": {},
     "output_type": "execute_result"
    }
   ],
   "source": [
    "author_ratings = final_rating.groupby('author')['num_of_ratings'].sum().reset_index()\n",
    "author_ratings"
   ]
  },
  {
   "cell_type": "code",
   "execution_count": 145,
   "id": "5c1d7788",
   "metadata": {},
   "outputs": [],
   "source": [
    "author_rating = final_rating.groupby('author')['num_of_ratings'].sum().reset_index()\n",
    "\n",
    "# Sorting the DataFrame in descending order based on the total ratings\n",
    "author_ratings_sorted = author_ratings.sort_values(by='num_of_ratings', ascending=False)\n",
    "\n",
    "# Get the top 10 authors with the highest total ratings\n",
    "top_10_authors = author_ratings_sorted.head(10)"
   ]
  },
  {
   "cell_type": "code",
   "execution_count": 148,
   "id": "e84cb661",
   "metadata": {},
   "outputs": [
    {
     "data": {
      "image/png": "[encoded data removed]",
      "text/plain": [
       "<Figure size 864x432 with 1 Axes>"
      ]
     },
     "metadata": {
      "needs_background": "light"
     },
     "output_type": "display_data"
    }
   ],
   "source": [
    "plt.figure(figsize=(12, 6))\n",
    "plt.barh(top_10_authors['author'], top_10_authors['num_of_ratings'], color='skyblue')\n",
    "plt.gca().invert_yaxis()  # Invert the y-axis to display the highest at the top\n",
    "plt.title('Top 10 Authors by Number of Ratings')\n",
    "plt.xlabel('Number of Ratings')\n",
    "plt.ylabel('Author')\n",
    "plt.grid(axis='x', linestyle='--', alpha=0.6)\n",
    "plt.show()"
   ]
  },
  {
   "cell_type": "markdown",
   "id": "e94dac02",
   "metadata": {},
   "source": [
    "The plot elegantly displays the top ten celebrated authors alongside the corresponding number of ratings they have received.\n",
    "<b> Rich Shapero </b> is the most celebrated one."
   ]
  },
  {
   "cell_type": "code",
   "execution_count": 256,
   "id": "2fa7722a",
   "metadata": {},
   "outputs": [
    {
     "data": {
      "text/html": [
       "<div>\n",
       "<style scoped>\n",
       "    .dataframe tbody tr th:only-of-type {\n",
       "        vertical-align: middle;\n",
       "    }\n",
       "\n",
       "    .dataframe tbody tr th {\n",
       "        vertical-align: top;\n",
       "    }\n",
       "\n",
       "    .dataframe thead th {\n",
       "        text-align: right;\n",
       "    }\n",
       "</style>\n",
       "<table border=\"1\" class=\"dataframe\">\n",
       "  <thead>\n",
       "    <tr style=\"text-align: right;\">\n",
       "      <th></th>\n",
       "      <th>user_id</th>\n",
       "      <th>ISBN</th>\n",
       "      <th>rating</th>\n",
       "      <th>title</th>\n",
       "      <th>author</th>\n",
       "      <th>year</th>\n",
       "      <th>publisher</th>\n",
       "      <th>img_url</th>\n",
       "      <th>num_of_ratings</th>\n",
       "    </tr>\n",
       "  </thead>\n",
       "  <tbody>\n",
       "    <tr>\n",
       "      <th>457343</th>\n",
       "      <td>256251</td>\n",
       "      <td>0394839102</td>\n",
       "      <td>0</td>\n",
       "      <td>The Berenstain Bears and the Spooky Old Tree (...</td>\n",
       "      <td>Stan Berenstain</td>\n",
       "      <td>1989</td>\n",
       "      <td>Random House Children's Books</td>\n",
       "      <td>http://images.amazon.com/images/P/0394839102.0...</td>\n",
       "      <td>6</td>\n",
       "    </tr>\n",
       "    <tr>\n",
       "      <th>720185</th>\n",
       "      <td>205735</td>\n",
       "      <td>0373705786</td>\n",
       "      <td>0</td>\n",
       "      <td>Last Buccaneer (Paranormal) (Harlequin Superro...</td>\n",
       "      <td>Lynn Erickson</td>\n",
       "      <td>1993</td>\n",
       "      <td>Harlequin</td>\n",
       "      <td>http://images.amazon.com/images/P/0373705786.0...</td>\n",
       "      <td>5</td>\n",
       "    </tr>\n",
       "    <tr>\n",
       "      <th>966741</th>\n",
       "      <td>175886</td>\n",
       "      <td>0373098316</td>\n",
       "      <td>0</td>\n",
       "      <td>Groom Wanted (From This Day Forward) (Silhouet...</td>\n",
       "      <td>Debbie MacOmber</td>\n",
       "      <td>1993</td>\n",
       "      <td>Silhouette</td>\n",
       "      <td>http://images.amazon.com/images/P/0373098316.0...</td>\n",
       "      <td>2</td>\n",
       "    </tr>\n",
       "    <tr>\n",
       "      <th>1020780</th>\n",
       "      <td>251613</td>\n",
       "      <td>0943358019</td>\n",
       "      <td>0</td>\n",
       "      <td>Wisdom of the Tarot</td>\n",
       "      <td>Elizabeth Haich</td>\n",
       "      <td>1983</td>\n",
       "      <td>Aurora Press</td>\n",
       "      <td>http://images.amazon.com/images/P/0943358019.0...</td>\n",
       "      <td>1</td>\n",
       "    </tr>\n",
       "    <tr>\n",
       "      <th>185276</th>\n",
       "      <td>108128</td>\n",
       "      <td>0446604275</td>\n",
       "      <td>0</td>\n",
       "      <td>Primary Colors: A Novel of Politics</td>\n",
       "      <td>Anonymous</td>\n",
       "      <td>1996</td>\n",
       "      <td>Warner Books</td>\n",
       "      <td>http://images.amazon.com/images/P/0446604275.0...</td>\n",
       "      <td>166</td>\n",
       "    </tr>\n",
       "    <tr>\n",
       "      <th>288445</th>\n",
       "      <td>37538</td>\n",
       "      <td>0380713810</td>\n",
       "      <td>10</td>\n",
       "      <td>Made in America</td>\n",
       "      <td>Bill Bryson</td>\n",
       "      <td>1996</td>\n",
       "      <td>Perennial</td>\n",
       "      <td>http://images.amazon.com/images/P/0380713810.0...</td>\n",
       "      <td>21</td>\n",
       "    </tr>\n",
       "    <tr>\n",
       "      <th>352812</th>\n",
       "      <td>194172</td>\n",
       "      <td>0449002985</td>\n",
       "      <td>0</td>\n",
       "      <td>Your Oasis on Flame Lake (Ballantine Reader's ...</td>\n",
       "      <td>LORNA LANDVIK</td>\n",
       "      <td>1998</td>\n",
       "      <td>Ballantine Books</td>\n",
       "      <td>http://images.amazon.com/images/P/0449002985.0...</td>\n",
       "      <td>38</td>\n",
       "    </tr>\n",
       "    <tr>\n",
       "      <th>400315</th>\n",
       "      <td>12538</td>\n",
       "      <td>0553230360</td>\n",
       "      <td>0</td>\n",
       "      <td>Beasts</td>\n",
       "      <td>John Crowley</td>\n",
       "      <td>1983</td>\n",
       "      <td>Bantam Books (Mm)</td>\n",
       "      <td>http://images.amazon.com/images/P/0553230360.0...</td>\n",
       "      <td>12</td>\n",
       "    </tr>\n",
       "    <tr>\n",
       "      <th>498742</th>\n",
       "      <td>142524</td>\n",
       "      <td>0064471101</td>\n",
       "      <td>0</td>\n",
       "      <td>The Magician's Nephew (rack) (Narnia)</td>\n",
       "      <td>C. S. Lewis</td>\n",
       "      <td>2002</td>\n",
       "      <td>HarperCollins</td>\n",
       "      <td>http://images.amazon.com/images/P/0064471101.0...</td>\n",
       "      <td>67</td>\n",
       "    </tr>\n",
       "    <tr>\n",
       "      <th>536332</th>\n",
       "      <td>127564</td>\n",
       "      <td>0786889616</td>\n",
       "      <td>0</td>\n",
       "      <td>Parallel Lies</td>\n",
       "      <td>Ridley Pearson</td>\n",
       "      <td>2002</td>\n",
       "      <td>Hyperion Press</td>\n",
       "      <td>http://images.amazon.com/images/P/0786889616.0...</td>\n",
       "      <td>74</td>\n",
       "    </tr>\n",
       "  </tbody>\n",
       "</table>\n",
       "</div>"
      ],
      "text/plain": [
       "         user_id        ISBN  rating  \\\n",
       "457343    256251  0394839102       0   \n",
       "720185    205735  0373705786       0   \n",
       "966741    175886  0373098316       0   \n",
       "1020780   251613  0943358019       0   \n",
       "185276    108128  0446604275       0   \n",
       "288445     37538  0380713810      10   \n",
       "352812    194172  0449002985       0   \n",
       "400315     12538  0553230360       0   \n",
       "498742    142524  0064471101       0   \n",
       "536332    127564  0786889616       0   \n",
       "\n",
       "                                                     title           author  \\\n",
       "457343   The Berenstain Bears and the Spooky Old Tree (...  Stan Berenstain   \n",
       "720185   Last Buccaneer (Paranormal) (Harlequin Superro...    Lynn Erickson   \n",
       "966741   Groom Wanted (From This Day Forward) (Silhouet...  Debbie MacOmber   \n",
       "1020780                                Wisdom of the Tarot  Elizabeth Haich   \n",
       "185276                 Primary Colors: A Novel of Politics        Anonymous   \n",
       "288445                                     Made in America      Bill Bryson   \n",
       "352812   Your Oasis on Flame Lake (Ballantine Reader's ...    LORNA LANDVIK   \n",
       "400315                                              Beasts     John Crowley   \n",
       "498742               The Magician's Nephew (rack) (Narnia)      C. S. Lewis   \n",
       "536332                                       Parallel Lies   Ridley Pearson   \n",
       "\n",
       "         year                      publisher  \\\n",
       "457343   1989  Random House Children's Books   \n",
       "720185   1993                      Harlequin   \n",
       "966741   1993                     Silhouette   \n",
       "1020780  1983                   Aurora Press   \n",
       "185276   1996                   Warner Books   \n",
       "288445   1996                      Perennial   \n",
       "352812   1998               Ballantine Books   \n",
       "400315   1983              Bantam Books (Mm)   \n",
       "498742   2002                  HarperCollins   \n",
       "536332   2002                 Hyperion Press   \n",
       "\n",
       "                                                   img_url  num_of_ratings  \n",
       "457343   http://images.amazon.com/images/P/0394839102.0...               6  \n",
       "720185   http://images.amazon.com/images/P/0373705786.0...               5  \n",
       "966741   http://images.amazon.com/images/P/0373098316.0...               2  \n",
       "1020780  http://images.amazon.com/images/P/0943358019.0...               1  \n",
       "185276   http://images.amazon.com/images/P/0446604275.0...             166  \n",
       "288445   http://images.amazon.com/images/P/0380713810.0...              21  \n",
       "352812   http://images.amazon.com/images/P/0449002985.0...              38  \n",
       "400315   http://images.amazon.com/images/P/0553230360.0...              12  \n",
       "498742   http://images.amazon.com/images/P/0064471101.0...              67  \n",
       "536332   http://images.amazon.com/images/P/0786889616.0...              74  "
      ]
     },
     "execution_count": 256,
     "metadata": {},
     "output_type": "execute_result"
    }
   ],
   "source": [
    "final_rating.sample(10)"
   ]
  },
  {
   "cell_type": "code",
   "execution_count": 257,
   "id": "54493c65",
   "metadata": {},
   "outputs": [
    {
     "data": {
      "text/plain": [
       "(1026358, 9)"
      ]
     },
     "execution_count": 257,
     "metadata": {},
     "output_type": "execute_result"
    }
   ],
   "source": [
    "final_rating.shape"
   ]
  },
  {
   "cell_type": "markdown",
   "id": "25a50549",
   "metadata": {},
   "source": [
    "<b> Here we handle a common data scenario where users may submit multiple reviews for the same book at different times. We are doing this to ensure the data consistency. </b>"
   ]
  },
  {
   "cell_type": "code",
   "execution_count": 157,
   "id": "b2a3c307",
   "metadata": {},
   "outputs": [],
   "source": [
    "final_rating.drop_duplicates(['title','user_id'], inplace = True)"
   ]
  },
  {
   "cell_type": "code",
   "execution_count": 258,
   "id": "325d7172",
   "metadata": {},
   "outputs": [
    {
     "data": {
      "text/plain": [
       "(1026358, 9)"
      ]
     },
     "execution_count": 258,
     "metadata": {},
     "output_type": "execute_result"
    }
   ],
   "source": [
    "final_rating.shape"
   ]
  },
  {
   "cell_type": "code",
   "execution_count": 259,
   "id": "fddbf5b4",
   "metadata": {},
   "outputs": [
    {
     "data": {
      "text/html": [
       "<div>\n",
       "<style scoped>\n",
       "    .dataframe tbody tr th:only-of-type {\n",
       "        vertical-align: middle;\n",
       "    }\n",
       "\n",
       "    .dataframe tbody tr th {\n",
       "        vertical-align: top;\n",
       "    }\n",
       "\n",
       "    .dataframe thead th {\n",
       "        text-align: right;\n",
       "    }\n",
       "</style>\n",
       "<table border=\"1\" class=\"dataframe\">\n",
       "  <thead>\n",
       "    <tr style=\"text-align: right;\">\n",
       "      <th></th>\n",
       "      <th>user_id</th>\n",
       "      <th>ISBN</th>\n",
       "      <th>rating</th>\n",
       "      <th>title</th>\n",
       "      <th>author</th>\n",
       "      <th>year</th>\n",
       "      <th>publisher</th>\n",
       "      <th>img_url</th>\n",
       "      <th>num_of_ratings</th>\n",
       "    </tr>\n",
       "  </thead>\n",
       "  <tbody>\n",
       "    <tr>\n",
       "      <th>734064</th>\n",
       "      <td>160393</td>\n",
       "      <td>0806519762</td>\n",
       "      <td>0</td>\n",
       "      <td>The 100 Most Influential Women of All Time: A ...</td>\n",
       "      <td>Deborah Felder</td>\n",
       "      <td>1998</td>\n",
       "      <td>Citadel Press</td>\n",
       "      <td>http://images.amazon.com/images/P/0806519762.0...</td>\n",
       "      <td>2</td>\n",
       "    </tr>\n",
       "    <tr>\n",
       "      <th>464623</th>\n",
       "      <td>20501</td>\n",
       "      <td>3442453305</td>\n",
       "      <td>9</td>\n",
       "      <td>Herr Lehmann.</td>\n",
       "      <td>Sven Regener</td>\n",
       "      <td>2003</td>\n",
       "      <td>Goldmann</td>\n",
       "      <td>http://images.amazon.com/images/P/3442453305.0...</td>\n",
       "      <td>39</td>\n",
       "    </tr>\n",
       "    <tr>\n",
       "      <th>390687</th>\n",
       "      <td>187029</td>\n",
       "      <td>045120834X</td>\n",
       "      <td>0</td>\n",
       "      <td>Murder of a Snake in the Grass (Scumble River ...</td>\n",
       "      <td>Denise Swanson</td>\n",
       "      <td>2003</td>\n",
       "      <td>Signet Book</td>\n",
       "      <td>http://images.amazon.com/images/P/045120834X.0...</td>\n",
       "      <td>13</td>\n",
       "    </tr>\n",
       "    <tr>\n",
       "      <th>397513</th>\n",
       "      <td>107021</td>\n",
       "      <td>0446524131</td>\n",
       "      <td>0</td>\n",
       "      <td>Something More: Excavating Your Authentic Self</td>\n",
       "      <td>Sarah Ban Breathnach</td>\n",
       "      <td>1998</td>\n",
       "      <td>Warner Books</td>\n",
       "      <td>http://images.amazon.com/images/P/0446524131.0...</td>\n",
       "      <td>50</td>\n",
       "    </tr>\n",
       "    <tr>\n",
       "      <th>577022</th>\n",
       "      <td>78783</td>\n",
       "      <td>0671683144</td>\n",
       "      <td>0</td>\n",
       "      <td>Sing to Me of Dreams</td>\n",
       "      <td>Kathryn Lynn Davis</td>\n",
       "      <td>1992</td>\n",
       "      <td>Pocket Books</td>\n",
       "      <td>http://images.amazon.com/images/P/0671683144.0...</td>\n",
       "      <td>16</td>\n",
       "    </tr>\n",
       "    <tr>\n",
       "      <th>533073</th>\n",
       "      <td>225810</td>\n",
       "      <td>0446350397</td>\n",
       "      <td>0</td>\n",
       "      <td>Freaky Deaky</td>\n",
       "      <td>Elmore Leonard</td>\n",
       "      <td>1989</td>\n",
       "      <td>Warner Books</td>\n",
       "      <td>http://images.amazon.com/images/P/0446350397.0...</td>\n",
       "      <td>29</td>\n",
       "    </tr>\n",
       "    <tr>\n",
       "      <th>380259</th>\n",
       "      <td>143415</td>\n",
       "      <td>0380792486</td>\n",
       "      <td>0</td>\n",
       "      <td>Outlaw Mountain: A Joanna Brady Mystery</td>\n",
       "      <td>J.A. Jance</td>\n",
       "      <td>2004</td>\n",
       "      <td>Avon</td>\n",
       "      <td>http://images.amazon.com/images/P/0380792486.0...</td>\n",
       "      <td>40</td>\n",
       "    </tr>\n",
       "  </tbody>\n",
       "</table>\n",
       "</div>"
      ],
      "text/plain": [
       "        user_id        ISBN  rating  \\\n",
       "734064   160393  0806519762       0   \n",
       "464623    20501  3442453305       9   \n",
       "390687   187029  045120834X       0   \n",
       "397513   107021  0446524131       0   \n",
       "577022    78783  0671683144       0   \n",
       "533073   225810  0446350397       0   \n",
       "380259   143415  0380792486       0   \n",
       "\n",
       "                                                    title  \\\n",
       "734064  The 100 Most Influential Women of All Time: A ...   \n",
       "464623                                      Herr Lehmann.   \n",
       "390687  Murder of a Snake in the Grass (Scumble River ...   \n",
       "397513     Something More: Excavating Your Authentic Self   \n",
       "577022                               Sing to Me of Dreams   \n",
       "533073                                       Freaky Deaky   \n",
       "380259            Outlaw Mountain: A Joanna Brady Mystery   \n",
       "\n",
       "                      author  year      publisher  \\\n",
       "734064        Deborah Felder  1998  Citadel Press   \n",
       "464623          Sven Regener  2003       Goldmann   \n",
       "390687        Denise Swanson  2003    Signet Book   \n",
       "397513  Sarah Ban Breathnach  1998   Warner Books   \n",
       "577022    Kathryn Lynn Davis  1992   Pocket Books   \n",
       "533073        Elmore Leonard  1989   Warner Books   \n",
       "380259            J.A. Jance  2004           Avon   \n",
       "\n",
       "                                                  img_url  num_of_ratings  \n",
       "734064  http://images.amazon.com/images/P/0806519762.0...               2  \n",
       "464623  http://images.amazon.com/images/P/3442453305.0...              39  \n",
       "390687  http://images.amazon.com/images/P/045120834X.0...              13  \n",
       "397513  http://images.amazon.com/images/P/0446524131.0...              50  \n",
       "577022  http://images.amazon.com/images/P/0671683144.0...              16  \n",
       "533073  http://images.amazon.com/images/P/0446350397.0...              29  \n",
       "380259  http://images.amazon.com/images/P/0380792486.0...              40  "
      ]
     },
     "execution_count": 259,
     "metadata": {},
     "output_type": "execute_result"
    }
   ],
   "source": [
    "final_rating.sample(7)"
   ]
  },
  {
   "cell_type": "markdown",
   "id": "5699bc4f",
   "metadata": {},
   "source": [
    "In this exploratory data analysis (EDA), we've meticulously examined the book recommendation dataset. We began by addressing missing values to ensure data integrity. Next, we explored feature values, gaining insights into books, user interactions, and ratings. Notably, we strategically combined three tables—book information, user details, and user ratings—into a final rating dataset, primed for training recommendation models.\n",
    "\n",
    "This EDA has laid a solid foundation for our next steps: the development of efficient recommendation algorithms. Our next step is to start with modeling and training process.\n"
   ]
  },
  {
   "cell_type": "code",
   "execution_count": null,
   "id": "a1f3238c",
   "metadata": {},
   "outputs": [],
   "source": []
  }
 ],
 "metadata": {
  "kernelspec": {
   "display_name": "Python 3 (ipykernel)",
   "language": "python",
   "name": "python3"
  },
  "language_info": {
   "codemirror_mode": {
    "name": "ipython",
    "version": 3
   },
   "file_extension": ".py",
   "mimetype": "text/x-python",
   "name": "python",
   "nbconvert_exporter": "python",
   "pygments_lexer": "ipython3",
   "version": "3.9.12"
  }
 },
 "nbformat": 4,
 "nbformat_minor": 5
}
